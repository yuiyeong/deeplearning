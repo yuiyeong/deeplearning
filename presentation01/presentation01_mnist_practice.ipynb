{
 "cells": [
  {
   "metadata": {},
   "cell_type": "markdown",
   "source": [
    "# MNIST 데이터셋을 Classification Model 로 구현해보기\n",
    "- 풀고자 하는 문제는, 흑백 손글씨 이미지를 보고, 이 손글씨가 0 ~ 9 중 어떤 숫자인지를 맞추는 문제입니다.\n",
    "- 즉, 흑백 이미지를 0 ~ 9, 총 10개의 숫자로 분류를 해야합니다.\n",
    "- 그래서 MNIST 데이터셋을 input 으로 받아서 10 개의 숫자 중 1개로 분류해주는 Classification Model 을 만들어 보겠습니다.  "
   ],
   "id": "ba99047ba095c673"
  },
  {
   "cell_type": "code",
   "id": "initial_id",
   "metadata": {
    "collapsed": true,
    "ExecuteTime": {
     "end_time": "2024-09-16T11:38:59.471695Z",
     "start_time": "2024-09-16T11:38:58.368948Z"
    }
   },
   "source": [
    "import torch\n",
    "import torch.nn as nn\n",
    "import torchvision\n",
    "import torchvision.transforms as transforms"
   ],
   "outputs": [],
   "execution_count": 1
  },
  {
   "metadata": {
    "ExecuteTime": {
     "end_time": "2024-09-16T11:39:01.412098Z",
     "start_time": "2024-09-16T11:39:01.409195Z"
    }
   },
   "cell_type": "code",
   "source": [
    "BATCH_SIZE = 256\n",
    "LEARNING_RATE = 0.001\n",
    "NUM_EPOCHS = 100"
   ],
   "id": "b77470001b46cddb",
   "outputs": [],
   "execution_count": 2
  },
  {
   "metadata": {
    "ExecuteTime": {
     "end_time": "2024-09-16T11:39:02.701158Z",
     "start_time": "2024-09-16T11:39:02.667311Z"
    }
   },
   "cell_type": "code",
   "source": [
    "transform = transforms.ToTensor()\n",
    "\n",
    "train_set = torchvision.datasets.MNIST(\n",
    "    root=\"../data\", train=True, transform=transform, download=True\n",
    ")\n",
    "train_loader = torch.utils.data.DataLoader(\n",
    "    train_set, batch_size=BATCH_SIZE, shuffle=True, num_workers=2, pin_memory=True\n",
    ")\n",
    "\n",
    "test_set = torchvision.datasets.MNIST(\n",
    "    root=\"../data\", train=False, transform=transform, download=True\n",
    ")\n",
    "test_loader = torch.utils.data.DataLoader(\n",
    "    test_set, batch_size=BATCH_SIZE, shuffle=False\n",
    ")"
   ],
   "id": "ac0d20ade2ddff9",
   "outputs": [],
   "execution_count": 3
  },
  {
   "metadata": {
    "ExecuteTime": {
     "end_time": "2024-09-16T11:39:05.958734Z",
     "start_time": "2024-09-16T11:39:05.943082Z"
    }
   },
   "cell_type": "code",
   "source": [
    "def get_device() -> torch.device:\n",
    "    \"\"\"\n",
    "    mps, cuda, cpu 순으로 사용 가능을 체크해서 반환\n",
    "    :return: 사용 가능한 pytorch device\n",
    "    \"\"\"\n",
    "    if torch.backends.mps.is_available():\n",
    "        return torch.device(\"mps\")\n",
    "    elif torch.cuda.is_available():\n",
    "        return torch.device(\"cuda\")\n",
    "    else:\n",
    "        return torch.device(\"cpu\")\n",
    "\n",
    "\n",
    "device = get_device()\n",
    "device"
   ],
   "id": "dbb1468cc4fdc98c",
   "outputs": [
    {
     "data": {
      "text/plain": [
       "device(type='mps')"
      ]
     },
     "execution_count": 4,
     "metadata": {},
     "output_type": "execute_result"
    }
   ],
   "execution_count": 4
  },
  {
   "metadata": {},
   "cell_type": "markdown",
   "source": [
    "## Cross Entropy Loss 함수\n",
    "- Cross Entropy Loss (교차 엔트로피 손실)는 분류 문제에서 널리 사용되는 손실 함수\n",
    "- 이 함수는 모델의 예측 확률 분포와 실제 레이블의 확률 분포 간의 차이를 측정\n",
    "\n",
    "### 수식\n",
    "$$L = -\\sum_{i=1}^{C} y_i \\log(p_i)$$\n",
    "- $C$는 클래스의 수\n",
    "- $y_i$는 실제 레이블 (원-핫 인코딩)\n",
    "- $p_i$는 클래스 $i$에 대한 모델의 예측 확률\n",
    "\n",
    "### MNIST 분류에서의 사용 이유\n",
    "- 확률적 해석 \n",
    "   - Cross Entropy Loss를 사용하면 모델의 출력을 확률로 해석할 수 있습니다.\n",
    "   - MNIST에서 각 숫자(0-9)에 대한 예측 확률을 직접적으로 얻을 수 있습니다.\n",
    "\n",
    "- 학습 효율성 \n",
    "   - 오차가 클수록 더 큰 페널티를 부여합니다.\n",
    "   - 이는 모델이 잘못된 예측에 대해 더 빠르게 학습하도록 유도합니다.\n",
    "\n",
    "- 다중 클래스 적합성 \n",
    "   - MNIST는 10개의 클래스(0-9)를 가진 다중 클래스 문제입니다.\n",
    "   - Cross Entropy Loss는 다중 클래스 분류에 자연스럽게 적용됩니다.\n",
    "\n",
    "- 미분 가능성 \n",
    "   - 이 손실 함수는 연속적이고 미분 가능합니다.\n",
    "   - 이는 역전파 알고리즘을 사용한 신경망 학습에 필수적입니다.\n"
   ],
   "id": "3b7660ad98f6e54a"
  },
  {
   "metadata": {
    "ExecuteTime": {
     "end_time": "2024-09-16T11:39:09.903480Z",
     "start_time": "2024-09-16T11:39:09.899243Z"
    }
   },
   "cell_type": "code",
   "source": [
    "class SimpleMNISTClassificationModel(nn.Module):\n",
    "    \"\"\"\n",
    "    MNIST dataset 과 같은 이미지를 구분하는 Model\n",
    "    \"\"\"\n",
    "\n",
    "    def __init__(self, input_dimension, output_dimension):\n",
    "        super(SimpleMNISTClassificationModel, self).__init__()\n",
    "        hidden_dim = 1024\n",
    "        self.layer1 = nn.Linear(input_dimension, hidden_dim)\n",
    "        self.layer2 = nn.Linear(hidden_dim, hidden_dim)\n",
    "        self.layer3 = nn.Linear(hidden_dim, output_dimension)\n",
    "        self.activation = nn.ReLU()\n",
    "\n",
    "    def forward(self, x):\n",
    "        # x.shape: (batch_size, 1, 28, 28)\n",
    "        x = torch.flatten(x, start_dim=1)  # x.shape: (batch_size, 1 * 28 * 28)\n",
    "        x = self.activation(self.layer1(x))  # x.shape: (batch_size, 1024)\n",
    "        x = self.activation(self.layer2(x))  # x.shape: (batch_size, 1024)\n",
    "        x = self.activation(self.layer3(x))  # x.shape: (batch_size, 10)\n",
    "        return x"
   ],
   "id": "d272fc29ea9538b7",
   "outputs": [],
   "execution_count": 5
  },
  {
   "metadata": {
    "ExecuteTime": {
     "end_time": "2024-09-16T11:39:11.260736Z",
     "start_time": "2024-09-16T11:39:11.231471Z"
    }
   },
   "cell_type": "code",
   "source": [
    "# input dimension 은 이미지의 크기, output dimension 은 0 ~ 9 까지의 분류\n",
    "classification_model = SimpleMNISTClassificationModel(1 * 28 * 28, 10).to(device)"
   ],
   "id": "5cf6cfe4fa011253",
   "outputs": [],
   "execution_count": 6
  },
  {
   "metadata": {
    "ExecuteTime": {
     "end_time": "2024-09-16T11:39:12.277818Z",
     "start_time": "2024-09-16T11:39:12.274753Z"
    }
   },
   "cell_type": "code",
   "source": [
    "from torch.optim import SGD\n",
    "\n",
    "optimizer = SGD(classification_model.parameters(), lr=LEARNING_RATE)"
   ],
   "id": "acc774fba578be00",
   "outputs": [],
   "execution_count": 7
  },
  {
   "metadata": {
    "ExecuteTime": {
     "end_time": "2024-09-16T11:39:15.125235Z",
     "start_time": "2024-09-16T11:39:15.123114Z"
    }
   },
   "cell_type": "code",
   "source": [
    "# '손실 함수'를 'criterion'이라고 부르는 것은 PyTorch 의 관행\n",
    "# 단순히 '손실'을 넘어 '평가 기준'이라는 더 넓은 의미를 가짐\n",
    "# 이는 모델의 성능을 평가하고 최적화하는 기준이 됨\n",
    "criterion = nn.CrossEntropyLoss()"
   ],
   "id": "b144c2f5a532f92f",
   "outputs": [],
   "execution_count": 8
  },
  {
   "metadata": {
    "ExecuteTime": {
     "end_time": "2024-09-16T11:42:33.284190Z",
     "start_time": "2024-09-16T11:39:22.544065Z"
    }
   },
   "cell_type": "code",
   "source": [
    "training_accuracies = []\n",
    "\n",
    "for epoch in range(NUM_EPOCHS):\n",
    "    total_loss = 0.0\n",
    "\n",
    "    total_images = 0\n",
    "    total_correctness = 0\n",
    "    for data in train_loader:\n",
    "        classification_model.zero_grad()\n",
    "\n",
    "        inputs, labels = data\n",
    "        inputs, labels = inputs.to(device), labels.to(device)\n",
    "\n",
    "        outputs = classification_model(inputs)  # logits 이 출력됨.\n",
    "\n",
    "        loss = criterion(\n",
    "            outputs, labels\n",
    "        )  # cross entropy 에는 나온 출력값(logits) 그대로 넣어준다.\n",
    "        loss.backward()\n",
    "\n",
    "        optimizer.step()\n",
    "\n",
    "        total_loss += loss.item()\n",
    "\n",
    "        predictions = torch.argmax(\n",
    "            outputs, dim=-1\n",
    "        )  # 제일 점수가 높은 분류에 대한 인덱스만 뽑음 -> 예측한 분류 리스트가 됨\n",
    "\n",
    "        total_images += labels.shape[0]  # 총 이미지 수(== 총 레이블 수)\n",
    "        total_correctness += (\n",
    "            (labels == predictions).sum().item()\n",
    "        )  # 실제 레이블과 예측 레이블이 같은 것만 더 함 -> 몇 개를 맞추었는가\n",
    "\n",
    "    accuracy = total_correctness / total_images\n",
    "    print(f\"Epoch {epoch + 1:3d} | Loss: {total_loss} | Accuracy: {accuracy}\")\n",
    "\n",
    "    training_accuracies.append(accuracy)"
   ],
   "id": "8f11888362f0bdeb",
   "outputs": [
    {
     "name": "stdout",
     "output_type": "stream",
     "text": [
      "Epoch   1 | Loss: 540.2785341739655 | Accuracy: 0.13996666666666666\n",
      "Epoch   2 | Loss: 538.000344991684 | Accuracy: 0.20775\n",
      "Epoch   3 | Loss: 535.4515228271484 | Accuracy: 0.2765\n",
      "Epoch   4 | Loss: 532.5991287231445 | Accuracy: 0.3437\n",
      "Epoch   5 | Loss: 529.545934677124 | Accuracy: 0.406\n",
      "Epoch   6 | Loss: 526.2808675765991 | Accuracy: 0.4542\n",
      "Epoch   7 | Loss: 522.7319445610046 | Accuracy: 0.48115\n",
      "Epoch   8 | Loss: 518.7962293624878 | Accuracy: 0.49806666666666666\n",
      "Epoch   9 | Loss: 514.4300229549408 | Accuracy: 0.5071333333333333\n",
      "Epoch  10 | Loss: 509.56984972953796 | Accuracy: 0.514\n",
      "Epoch  11 | Loss: 504.14978218078613 | Accuracy: 0.5232833333333333\n",
      "Epoch  12 | Loss: 498.09056067466736 | Accuracy: 0.5270333333333334\n",
      "Epoch  13 | Loss: 491.33814454078674 | Accuracy: 0.5370166666666667\n",
      "Epoch  14 | Loss: 484.0396716594696 | Accuracy: 0.5418666666666667\n",
      "Epoch  15 | Loss: 476.0286206007004 | Accuracy: 0.5496833333333333\n",
      "Epoch  16 | Loss: 467.37899947166443 | Accuracy: 0.5577\n",
      "Epoch  17 | Loss: 458.2114074230194 | Accuracy: 0.5637166666666666\n",
      "Epoch  18 | Loss: 448.55693089962006 | Accuracy: 0.57175\n",
      "Epoch  19 | Loss: 438.6185231208801 | Accuracy: 0.5774333333333334\n",
      "Epoch  20 | Loss: 428.5498523712158 | Accuracy: 0.5831333333333333\n",
      "Epoch  21 | Loss: 418.2105801105499 | Accuracy: 0.5883333333333334\n",
      "Epoch  22 | Loss: 408.3292934894562 | Accuracy: 0.592\n",
      "Epoch  23 | Loss: 398.1057723760605 | Accuracy: 0.5957166666666667\n",
      "Epoch  24 | Loss: 385.92838156223297 | Accuracy: 0.5998833333333333\n",
      "Epoch  25 | Loss: 373.78098607063293 | Accuracy: 0.60355\n",
      "Epoch  26 | Loss: 362.1933730840683 | Accuracy: 0.6056666666666667\n",
      "Epoch  27 | Loss: 351.2799928188324 | Accuracy: 0.6086666666666667\n",
      "Epoch  28 | Loss: 341.12130296230316 | Accuracy: 0.6116833333333334\n",
      "Epoch  29 | Loss: 331.202996134758 | Accuracy: 0.6165333333333334\n",
      "Epoch  30 | Loss: 317.84368538856506 | Accuracy: 0.6215666666666667\n",
      "Epoch  31 | Loss: 305.73439133167267 | Accuracy: 0.63015\n",
      "Epoch  32 | Loss: 294.93064761161804 | Accuracy: 0.6397166666666667\n",
      "Epoch  33 | Loss: 285.61791467666626 | Accuracy: 0.6519666666666667\n",
      "Epoch  34 | Loss: 277.20449817180634 | Accuracy: 0.6648\n",
      "Epoch  35 | Loss: 269.4776619672775 | Accuracy: 0.6771666666666667\n",
      "Epoch  36 | Loss: 262.3294515609741 | Accuracy: 0.6870333333333334\n",
      "Epoch  37 | Loss: 255.94230443239212 | Accuracy: 0.6955333333333333\n",
      "Epoch  38 | Loss: 249.93806463479996 | Accuracy: 0.7037166666666667\n",
      "Epoch  39 | Loss: 244.29474633932114 | Accuracy: 0.7108\n",
      "Epoch  40 | Loss: 239.17022109031677 | Accuracy: 0.7161166666666666\n",
      "Epoch  41 | Loss: 234.36711078882217 | Accuracy: 0.7206\n",
      "Epoch  42 | Loss: 229.95756268501282 | Accuracy: 0.7253666666666667\n",
      "Epoch  43 | Loss: 225.71239173412323 | Accuracy: 0.7299\n",
      "Epoch  44 | Loss: 221.6549579501152 | Accuracy: 0.7335666666666667\n",
      "Epoch  45 | Loss: 217.92197680473328 | Accuracy: 0.7369\n",
      "Epoch  46 | Loss: 214.47183918952942 | Accuracy: 0.7394666666666667\n",
      "Epoch  47 | Loss: 211.2409863471985 | Accuracy: 0.7430666666666667\n",
      "Epoch  48 | Loss: 208.01657897233963 | Accuracy: 0.7452666666666666\n",
      "Epoch  49 | Loss: 205.05003368854523 | Accuracy: 0.7479833333333333\n",
      "Epoch  50 | Loss: 202.3250993490219 | Accuracy: 0.75005\n",
      "Epoch  51 | Loss: 199.54556727409363 | Accuracy: 0.7513333333333333\n",
      "Epoch  52 | Loss: 197.17828011512756 | Accuracy: 0.7534333333333333\n",
      "Epoch  53 | Loss: 194.63538712263107 | Accuracy: 0.7551333333333333\n",
      "Epoch  54 | Loss: 192.34528064727783 | Accuracy: 0.75675\n",
      "Epoch  55 | Loss: 190.38882845640182 | Accuracy: 0.7581833333333333\n",
      "Epoch  56 | Loss: 188.32160288095474 | Accuracy: 0.7600833333333333\n",
      "Epoch  57 | Loss: 186.38612526655197 | Accuracy: 0.7618\n",
      "Epoch  58 | Loss: 184.46431636810303 | Accuracy: 0.7629\n",
      "Epoch  59 | Loss: 182.8704622387886 | Accuracy: 0.7641166666666667\n",
      "Epoch  60 | Loss: 181.16482311487198 | Accuracy: 0.7655\n",
      "Epoch  61 | Loss: 179.5765237212181 | Accuracy: 0.7662333333333333\n",
      "Epoch  62 | Loss: 177.99854743480682 | Accuracy: 0.7674666666666666\n",
      "Epoch  63 | Loss: 176.56532269716263 | Accuracy: 0.7686333333333333\n",
      "Epoch  64 | Loss: 175.21737831830978 | Accuracy: 0.7694833333333333\n",
      "Epoch  65 | Loss: 173.77150106430054 | Accuracy: 0.7704833333333333\n",
      "Epoch  66 | Loss: 172.4974531531334 | Accuracy: 0.7716\n",
      "Epoch  67 | Loss: 171.42651176452637 | Accuracy: 0.7722666666666667\n",
      "Epoch  68 | Loss: 170.0844914317131 | Accuracy: 0.7730666666666667\n",
      "Epoch  69 | Loss: 169.0308799147606 | Accuracy: 0.77375\n",
      "Epoch  70 | Loss: 167.96528816223145 | Accuracy: 0.77505\n",
      "Epoch  71 | Loss: 166.89563542604446 | Accuracy: 0.7758666666666667\n",
      "Epoch  72 | Loss: 165.82948243618011 | Accuracy: 0.7766333333333333\n",
      "Epoch  73 | Loss: 164.92129451036453 | Accuracy: 0.7775166666666666\n",
      "Epoch  74 | Loss: 163.99299985170364 | Accuracy: 0.7786166666666666\n",
      "Epoch  75 | Loss: 163.03471851348877 | Accuracy: 0.7791333333333333\n",
      "Epoch  76 | Loss: 162.1148933172226 | Accuracy: 0.7800166666666667\n",
      "Epoch  77 | Loss: 161.18989977240562 | Accuracy: 0.7804333333333333\n",
      "Epoch  78 | Loss: 160.43416285514832 | Accuracy: 0.7813833333333333\n",
      "Epoch  79 | Loss: 159.68494081497192 | Accuracy: 0.782\n",
      "Epoch  80 | Loss: 159.01979404687881 | Accuracy: 0.7826833333333333\n",
      "Epoch  81 | Loss: 158.1765164732933 | Accuracy: 0.7830166666666667\n",
      "Epoch  82 | Loss: 157.6015945672989 | Accuracy: 0.7838666666666667\n",
      "Epoch  83 | Loss: 156.6878656744957 | Accuracy: 0.7846666666666666\n",
      "Epoch  84 | Loss: 155.9647862315178 | Accuracy: 0.7849166666666667\n",
      "Epoch  85 | Loss: 155.50573861598969 | Accuracy: 0.7853166666666667\n",
      "Epoch  86 | Loss: 154.7910887002945 | Accuracy: 0.78625\n",
      "Epoch  87 | Loss: 154.23827362060547 | Accuracy: 0.7868\n",
      "Epoch  88 | Loss: 153.51519280672073 | Accuracy: 0.7873166666666667\n",
      "Epoch  89 | Loss: 152.9484065771103 | Accuracy: 0.7880666666666667\n",
      "Epoch  90 | Loss: 152.43329644203186 | Accuracy: 0.7883\n",
      "Epoch  91 | Loss: 151.89836180210114 | Accuracy: 0.7887833333333333\n",
      "Epoch  92 | Loss: 151.17627188563347 | Accuracy: 0.78935\n",
      "Epoch  93 | Loss: 150.80306351184845 | Accuracy: 0.78975\n",
      "Epoch  94 | Loss: 150.29889607429504 | Accuracy: 0.7901666666666667\n",
      "Epoch  95 | Loss: 149.7420648932457 | Accuracy: 0.7905666666666666\n",
      "Epoch  96 | Loss: 149.15356874465942 | Accuracy: 0.7910166666666667\n",
      "Epoch  97 | Loss: 148.858613550663 | Accuracy: 0.7916833333333333\n",
      "Epoch  98 | Loss: 148.2027440071106 | Accuracy: 0.7920166666666667\n",
      "Epoch  99 | Loss: 147.85595124959946 | Accuracy: 0.7924166666666667\n",
      "Epoch 100 | Loss: 147.32854083180428 | Accuracy: 0.7927166666666666\n"
     ]
    }
   ],
   "execution_count": 9
  },
  {
   "metadata": {
    "ExecuteTime": {
     "end_time": "2024-09-16T11:43:49.970765Z",
     "start_time": "2024-09-16T11:43:25.816495Z"
    }
   },
   "cell_type": "code",
   "source": [
    "test_accuracies = []\n",
    "\n",
    "with torch.no_grad():\n",
    "    classification_model.eval()\n",
    "\n",
    "    for epoch in range(NUM_EPOCHS):\n",
    "        total_images = 0\n",
    "        total_correctness = 0\n",
    "\n",
    "        for data in test_loader:\n",
    "            images, labels = data\n",
    "            images, labels = images.to(device), labels.to(device)\n",
    "\n",
    "            outputs = classification_model(images)\n",
    "            predictions = torch.argmax(outputs, dim=-1)\n",
    "\n",
    "            total_images += labels.shape[0]\n",
    "            total_correctness += (labels == predictions).sum().item()\n",
    "        accuracy = total_correctness / total_images\n",
    "        test_accuracies.append(accuracy)"
   ],
   "id": "399474c7f322208e",
   "outputs": [],
   "execution_count": 10
  },
  {
   "metadata": {
    "ExecuteTime": {
     "end_time": "2024-09-16T11:43:52.646565Z",
     "start_time": "2024-09-16T11:43:52.642250Z"
    }
   },
   "cell_type": "code",
   "source": "len(training_accuracies), len(test_accuracies)",
   "id": "1af22bbcea5498b8",
   "outputs": [
    {
     "data": {
      "text/plain": [
       "(100, 100)"
      ]
     },
     "execution_count": 11,
     "metadata": {},
     "output_type": "execute_result"
    }
   ],
   "execution_count": 11
  },
  {
   "metadata": {
    "ExecuteTime": {
     "end_time": "2024-09-16T11:44:01.728321Z",
     "start_time": "2024-09-16T11:44:01.467895Z"
    }
   },
   "cell_type": "code",
   "source": [
    "from matplotlib import pyplot as plt\n",
    "import numpy as np\n",
    "\n",
    "\n",
    "def plot_acc(train_accuracies, test_accuracies, label1=\"train\", label2=\"test\"):\n",
    "    x = np.arange(len(train_accuracies))\n",
    "\n",
    "    plt.plot(x, train_accuracies, label=label1)\n",
    "    plt.plot(x, test_accuracies, label=label2)\n",
    "    plt.legend()\n",
    "    plt.show()"
   ],
   "id": "2b7c8a8979d044cf",
   "outputs": [],
   "execution_count": 12
  },
  {
   "metadata": {
    "ExecuteTime": {
     "end_time": "2024-09-16T11:44:08.296993Z",
     "start_time": "2024-09-16T11:44:08.219017Z"
    }
   },
   "cell_type": "code",
   "source": "plot_acc(training_accuracies, test_accuracies)",
   "id": "ec36bdaee698b536",
   "outputs": [
    {
     "data": {
      "text/plain": [
       "<Figure size 640x480 with 1 Axes>"
      ],
      "image/png": "[encoded data removed]"
     },
     "metadata": {},
     "output_type": "display_data"
    }
   ],
   "execution_count": 13
  }
 ],
 "metadata": {
  "kernelspec": {
   "display_name": "Python 3",
   "language": "python",
   "name": "python3"
  },
  "language_info": {
   "codemirror_mode": {
    "name": "ipython",
    "version": 2
   },
   "file_extension": ".py",
   "mimetype": "text/x-python",
   "name": "python",
   "nbconvert_exporter": "python",
   "pygments_lexer": "ipython2",
   "version": "2.7.6"
  }
 },
 "nbformat": 4,
 "nbformat_minor": 5
}
