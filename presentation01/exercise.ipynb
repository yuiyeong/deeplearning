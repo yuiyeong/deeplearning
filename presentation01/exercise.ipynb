{
 "cells": [
  {
   "metadata": {},
   "cell_type": "markdown",
   "source": [
    "# Classification Model 만들기\n",
    "\n",
    "- MNIST 데이터셋을 학습한 분류 모델 만들기\n",
    "- CIFAR10 데이터셋을 학습한 분류 모델 만들기\n",
    "\n",
    "## MNIST 데이터셋에 대한 Classification Model 로 구현\n",
    "\n",
    "- 풀고자 하는 문제는, 흑백 손글씨 이미지를 보고, 이 손글씨가 0 ~ 9 중 어떤 숫자인지를 맞추는 문제입니다.\n",
    "- 즉, 흑백 이미지를 0 ~ 9, 총 10개의 숫자로 분류를 해야합니다.\n",
    "- 그래서 MNIST 데이터셋을 input 으로 받아서 10 개의 숫자 중 1개로 분류해주는 Classification Model 을 만들어 보겠습니다.  "
   ],
   "id": "782159df40f688a1"
  },
  {
   "metadata": {
    "ExecuteTime": {
     "end_time": "2024-09-17T20:19:14.643562Z",
     "start_time": "2024-09-17T20:19:13.672391Z"
    }
   },
   "cell_type": "code",
   "source": [
    "import numpy as np\n",
    "\n",
    "import torch\n",
    "import torch.nn as nn\n",
    "import torchvision\n",
    "import torchvision.transforms as transforms\n",
    "\n",
    "from matplotlib import pyplot as plt"
   ],
   "id": "a9c99f2870b92259",
   "outputs": [],
   "execution_count": 1
  },
  {
   "metadata": {
    "ExecuteTime": {
     "end_time": "2024-09-17T20:19:14.648382Z",
     "start_time": "2024-09-17T20:19:14.646501Z"
    }
   },
   "cell_type": "code",
   "source": [
    "DIR_ROOT_DATA = \"../data\"\n",
    "\n",
    "MNIST_BATCH_SIZE = 256\n",
    "MNIST_NUM_EPOCHS = 100\n",
    "MNIST_LEARNING_RATE = 0.001"
   ],
   "id": "95c4536d92ecd138",
   "outputs": [],
   "execution_count": 2
  },
  {
   "metadata": {
    "ExecuteTime": {
     "end_time": "2024-09-17T20:19:14.758139Z",
     "start_time": "2024-09-17T20:19:14.740283Z"
    }
   },
   "cell_type": "code",
   "source": [
    "transform = transforms.ToTensor()\n",
    "\n",
    "mnist_train_set = torchvision.datasets.MNIST(\n",
    "    root=DIR_ROOT_DATA, train=True, download=True, transform=transform\n",
    ")\n",
    "mnist_train_loader = torch.utils.data.DataLoader(\n",
    "    mnist_train_set,\n",
    "    batch_size=MNIST_BATCH_SIZE,\n",
    "    shuffle=True,\n",
    "    num_workers=2,\n",
    "    pin_memory=True,\n",
    ")\n",
    "\n",
    "mnist_test_set = torchvision.datasets.MNIST(\n",
    "    root=DIR_ROOT_DATA, train=False, download=True, transform=transform\n",
    ")\n",
    "mnist_test_loader = torch.utils.data.DataLoader(\n",
    "    mnist_test_set, batch_size=MNIST_BATCH_SIZE, shuffle=False\n",
    ")"
   ],
   "id": "84928675062cd5c9",
   "outputs": [],
   "execution_count": 3
  },
  {
   "metadata": {},
   "cell_type": "markdown",
   "source": [
    "## MNIST 데이터셋\n",
    "- 0 ~ 9 까지의 숫자에 대한 손글씨 이미지로, 흑백 이미지\n",
    "- 다음은 데이터셋의 클래스이다.\n",
    "    - 레이블 0: 숫자 0\n",
    "    - 레이블 1: 숫자 1\n",
    "    - 레이블 2: 숫자 2\n",
    "    - 레이블 3: 숫자 3\n",
    "    - 레이블 4: 숫자 4\n",
    "    - 레이블 5: 숫자 5\n",
    "    - 레이블 6: 숫자 6\n",
    "    - 레이블 7: 숫자 7\n",
    "    - 레이블 8: 숫자 8\n",
    "    - 레이블 9: 숫자 9"
   ],
   "id": "c32bf77d238bc1b"
  },
  {
   "metadata": {
    "ExecuteTime": {
     "end_time": "2024-09-17T20:19:14.823571Z",
     "start_time": "2024-09-17T20:19:14.762589Z"
    }
   },
   "cell_type": "code",
   "source": [
    "mnist_images, mnist_labels = next(iter(mnist_test_loader))\n",
    "print(\"mnist_images.shape:\", mnist_images.shape)\n",
    "\n",
    "print(\"label:\", mnist_labels[0].item())\n",
    "plt.imshow(transforms.ToPILImage()(mnist_images[0]), cmap=\"gray\")"
   ],
   "id": "7e1d1fc71b5d54ec",
   "outputs": [
    {
     "name": "stdout",
     "output_type": "stream",
     "text": [
      "mnist_images.shape: torch.Size([256, 1, 28, 28])\n",
      "label: 7\n"
     ]
    },
    {
     "data": {
      "text/plain": [
       "<matplotlib.image.AxesImage at 0x11b196990>"
      ]
     },
     "execution_count": 4,
     "metadata": {},
     "output_type": "execute_result"
    },
    {
     "data": {
      "text/plain": [
       "<Figure size 640x480 with 1 Axes>"
      ],
      "image/png": "[encoded data removed]"
     },
     "metadata": {},
     "output_type": "display_data"
    }
   ],
   "execution_count": 4
  },
  {
   "metadata": {
    "ExecuteTime": {
     "end_time": "2024-09-17T20:19:14.905709Z",
     "start_time": "2024-09-17T20:19:14.902830Z"
    }
   },
   "cell_type": "code",
   "source": [
    "def get_device() -> torch.device:\n",
    "    \"\"\"\n",
    "    mps, cuda, cpu 순으로 사용 가능을 체크해서 반환\n",
    "    :return: 사용 가능한 pytorch device\n",
    "    \"\"\"\n",
    "    if torch.backends.mps.is_available():\n",
    "        return torch.device(\"mps\")\n",
    "    elif torch.cuda.is_available():\n",
    "        return torch.device(\"cuda\")\n",
    "    else:\n",
    "        return torch.device(\"cpu\")\n",
    "\n",
    "\n",
    "def calculate_accuracy(\n",
    "    device: torch.device, model: nn.Module, data_loader: torch.utils.data.DataLoader\n",
    ") -> float:\n",
    "    \"\"\"\n",
    "    model 에 대한 평가를 진행하여, 예측의 정확도를 계산\n",
    "    :return: 정확도\n",
    "    \"\"\"\n",
    "    total = 0\n",
    "    num_correctness = 0\n",
    "\n",
    "    model.eval()\n",
    "    with torch.no_grad():\n",
    "        for data in data_loader:\n",
    "            images, labels = data\n",
    "            inputs, labels = images.to(device), labels.to(device)\n",
    "\n",
    "            outputs = model(inputs)\n",
    "\n",
    "            total += labels.size(0)\n",
    "\n",
    "            predictions = torch.argmax(outputs, dim=1)\n",
    "            num_correctness += (predictions == labels).sum().item()\n",
    "    model.train()\n",
    "\n",
    "    return num_correctness / total"
   ],
   "id": "d5ecbeda98d2d3c4",
   "outputs": [],
   "execution_count": 5
  },
  {
   "metadata": {
    "ExecuteTime": {
     "end_time": "2024-09-17T20:19:14.920845Z",
     "start_time": "2024-09-17T20:19:14.918400Z"
    }
   },
   "cell_type": "code",
   "source": [
    "class MNISTClassificationModel(nn.Module):\n",
    "    def __init__(self):\n",
    "        super(MNISTClassificationModel, self).__init__()\n",
    "\n",
    "        input_dim = 1 * 28 * 28  # input dimension 은 이미지의 크기\n",
    "        hidden_dim = 1024\n",
    "        num_classes = 10  # output dimension 은 0 ~ 9 까지의 분류\n",
    "\n",
    "        self.layer1 = nn.Linear(input_dim, hidden_dim)\n",
    "        self.layer2 = nn.Linear(hidden_dim, hidden_dim)\n",
    "        self.layer3 = nn.Linear(hidden_dim, num_classes)\n",
    "\n",
    "        self.activation = nn.ReLU()\n",
    "\n",
    "    def forward(self, x):\n",
    "        # x.shape: (batch_size, 1, 28, 28)\n",
    "        x = torch.flatten(x, start_dim=1)  # x.shape: (batch_size, 1* 28 * 28)\n",
    "        x = self.activation(self.layer1(x))  # x.shape: (batch_size, hidden_dim)\n",
    "        x = self.activation(self.layer2(x))  # x.shape: (batch_size, hidden_dim)\n",
    "        x = self.layer3(x)  # x.shape: (batch_size, 10)\n",
    "        return x"
   ],
   "id": "8577cf1b1d451636",
   "outputs": [],
   "execution_count": 6
  },
  {
   "metadata": {
    "ExecuteTime": {
     "end_time": "2024-09-17T20:19:14.941192Z",
     "start_time": "2024-09-17T20:19:14.930112Z"
    }
   },
   "cell_type": "code",
   "source": [
    "device = get_device()\n",
    "device"
   ],
   "id": "6289497e3de084dc",
   "outputs": [
    {
     "data": {
      "text/plain": [
       "device(type='mps')"
      ]
     },
     "execution_count": 7,
     "metadata": {},
     "output_type": "execute_result"
    }
   ],
   "execution_count": 7
  },
  {
   "metadata": {
    "ExecuteTime": {
     "end_time": "2024-09-17T20:19:14.962477Z",
     "start_time": "2024-09-17T20:19:14.947290Z"
    }
   },
   "cell_type": "code",
   "source": [
    "mnist_model = MNISTClassificationModel().to(device)\n",
    "mnist_model"
   ],
   "id": "9e4767dd3a55205a",
   "outputs": [
    {
     "data": {
      "text/plain": [
       "MNISTClassificationModel(\n",
       "  (layer1): Linear(in_features=784, out_features=1024, bias=True)\n",
       "  (layer2): Linear(in_features=1024, out_features=1024, bias=True)\n",
       "  (layer3): Linear(in_features=1024, out_features=10, bias=True)\n",
       "  (activation): ReLU()\n",
       ")"
      ]
     },
     "execution_count": 8,
     "metadata": {},
     "output_type": "execute_result"
    }
   ],
   "execution_count": 8
  },
  {
   "metadata": {},
   "cell_type": "markdown",
   "source": [
    "## Cross Entropy Loss 함수\n",
    "- Cross Entropy Loss (교차 엔트로피 손실)는 분류 문제에서 널리 사용되는 손실 함수\n",
    "- 이 함수는 모델의 예측 확률 분포와 실제 레이블의 확률 분포 간의 차이를 측정\n",
    "\n",
    "### 수식\n",
    "$$L = -\\sum_{i=1}^{C} y_i \\log(p_i)$$\n",
    "- $C$는 클래스의 수\n",
    "- $y_i$는 실제 레이블 (원-핫 인코딩)\n",
    "- $p_i$는 클래스 $i$에 대한 모델의 예측 확률\n",
    "\n",
    "### MNIST 분류에서의 사용 이유\n",
    "- 확률적 해석 \n",
    "   - Cross Entropy Loss를 사용하면 모델의 출력을 확률로 해석할 수 있습니다.\n",
    "   - MNIST에서 각 숫자(0-9)에 대한 예측 확률을 직접적으로 얻을 수 있습니다.\n",
    "\n",
    "- 학습 효율성 \n",
    "   - 오차가 클수록 더 큰 페널티를 부여합니다.\n",
    "   - 이는 모델이 잘못된 예측에 대해 더 빠르게 학습하도록 유도합니다.\n",
    "\n",
    "- 다중 클래스 적합성 \n",
    "   - MNIST는 10개의 클래스(0-9)를 가진 다중 클래스 문제입니다.\n",
    "   - Cross Entropy Loss는 다중 클래스 분류에 자연스럽게 적용됩니다.\n",
    "\n",
    "- 미분 가능성 \n",
    "   - 이 손실 함수는 연속적이고 미분 가능합니다.\n",
    "   - 이는 역전파 알고리즘을 사용한 신경망 학습에 필수적입니다.\n"
   ],
   "id": "b5973bc20453de20"
  },
  {
   "metadata": {
    "ExecuteTime": {
     "end_time": "2024-09-17T20:19:14.975697Z",
     "start_time": "2024-09-17T20:19:14.973565Z"
    }
   },
   "cell_type": "code",
   "source": [
    "# '손실 함수'를 'criterion'이라고 부르는 것은 PyTorch 의 관행\n",
    "# 단순히 '손실'을 넘어 '평가 기준'이라는 더 넓은 의미를 가짐\n",
    "# 이는 모델의 성능을 평가하고 최적화하는 기준이 됨\n",
    "mnist_criterion = nn.CrossEntropyLoss()\n",
    "mnist_criterion"
   ],
   "id": "283e109a42595888",
   "outputs": [
    {
     "data": {
      "text/plain": [
       "CrossEntropyLoss()"
      ]
     },
     "execution_count": 9,
     "metadata": {},
     "output_type": "execute_result"
    }
   ],
   "execution_count": 9
  },
  {
   "metadata": {
    "ExecuteTime": {
     "end_time": "2024-09-17T20:19:14.982987Z",
     "start_time": "2024-09-17T20:19:14.980863Z"
    }
   },
   "cell_type": "code",
   "source": [
    "from torch.optim import SGD\n",
    "\n",
    "mnist_optimizer = SGD(mnist_model.parameters(), lr=MNIST_LEARNING_RATE)\n",
    "mnist_optimizer"
   ],
   "id": "ee3d5e2d697f4e4d",
   "outputs": [
    {
     "data": {
      "text/plain": [
       "SGD (\n",
       "Parameter Group 0\n",
       "    dampening: 0\n",
       "    differentiable: False\n",
       "    foreach: None\n",
       "    fused: None\n",
       "    lr: 0.001\n",
       "    maximize: False\n",
       "    momentum: 0\n",
       "    nesterov: False\n",
       "    weight_decay: 0\n",
       ")"
      ]
     },
     "execution_count": 10,
     "metadata": {},
     "output_type": "execute_result"
    }
   ],
   "execution_count": 10
  },
  {
   "metadata": {
    "ExecuteTime": {
     "end_time": "2024-09-17T20:24:55.363797Z",
     "start_time": "2024-09-17T20:19:14.990609Z"
    }
   },
   "cell_type": "code",
   "source": [
    "mnist_accuracies = np.zeros((2, MNIST_NUM_EPOCHS))  # training_accuracy, test_accuracy\n",
    "\n",
    "for epoch in range(MNIST_NUM_EPOCHS):\n",
    "    for data in mnist_train_loader:\n",
    "        mnist_optimizer.zero_grad()\n",
    "\n",
    "        images, labels = data\n",
    "        inputs, labels = images.to(device), labels.to(device)\n",
    "\n",
    "        outputs = mnist_model(inputs)  # logits 이 출력됨.\n",
    "\n",
    "        loss = mnist_criterion(\n",
    "            outputs, labels\n",
    "        )  # cross entropy 에는 나온 출력값(logits) 그대로 넣어준다.\n",
    "        loss.backward()\n",
    "\n",
    "        mnist_optimizer.step()\n",
    "\n",
    "    mnist_accuracies[0][epoch] = calculate_accuracy(\n",
    "        device, mnist_model, mnist_train_loader\n",
    "    )\n",
    "    mnist_accuracies[1][epoch] = calculate_accuracy(\n",
    "        device, mnist_model, mnist_test_loader\n",
    "    )\n",
    "\n",
    "    print(f\"Epoch {epoch + 1:3d}, Training Accuracy: {mnist_accuracies[0][epoch]:.5f}\")"
   ],
   "id": "26131531b3ebf62f",
   "outputs": [
    {
     "name": "stdout",
     "output_type": "stream",
     "text": [
      "Epoch   1, Training Accuracy: 0.20545\n",
      "Epoch   2, Training Accuracy: 0.27208\n",
      "Epoch   3, Training Accuracy: 0.35270\n",
      "Epoch   4, Training Accuracy: 0.42620\n",
      "Epoch   5, Training Accuracy: 0.49145\n",
      "Epoch   6, Training Accuracy: 0.54408\n",
      "Epoch   7, Training Accuracy: 0.58645\n",
      "Epoch   8, Training Accuracy: 0.61783\n",
      "Epoch   9, Training Accuracy: 0.64473\n",
      "Epoch  10, Training Accuracy: 0.66548\n",
      "Epoch  11, Training Accuracy: 0.68242\n",
      "Epoch  12, Training Accuracy: 0.69575\n",
      "Epoch  13, Training Accuracy: 0.70625\n",
      "Epoch  14, Training Accuracy: 0.71455\n",
      "Epoch  15, Training Accuracy: 0.72032\n",
      "Epoch  16, Training Accuracy: 0.72528\n",
      "Epoch  17, Training Accuracy: 0.73125\n",
      "Epoch  18, Training Accuracy: 0.73687\n",
      "Epoch  19, Training Accuracy: 0.74402\n",
      "Epoch  20, Training Accuracy: 0.75250\n",
      "Epoch  21, Training Accuracy: 0.76078\n",
      "Epoch  22, Training Accuracy: 0.77068\n",
      "Epoch  23, Training Accuracy: 0.78003\n",
      "Epoch  24, Training Accuracy: 0.78808\n",
      "Epoch  25, Training Accuracy: 0.79580\n",
      "Epoch  26, Training Accuracy: 0.80253\n",
      "Epoch  27, Training Accuracy: 0.80938\n",
      "Epoch  28, Training Accuracy: 0.81412\n",
      "Epoch  29, Training Accuracy: 0.81905\n",
      "Epoch  30, Training Accuracy: 0.82285\n",
      "Epoch  31, Training Accuracy: 0.82600\n",
      "Epoch  32, Training Accuracy: 0.82972\n",
      "Epoch  33, Training Accuracy: 0.83337\n",
      "Epoch  34, Training Accuracy: 0.83682\n",
      "Epoch  35, Training Accuracy: 0.83978\n",
      "Epoch  36, Training Accuracy: 0.84267\n",
      "Epoch  37, Training Accuracy: 0.84492\n",
      "Epoch  38, Training Accuracy: 0.84785\n",
      "Epoch  39, Training Accuracy: 0.85047\n",
      "Epoch  40, Training Accuracy: 0.85272\n",
      "Epoch  41, Training Accuracy: 0.85472\n",
      "Epoch  42, Training Accuracy: 0.85685\n",
      "Epoch  43, Training Accuracy: 0.85845\n",
      "Epoch  44, Training Accuracy: 0.86138\n",
      "Epoch  45, Training Accuracy: 0.86307\n",
      "Epoch  46, Training Accuracy: 0.86472\n",
      "Epoch  47, Training Accuracy: 0.86643\n",
      "Epoch  48, Training Accuracy: 0.86805\n",
      "Epoch  49, Training Accuracy: 0.86937\n",
      "Epoch  50, Training Accuracy: 0.87125\n",
      "Epoch  51, Training Accuracy: 0.87238\n",
      "Epoch  52, Training Accuracy: 0.87410\n",
      "Epoch  53, Training Accuracy: 0.87492\n",
      "Epoch  54, Training Accuracy: 0.87670\n",
      "Epoch  55, Training Accuracy: 0.87740\n",
      "Epoch  56, Training Accuracy: 0.87845\n",
      "Epoch  57, Training Accuracy: 0.87923\n",
      "Epoch  58, Training Accuracy: 0.88055\n",
      "Epoch  59, Training Accuracy: 0.88107\n",
      "Epoch  60, Training Accuracy: 0.88225\n",
      "Epoch  61, Training Accuracy: 0.88312\n",
      "Epoch  62, Training Accuracy: 0.88322\n",
      "Epoch  63, Training Accuracy: 0.88430\n",
      "Epoch  64, Training Accuracy: 0.88478\n",
      "Epoch  65, Training Accuracy: 0.88555\n",
      "Epoch  66, Training Accuracy: 0.88663\n",
      "Epoch  67, Training Accuracy: 0.88695\n",
      "Epoch  68, Training Accuracy: 0.88775\n",
      "Epoch  69, Training Accuracy: 0.88863\n",
      "Epoch  70, Training Accuracy: 0.88928\n",
      "Epoch  71, Training Accuracy: 0.89015\n",
      "Epoch  72, Training Accuracy: 0.89040\n",
      "Epoch  73, Training Accuracy: 0.89165\n",
      "Epoch  74, Training Accuracy: 0.89147\n",
      "Epoch  75, Training Accuracy: 0.89253\n",
      "Epoch  76, Training Accuracy: 0.89312\n",
      "Epoch  77, Training Accuracy: 0.89365\n",
      "Epoch  78, Training Accuracy: 0.89383\n",
      "Epoch  79, Training Accuracy: 0.89422\n",
      "Epoch  80, Training Accuracy: 0.89442\n",
      "Epoch  81, Training Accuracy: 0.89525\n",
      "Epoch  82, Training Accuracy: 0.89548\n",
      "Epoch  83, Training Accuracy: 0.89590\n",
      "Epoch  84, Training Accuracy: 0.89622\n",
      "Epoch  85, Training Accuracy: 0.89678\n",
      "Epoch  86, Training Accuracy: 0.89707\n",
      "Epoch  87, Training Accuracy: 0.89717\n",
      "Epoch  88, Training Accuracy: 0.89783\n",
      "Epoch  89, Training Accuracy: 0.89812\n",
      "Epoch  90, Training Accuracy: 0.89862\n",
      "Epoch  91, Training Accuracy: 0.89902\n",
      "Epoch  92, Training Accuracy: 0.89923\n",
      "Epoch  93, Training Accuracy: 0.89978\n",
      "Epoch  94, Training Accuracy: 0.89995\n",
      "Epoch  95, Training Accuracy: 0.90047\n",
      "Epoch  96, Training Accuracy: 0.90075\n",
      "Epoch  97, Training Accuracy: 0.90098\n",
      "Epoch  98, Training Accuracy: 0.90137\n",
      "Epoch  99, Training Accuracy: 0.90180\n",
      "Epoch 100, Training Accuracy: 0.90188\n"
     ]
    }
   ],
   "execution_count": 11
  },
  {
   "metadata": {},
   "cell_type": "markdown",
   "source": "## 각 Epoch 별 모델에 대한 Accuracy 그래프",
   "id": "7497dd84cc56569b"
  },
  {
   "metadata": {
    "ExecuteTime": {
     "end_time": "2024-09-17T20:24:55.766910Z",
     "start_time": "2024-09-17T20:24:55.707427Z"
    }
   },
   "cell_type": "code",
   "source": [
    "plt.figure(figsize=(10, 8))\n",
    "\n",
    "x_axis = np.arange(MNIST_NUM_EPOCHS)\n",
    "plt.plot(x_axis, mnist_accuracies[0], label=\"MNIST Training Accuracy\")\n",
    "plt.plot(x_axis, mnist_accuracies[1], label=\"MNIST Test Accuracy\")\n",
    "\n",
    "plt.legend()\n",
    "\n",
    "plt.ylim([0, 1])\n",
    "plt.ylabel(\"Accuracy\")\n",
    "plt.xlabel(\"Epochs\")\n",
    "\n",
    "plt.show()"
   ],
   "id": "c9f0e6f69a251b7e",
   "outputs": [
    {
     "data": {
      "text/plain": [
       "<Figure size 1000x800 with 1 Axes>"
      ],
      "image/png": "[encoded data removed]"
     },
     "metadata": {},
     "output_type": "display_data"
    }
   ],
   "execution_count": 12
  }
 ],
 "metadata": {
  "kernelspec": {
   "display_name": "Python 3",
   "language": "python",
   "name": "python3"
  },
  "language_info": {
   "codemirror_mode": {
    "name": "ipython",
    "version": 2
   },
   "file_extension": ".py",
   "mimetype": "text/x-python",
   "name": "python",
   "nbconvert_exporter": "python",
   "pygments_lexer": "ipython2",
   "version": "2.7.6"
  }
 },
 "nbformat": 4,
 "nbformat_minor": 5
}
