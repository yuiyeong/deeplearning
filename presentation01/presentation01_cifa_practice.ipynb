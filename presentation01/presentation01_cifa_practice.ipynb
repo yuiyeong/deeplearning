{
 "cells": [
  {
   "metadata": {},
   "cell_type": "markdown",
   "source": [
    "# 이미지 분류 모델\n",
    "- MNIST 이미지는 흑백 이미지 즉, channel 수가 1개\n",
    "- 여기서는 CIFA10 이라는 컬러 이미지 즉, channel 수가 3개인 이미지 데이터를 가지고 분류 모데를 만들어 본다."
   ],
   "id": "e856eb29cd66ab6c"
  },
  {
   "cell_type": "code",
   "id": "initial_id",
   "metadata": {
    "collapsed": true,
    "ExecuteTime": {
     "end_time": "2024-09-17T13:19:35.305372Z",
     "start_time": "2024-09-17T13:19:34.547247Z"
    }
   },
   "source": [
    "import torch\n",
    "import torch.nn as nn\n",
    "import torchvision\n",
    "import torchvision.transforms as transforms"
   ],
   "outputs": [],
   "execution_count": 1
  },
  {
   "metadata": {
    "ExecuteTime": {
     "end_time": "2024-09-17T13:19:35.310379Z",
     "start_time": "2024-09-17T13:19:35.308669Z"
    }
   },
   "cell_type": "code",
   "source": [
    "DIR_ROOT_DATA = \"../data\"\n",
    "BATCH_SIZE = 256\n",
    "LEARNING_RATE = 0.001\n",
    "EPOCHS = 50"
   ],
   "id": "312a2b2dad243ec3",
   "outputs": [],
   "execution_count": 2
  },
  {
   "metadata": {},
   "cell_type": "markdown",
   "source": [
    "## CIFAR 10 데이터셋\n",
    "\n",
    "- CIFAR-10 데이터셋은 10개의 클래스로 구성된 60,000개의 32x32 컬러 이미지입니다.\n",
    "- 각 클래스당 6,000개의 이미지가 있습니다. \n",
    "- 50,000개의 훈련용 이미지와 10,000개의 테스트용 이미지로 구성되어 있습니다.\n",
    "- 다음은 데이터셋의 클래스들입니다.\n",
    "    - 0: 비행기\n",
    "    - 1: 자동차\n",
    "    - 2: 새\n",
    "    - 3: 고양이\n",
    "    - 4: 사슴\n",
    "    - 5: 개\n",
    "    - 6: 개구리\n",
    "    - 7: 말\n",
    "    - 8: 배\n",
    "    - 9: 트럭\n",
    "- [참고 링크](https://www.cs.toronto.edu/~kriz/cifar.html)\n"
   ],
   "id": "c5c272264c1f38ab"
  },
  {
   "metadata": {
    "ExecuteTime": {
     "end_time": "2024-09-17T13:19:36.395852Z",
     "start_time": "2024-09-17T13:19:35.385041Z"
    }
   },
   "cell_type": "code",
   "source": [
    "transform = transforms.ToTensor()\n",
    "\n",
    "train_set = torchvision.datasets.CIFAR10(\n",
    "    root=DIR_ROOT_DATA, train=True, download=True, transform=transform\n",
    ")\n",
    "train_data_loader = torch.utils.data.DataLoader(\n",
    "    train_set, batch_size=BATCH_SIZE, shuffle=True, num_workers=2, pin_memory=True\n",
    ")\n",
    "\n",
    "test_set = torchvision.datasets.CIFAR10(\n",
    "    root=DIR_ROOT_DATA, train=False, download=True, transform=transform\n",
    ")\n",
    "test_data_loader = torch.utils.data.DataLoader(\n",
    "    test_set, batch_size=BATCH_SIZE, shuffle=False\n",
    ")"
   ],
   "id": "2423ce2a82577cde",
   "outputs": [
    {
     "name": "stdout",
     "output_type": "stream",
     "text": [
      "Files already downloaded and verified\n",
      "Files already downloaded and verified\n"
     ]
    }
   ],
   "execution_count": 3
  },
  {
   "metadata": {},
   "cell_type": "markdown",
   "source": [
    "### 예시 이미지\n",
    "- CIFAR 10 데이터셋 중 이미지 한 개를 확인해보겠습니다."
   ],
   "id": "8d0e5f68bb626ded"
  },
  {
   "metadata": {
    "ExecuteTime": {
     "end_time": "2024-09-17T13:19:49.342735Z",
     "start_time": "2024-09-17T13:19:36.400551Z"
    }
   },
   "cell_type": "code",
   "source": [
    "from matplotlib import pyplot as plt\n",
    "\n",
    "# 레이블에 해당하는 종류를 글자로 바꿀 수 있도록 tuple 을 준비\n",
    "names = (\"비행기\", \"자동차\", \"새\", \"고양이\", \"사슴\", \"개\", \"개구리\", \"말\", \"배\", \"트럭\")\n",
    "\n",
    "images, labels = next(iter(train_data_loader))\n",
    "\n",
    "print(\"shape of images:\", images.shape)\n",
    "print(\"shape of labels:\", labels.shape)\n",
    "\n",
    "print(\"label:\", labels[0].item(), \"which is:\", names[labels[0].item()])\n",
    "plt.imshow(transforms.ToPILImage()(images[0]))"
   ],
   "id": "84c2a0bb25519170",
   "outputs": [
    {
     "name": "stdout",
     "output_type": "stream",
     "text": [
      "shape of images: torch.Size([256, 3, 32, 32])\n",
      "shape of labels: torch.Size([256])\n",
      "label: 0 which is: 비행기\n"
     ]
    },
    {
     "data": {
      "text/plain": [
       "<matplotlib.image.AxesImage at 0x1268781d0>"
      ]
     },
     "execution_count": 4,
     "metadata": {},
     "output_type": "execute_result"
    },
    {
     "data": {
      "text/plain": [
       "<Figure size 640x480 with 1 Axes>"
      ],
      "image/png": "[encoded data removed]"
     },
     "metadata": {},
     "output_type": "display_data"
    }
   ],
   "execution_count": 4
  },
  {
   "metadata": {
    "ExecuteTime": {
     "end_time": "2024-09-17T13:19:49.434792Z",
     "start_time": "2024-09-17T13:19:49.431626Z"
    }
   },
   "cell_type": "code",
   "source": [
    "class SimpleImageClassificationModel(nn.Module):\n",
    "    def __init__(self, num_channels, image_width, image_height, num_output_classes):\n",
    "        super(SimpleImageClassificationModel, self).__init__()\n",
    "\n",
    "        hidden_dim = 2048\n",
    "        input_size = num_channels * image_width * image_height\n",
    "\n",
    "        self.layer1 = nn.Linear(input_size, hidden_dim)\n",
    "        self.layer2 = nn.Linear(hidden_dim, hidden_dim)\n",
    "        self.layer3 = nn.Linear(hidden_dim, num_output_classes)\n",
    "\n",
    "        self.activation = nn.LeakyReLU()\n",
    "\n",
    "    def forward(self, x):\n",
    "        # x.shape is (batch_size, channels, width, height)\n",
    "        x = torch.flatten(x, start_dim=1)  # (batch_size, channels * width * height)\n",
    "        x = self.activation(self.layer1(x))  # (batch_size, 2048)\n",
    "        x = self.activation(self.layer2(x))  # (batch_size, 2048)\n",
    "        x = self.activation(self.layer3(x))  # (batch_size, num_output_classes)\n",
    "        return x"
   ],
   "id": "dc6f56c7f79cc5bc",
   "outputs": [],
   "execution_count": 5
  },
  {
   "metadata": {
    "ExecuteTime": {
     "end_time": "2024-09-17T13:19:49.453630Z",
     "start_time": "2024-09-17T13:19:49.442963Z"
    }
   },
   "cell_type": "code",
   "source": [
    "def get_device() -> torch.device:\n",
    "    \"\"\"\n",
    "    mps, cuda, cpu 순으로 사용 가능을 체크해서 반환\n",
    "    :return: 사용 가능한 pytorch device\n",
    "    \"\"\"\n",
    "    if torch.backends.mps.is_available():\n",
    "        return torch.device(\"mps\")\n",
    "    elif torch.cuda.is_available():\n",
    "        return torch.device(\"cuda\")\n",
    "    else:\n",
    "        return torch.device(\"cpu\")\n",
    "\n",
    "\n",
    "device = get_device()\n",
    "device"
   ],
   "id": "8b163a191bb95041",
   "outputs": [
    {
     "data": {
      "text/plain": [
       "device(type='mps')"
      ]
     },
     "execution_count": 6,
     "metadata": {},
     "output_type": "execute_result"
    }
   ],
   "execution_count": 6
  },
  {
   "metadata": {
    "ExecuteTime": {
     "end_time": "2024-09-17T13:19:49.544449Z",
     "start_time": "2024-09-17T13:19:49.470112Z"
    }
   },
   "cell_type": "code",
   "source": [
    "image_classifier = SimpleImageClassificationModel(\n",
    "    num_channels=3, image_width=32, image_height=32, num_output_classes=10\n",
    ").to(device)\n",
    "image_classifier"
   ],
   "id": "bfcd7658217ff862",
   "outputs": [
    {
     "data": {
      "text/plain": [
       "SimpleImageClassificationModel(\n",
       "  (layer1): Linear(in_features=3072, out_features=2048, bias=True)\n",
       "  (layer2): Linear(in_features=2048, out_features=2048, bias=True)\n",
       "  (layer3): Linear(in_features=2048, out_features=10, bias=True)\n",
       "  (activation): LeakyReLU(negative_slope=0.01)\n",
       ")"
      ]
     },
     "execution_count": 7,
     "metadata": {},
     "output_type": "execute_result"
    }
   ],
   "execution_count": 7
  },
  {
   "metadata": {
    "ExecuteTime": {
     "end_time": "2024-09-17T13:19:49.554210Z",
     "start_time": "2024-09-17T13:19:49.551913Z"
    }
   },
   "cell_type": "code",
   "source": [
    "from torch.optim import SGD\n",
    "\n",
    "optimizer = SGD(image_classifier.parameters(), lr=LEARNING_RATE)\n",
    "optimizer"
   ],
   "id": "9b28f5addc26b3c3",
   "outputs": [
    {
     "data": {
      "text/plain": [
       "SGD (\n",
       "Parameter Group 0\n",
       "    dampening: 0\n",
       "    differentiable: False\n",
       "    foreach: None\n",
       "    fused: None\n",
       "    lr: 0.001\n",
       "    maximize: False\n",
       "    momentum: 0\n",
       "    nesterov: False\n",
       "    weight_decay: 0\n",
       ")"
      ]
     },
     "execution_count": 8,
     "metadata": {},
     "output_type": "execute_result"
    }
   ],
   "execution_count": 8
  },
  {
   "metadata": {
    "ExecuteTime": {
     "end_time": "2024-09-17T13:19:49.563489Z",
     "start_time": "2024-09-17T13:19:49.561043Z"
    }
   },
   "cell_type": "code",
   "source": [
    "criterion = nn.CrossEntropyLoss()\n",
    "criterion"
   ],
   "id": "4adcdf20c2185308",
   "outputs": [
    {
     "data": {
      "text/plain": [
       "CrossEntropyLoss()"
      ]
     },
     "execution_count": 9,
     "metadata": {},
     "output_type": "execute_result"
    }
   ],
   "execution_count": 9
  },
  {
   "metadata": {
    "ExecuteTime": {
     "end_time": "2024-09-17T13:31:27.457170Z",
     "start_time": "2024-09-17T13:19:49.570382Z"
    }
   },
   "cell_type": "code",
   "source": [
    "# SGD 를 optimizer 로 사용해서 학습\n",
    "training_accuracies_for_sgd = []\n",
    "\n",
    "for epoch in range(EPOCHS):\n",
    "    total_images = 0\n",
    "    total_correctness = 0\n",
    "    total_loss = 0.0\n",
    "    for data in train_data_loader:\n",
    "        optimizer.zero_grad()  # gradient 초기화\n",
    "\n",
    "        images, labels = data\n",
    "        inputs, labels = images.to(device), labels.to(device)  # gpu 로 데이터 옮김\n",
    "\n",
    "        outputs = image_classifier(inputs)  # 학습\n",
    "\n",
    "        loss = criterion(outputs, labels)  # loss 계산\n",
    "        loss.backward()  # 역전파\n",
    "\n",
    "        optimizer.step()  # 가중치 업데이트\n",
    "\n",
    "        # 예측에 대한 정확도 측정\n",
    "        predictions = torch.argmax(outputs, dim=1)\n",
    "\n",
    "        total_images += images.size(0)\n",
    "        total_correctness += (predictions == labels).sum().item()\n",
    "        total_loss += loss.item()\n",
    "\n",
    "    accuracy = total_correctness / total_images\n",
    "    training_accuracies_for_sgd.append(accuracy)\n",
    "    print(\n",
    "        f\"Epoch {epoch + 1:3} | Total Loss: {total_loss:.5f} | Accuracy: {accuracy:.5f}\"\n",
    "    )"
   ],
   "id": "9774b60b37d1d34",
   "outputs": [
    {
     "name": "stdout",
     "output_type": "stream",
     "text": [
      "Epoch   1 | Total Loss: 450.64459 | Accuracy: 0.11704\n",
      "Epoch   2 | Total Loss: 449.43710 | Accuracy: 0.13926\n",
      "Epoch   3 | Total Loss: 448.24220 | Accuracy: 0.15362\n",
      "Epoch   4 | Total Loss: 446.97010 | Accuracy: 0.17298\n",
      "Epoch   5 | Total Loss: 445.00797 | Accuracy: 0.17894\n",
      "Epoch   6 | Total Loss: 443.19131 | Accuracy: 0.19528\n",
      "Epoch   7 | Total Loss: 441.51717 | Accuracy: 0.20368\n",
      "Epoch   8 | Total Loss: 439.85108 | Accuracy: 0.20772\n",
      "Epoch   9 | Total Loss: 438.19577 | Accuracy: 0.21430\n",
      "Epoch  10 | Total Loss: 436.51079 | Accuracy: 0.21808\n",
      "Epoch  11 | Total Loss: 434.87994 | Accuracy: 0.22286\n",
      "Epoch  12 | Total Loss: 433.24946 | Accuracy: 0.22636\n",
      "Epoch  13 | Total Loss: 431.60584 | Accuracy: 0.23028\n",
      "Epoch  14 | Total Loss: 430.04130 | Accuracy: 0.23236\n",
      "Epoch  15 | Total Loss: 427.91805 | Accuracy: 0.23568\n",
      "Epoch  16 | Total Loss: 425.93538 | Accuracy: 0.23916\n",
      "Epoch  17 | Total Loss: 424.22026 | Accuracy: 0.24130\n",
      "Epoch  18 | Total Loss: 422.44094 | Accuracy: 0.24412\n",
      "Epoch  19 | Total Loss: 420.79118 | Accuracy: 0.24692\n",
      "Epoch  20 | Total Loss: 419.19825 | Accuracy: 0.24848\n",
      "Epoch  21 | Total Loss: 417.77074 | Accuracy: 0.25116\n",
      "Epoch  22 | Total Loss: 416.29658 | Accuracy: 0.25426\n",
      "Epoch  23 | Total Loss: 414.93934 | Accuracy: 0.25744\n",
      "Epoch  24 | Total Loss: 413.65854 | Accuracy: 0.25950\n",
      "Epoch  25 | Total Loss: 412.36007 | Accuracy: 0.26396\n",
      "Epoch  26 | Total Loss: 411.26287 | Accuracy: 0.26804\n",
      "Epoch  27 | Total Loss: 410.03262 | Accuracy: 0.27150\n",
      "Epoch  28 | Total Loss: 408.95659 | Accuracy: 0.27508\n",
      "Epoch  29 | Total Loss: 407.00673 | Accuracy: 0.27992\n",
      "Epoch  30 | Total Loss: 404.41256 | Accuracy: 0.28280\n",
      "Epoch  31 | Total Loss: 403.00538 | Accuracy: 0.28360\n",
      "Epoch  32 | Total Loss: 401.68871 | Accuracy: 0.28788\n",
      "Epoch  33 | Total Loss: 400.58023 | Accuracy: 0.29004\n",
      "Epoch  34 | Total Loss: 399.41415 | Accuracy: 0.29340\n",
      "Epoch  35 | Total Loss: 398.33287 | Accuracy: 0.29548\n",
      "Epoch  36 | Total Loss: 397.37766 | Accuracy: 0.29792\n",
      "Epoch  37 | Total Loss: 396.39189 | Accuracy: 0.29968\n",
      "Epoch  38 | Total Loss: 395.30999 | Accuracy: 0.30086\n",
      "Epoch  39 | Total Loss: 391.28072 | Accuracy: 0.30320\n",
      "Epoch  40 | Total Loss: 388.40801 | Accuracy: 0.30474\n",
      "Epoch  41 | Total Loss: 386.30681 | Accuracy: 0.30660\n",
      "Epoch  42 | Total Loss: 384.49113 | Accuracy: 0.30910\n",
      "Epoch  43 | Total Loss: 383.01612 | Accuracy: 0.31012\n",
      "Epoch  44 | Total Loss: 381.49279 | Accuracy: 0.31362\n",
      "Epoch  45 | Total Loss: 380.10546 | Accuracy: 0.31436\n",
      "Epoch  46 | Total Loss: 378.78863 | Accuracy: 0.31726\n",
      "Epoch  47 | Total Loss: 377.58664 | Accuracy: 0.32006\n",
      "Epoch  48 | Total Loss: 376.56371 | Accuracy: 0.32480\n",
      "Epoch  49 | Total Loss: 375.47864 | Accuracy: 0.32774\n",
      "Epoch  50 | Total Loss: 374.51142 | Accuracy: 0.33044\n"
     ]
    }
   ],
   "execution_count": 10
  },
  {
   "metadata": {
    "ExecuteTime": {
     "end_time": "2024-09-17T13:36:20.753693Z",
     "start_time": "2024-09-17T13:35:58.617231Z"
    }
   },
   "cell_type": "code",
   "source": [
    "# test dataset 으로 평가\n",
    "test_accuracies_for_sgd = []\n",
    "with torch.no_grad():\n",
    "    image_classifier.eval()\n",
    "\n",
    "    total_images = 0\n",
    "    total_correctness = 0\n",
    "    for _ in range(EPOCHS):\n",
    "        for data in test_data_loader:\n",
    "            images, labels = data\n",
    "            images, labels = images.to(device), labels.to(device)\n",
    "\n",
    "            outputs = image_classifier(images)\n",
    "\n",
    "            predictions = torch.argmax(outputs, dim=1)\n",
    "\n",
    "            total_images += labels.size(0)\n",
    "            total_correctness += (predictions == labels).sum().item()\n",
    "\n",
    "        accuracy = total_correctness / total_images\n",
    "        test_accuracies_for_sgd.append(accuracy)"
   ],
   "id": "1f61c2801ecd9df4",
   "outputs": [],
   "execution_count": 11
  },
  {
   "metadata": {
    "ExecuteTime": {
     "end_time": "2024-09-17T13:38:49.415811Z",
     "start_time": "2024-09-17T13:38:49.366301Z"
    }
   },
   "cell_type": "code",
   "source": [
    "import numpy as np\n",
    "\n",
    "x = np.arange(len(training_accuracies_for_sgd))\n",
    "plt.plot(x, training_accuracies_for_sgd, label=\"Training Accuracy\")\n",
    "plt.plot(x, test_accuracies_for_sgd, label=\"Test Accuracy\")\n",
    "plt.legend()\n",
    "plt.ylim([0, 1])\n",
    "plt.show()"
   ],
   "id": "5f7f55c72ff7488e",
   "outputs": [
    {
     "data": {
      "text/plain": [
       "<Figure size 640x480 with 1 Axes>"
      ],
      "image/png": "[encoded data removed]"
     },
     "metadata": {},
     "output_type": "display_data"
    }
   ],
   "execution_count": 14
  }
 ],
 "metadata": {
  "kernelspec": {
   "display_name": "Python 3",
   "language": "python",
   "name": "python3"
  },
  "language_info": {
   "codemirror_mode": {
    "name": "ipython",
    "version": 2
   },
   "file_extension": ".py",
   "mimetype": "text/x-python",
   "name": "python",
   "nbconvert_exporter": "python",
   "pygments_lexer": "ipython2",
   "version": "2.7.6"
  }
 },
 "nbformat": 4,
 "nbformat_minor": 5
}
