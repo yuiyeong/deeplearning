{
 "cells": [
  {
   "metadata": {},
   "cell_type": "markdown",
   "source": [
    "# MNIST 실습\n",
    "- MNIST dataset: 28x28 크기의 흑백 손글씨 이미지로, 0 ~ 9가 적혀있는 데이터셋\n",
    "- MNIST는 손글씨 사진과 어떤 숫자를 의미하는지에 대한 label의 pair들로 구성"
   ],
   "id": "5a1f53df04bf3f64"
  },
  {
   "metadata": {
    "ExecuteTime": {
     "end_time": "2024-09-10T13:20:44.517688Z",
     "start_time": "2024-09-10T13:20:43.522470Z"
    }
   },
   "cell_type": "code",
   "source": [
    "import torch\n",
    "import torch.nn as nn\n",
    "import torchvision\n",
    "import torchvision.transforms as transforms"
   ],
   "id": "b3b7452a2a09658e",
   "outputs": [],
   "execution_count": 1
  },
  {
   "metadata": {},
   "cell_type": "code",
   "outputs": [],
   "execution_count": null,
   "source": "ROOT_DIR = \"../data\"",
   "id": "bb70c226e9bda347"
  },
  {
   "metadata": {
    "ExecuteTime": {
     "end_time": "2024-09-10T13:20:52.311866Z",
     "start_time": "2024-09-10T13:20:52.309230Z"
    }
   },
   "cell_type": "code",
   "source": "transform = transforms.Compose([transforms.ToTensor()])",
   "id": "92e38731f4caa545",
   "outputs": [],
   "execution_count": 2
  },
  {
   "metadata": {},
   "cell_type": "markdown",
   "source": [
    "- 우리는 PyTorch model을 사용할 것이기 때문에 손글씨 사진들을 모두 tensor로 변환해야합니다.\n",
    "- 이러한 부가적인 변환들은 `torchvision.transforms`에서 제공하고 있으며, `torchvision.datasets.MNIST`에서 `transform` 인자로 받을 수 있습니다.\n",
    "- 우리는 단순히 사진을 tensor로 바꾸고 싶기 때문에 `transforms.ToTensor()` transformation을 넘겨줍니다."
   ],
   "id": "c9c2f81447e9c521"
  },
  {
   "metadata": {
    "ExecuteTime": {
     "end_time": "2024-09-10T13:20:59.631919Z",
     "start_time": "2024-09-10T13:20:59.613333Z"
    }
   },
   "cell_type": "code",
   "source": [
    "trainset = torchvision.datasets.MNIST(\n",
    "    root=ROOT_DIR, train=True, download=True, transform=transform\n",
    ")"
   ],
   "id": "b3198495a8e1eb35",
   "outputs": [],
   "execution_count": 3
  },
  {
   "metadata": {
    "ExecuteTime": {
     "end_time": "2024-09-10T13:21:04.103175Z",
     "start_time": "2024-09-10T13:21:04.098334Z"
    }
   },
   "cell_type": "code",
   "source": [
    "print(\"Size of trainset:\", len(trainset))\n",
    "# (image(tensor), 숫자(number)), (image(tensor), 숫자(number)), ...\n",
    "print(\"trainset[0][0].shape:\", trainset[0][0].shape, trainset[0][1])"
   ],
   "id": "7e8720bca083e506",
   "outputs": [
    {
     "name": "stdout",
     "output_type": "stream",
     "text": [
      "Size of trainset: 60000\n",
      "trainset[0][0].shape: torch.Size([1, 28, 28]) 5\n"
     ]
    }
   ],
   "execution_count": 4
  },
  {
   "metadata": {
    "ExecuteTime": {
     "end_time": "2024-09-10T13:21:06.162100Z",
     "start_time": "2024-09-10T13:21:05.901317Z"
    }
   },
   "cell_type": "code",
   "source": [
    "from matplotlib import pyplot as plt\n",
    "\n",
    "plt.imshow(trainset[0][0][0], cmap=\"gray\")"
   ],
   "id": "b4ea15b4fed49f7a",
   "outputs": [
    {
     "data": {
      "text/plain": [
       "<matplotlib.image.AxesImage at 0x11e48cc10>"
      ]
     },
     "execution_count": 5,
     "metadata": {},
     "output_type": "execute_result"
    },
    {
     "data": {
      "text/plain": [
       "<Figure size 640x480 with 1 Axes>"
      ],
      "image/png": "[encoded data removed]"
     },
     "metadata": {},
     "output_type": "display_data"
    }
   ],
   "execution_count": 5
  },
  {
   "metadata": {
    "ExecuteTime": {
     "end_time": "2024-09-10T13:21:11.645351Z",
     "start_time": "2024-09-10T13:21:11.642648Z"
    }
   },
   "cell_type": "code",
   "source": [
    "trainloader = torch.utils.data.DataLoader(\n",
    "    trainset,\n",
    "    batch_size=64,  # 60,000 개의 데이터를 64 개씩 나눔\n",
    "    shuffle=True,  # 나눈 데이터 덩어리를 섞는 것\n",
    ")"
   ],
   "id": "1746c1350cd005e5",
   "outputs": [],
   "execution_count": 6
  },
  {
   "metadata": {
    "ExecuteTime": {
     "end_time": "2024-09-10T13:21:12.641320Z",
     "start_time": "2024-09-10T13:21:12.633271Z"
    }
   },
   "cell_type": "code",
   "source": [
    "dataiter = iter(trainloader)\n",
    "images, labels = next(dataiter)\n",
    "# [batch_size, channel, width, height], [batch_size 만큼의 레이블 수]\n",
    "print(\"images.shape:\", images.shape, \"labels.shape:\", labels.shape)"
   ],
   "id": "2ffd7c80d76b991",
   "outputs": [
    {
     "name": "stdout",
     "output_type": "stream",
     "text": [
      "images.shape: torch.Size([64, 1, 28, 28]) labels.shape: torch.Size([64])\n"
     ]
    }
   ],
   "execution_count": 7
  },
  {
   "metadata": {
    "ExecuteTime": {
     "end_time": "2024-09-10T13:21:13.624926Z",
     "start_time": "2024-09-10T13:21:13.621132Z"
    }
   },
   "cell_type": "code",
   "source": [
    "class SimpleModel(nn.Module):\n",
    "    def __init__(self, input_dim, n_dim):\n",
    "        super(SimpleModel, self).__init__()\n",
    "\n",
    "        self.layer1 = nn.Linear(input_dim, n_dim)\n",
    "        self.layer2 = nn.Linear(n_dim, n_dim)\n",
    "        self.layer3 = nn.Linear(n_dim, 1)\n",
    "\n",
    "        self.activation = nn.ReLU()\n",
    "\n",
    "    def forward(self, x):\n",
    "        # Linear 의 input 으로 넣을 수 있도록 변경\n",
    "        # Linear 의 input: (n, d), x: (n, 1, 28, 28) -> x: (n, 1 * 28 * 28)\n",
    "        x = torch.flatten(x, start_dim=1)\n",
    "        x = self.activation(self.layer1(x))\n",
    "        x = self.activation(self.layer2(x))\n",
    "        x = self.activation(self.layer3(x))\n",
    "        return x"
   ],
   "id": "7a24d4bb09ddd13c",
   "outputs": [],
   "execution_count": 8
  },
  {
   "metadata": {
    "ExecuteTime": {
     "end_time": "2024-09-10T12:43:28.508162Z",
     "start_time": "2024-09-10T12:43:28.501724Z"
    }
   },
   "cell_type": "code",
   "source": [
    "from torch.optim import SGD\n",
    "\n",
    "lr = 0.001\n",
    "model = SimpleModel(1 * 28 * 28, 1024)\n",
    "optimizer = SGD(model.parameters(), lr=lr)"
   ],
   "id": "b34af83f8f67abed",
   "outputs": [],
   "execution_count": 14
  },
  {
   "metadata": {},
   "cell_type": "code",
   "outputs": [],
   "execution_count": null,
   "source": "",
   "id": "6dddfaf128ea8827"
  },
  {
   "metadata": {
    "ExecuteTime": {
     "end_time": "2024-09-10T13:07:29.045449Z",
     "start_time": "2024-09-10T13:03:20.053694Z"
    }
   },
   "cell_type": "code",
   "source": [
    "n_epochs = 100\n",
    "\n",
    "for epoch in range(n_epochs):\n",
    "    total_loss = 0.0\n",
    "    for i, data in enumerate(trainloader, 0):\n",
    "        model.zero_grad()\n",
    "\n",
    "        inputs, labels = data\n",
    "        preds = model(inputs)\n",
    "        loss = (preds[:, 0] - labels).pow(2).mean()\n",
    "        loss.backward()\n",
    "        optimizer.step()\n",
    "\n",
    "        total_loss += loss.item()\n",
    "    print(f\"Epoch {epoch:3d} | Loss: {total_loss}\")"
   ],
   "id": "9014c5d5d3e24b32",
   "outputs": [
    {
     "name": "stdout",
     "output_type": "stream",
     "text": [
      "     Epoch 0 | Loss: 4683.68086206913\n",
      "     Epoch 1 | Loss: 2517.268378019333\n",
      "     Epoch 2 | Loss: 1810.873281776905\n",
      "     Epoch 3 | Loss: 1432.889240205288\n",
      "     Epoch 4 | Loss: 1208.6235261261463\n",
      "     Epoch 5 | Loss: 1063.11292091012\n",
      "     Epoch 6 | Loss: 964.9297283887863\n",
      "     Epoch 7 | Loss: 890.4148194789886\n",
      "     Epoch 8 | Loss: 828.8608049154282\n",
      "     Epoch 9 | Loss: 779.3048553913832\n",
      "     Epoch 10 | Loss: 736.6842475384474\n",
      "     Epoch 11 | Loss: 703.0230737477541\n",
      "     Epoch 12 | Loss: 668.1105719506741\n",
      "     Epoch 13 | Loss: 638.3018149137497\n",
      "     Epoch 14 | Loss: 614.8205677568913\n",
      "     Epoch 15 | Loss: 589.1065252125263\n",
      "     Epoch 16 | Loss: 567.9177693128586\n",
      "     Epoch 17 | Loss: 545.0938456952572\n",
      "     Epoch 18 | Loss: 528.9880058765411\n",
      "     Epoch 19 | Loss: 509.05868746340275\n",
      "     Epoch 20 | Loss: 494.7107842564583\n",
      "     Epoch 21 | Loss: 480.5525456368923\n",
      "     Epoch 22 | Loss: 462.704416975379\n",
      "     Epoch 23 | Loss: 451.7130677551031\n",
      "     Epoch 24 | Loss: 438.71140257269144\n",
      "     Epoch 25 | Loss: 425.55645547807217\n",
      "     Epoch 26 | Loss: 416.73363322019577\n",
      "     Epoch 27 | Loss: 406.6240324229002\n",
      "     Epoch 28 | Loss: 393.8326511979103\n",
      "     Epoch 29 | Loss: 381.64344438910484\n",
      "     Epoch 30 | Loss: 372.2147007137537\n",
      "     Epoch 31 | Loss: 368.16979967802763\n",
      "     Epoch 32 | Loss: 357.4842369630933\n",
      "     Epoch 33 | Loss: 347.62709617614746\n",
      "     Epoch 34 | Loss: 336.5004228949547\n",
      "     Epoch 35 | Loss: 331.3613771572709\n",
      "     Epoch 36 | Loss: 327.35537468641996\n",
      "     Epoch 37 | Loss: 314.51973071694374\n",
      "     Epoch 38 | Loss: 312.231406673789\n",
      "     Epoch 39 | Loss: 302.384583607316\n",
      "     Epoch 40 | Loss: 300.66944763064384\n",
      "     Epoch 41 | Loss: 290.51932299882174\n",
      "     Epoch 42 | Loss: 291.1131352111697\n",
      "     Epoch 43 | Loss: 278.48615442961454\n",
      "     Epoch 44 | Loss: 270.7828184738755\n",
      "     Epoch 45 | Loss: 270.2366004139185\n",
      "     Epoch 46 | Loss: 265.6197791621089\n",
      "     Epoch 47 | Loss: 259.07561299949884\n",
      "     Epoch 48 | Loss: 257.78155236691236\n",
      "     Epoch 49 | Loss: 248.65793012827635\n",
      "     Epoch 50 | Loss: 246.64359582960606\n",
      "     Epoch 51 | Loss: 242.77915365993977\n",
      "     Epoch 52 | Loss: 240.59140563383698\n",
      "     Epoch 53 | Loss: 237.88698633015156\n",
      "     Epoch 54 | Loss: 229.4106983616948\n",
      "     Epoch 55 | Loss: 223.8706275485456\n",
      "     Epoch 56 | Loss: 216.5567163079977\n",
      "     Epoch 57 | Loss: 217.89675941318274\n",
      "     Epoch 58 | Loss: 210.78080492466688\n",
      "     Epoch 59 | Loss: 218.42618010938168\n",
      "     Epoch 60 | Loss: 201.6264306716621\n",
      "     Epoch 61 | Loss: 204.40431201457977\n",
      "     Epoch 62 | Loss: 196.13618486002088\n",
      "     Epoch 63 | Loss: 199.70390563830733\n",
      "     Epoch 64 | Loss: 195.4812369197607\n",
      "     Epoch 65 | Loss: 193.41066271811724\n",
      "     Epoch 66 | Loss: 184.86776961758733\n",
      "     Epoch 67 | Loss: 179.9046504162252\n",
      "     Epoch 68 | Loss: 177.6948842741549\n",
      "     Epoch 69 | Loss: 181.3352733142674\n",
      "     Epoch 70 | Loss: 174.13505437970161\n",
      "     Epoch 71 | Loss: 175.10767639800906\n",
      "     Epoch 72 | Loss: 168.54080207273364\n",
      "     Epoch 73 | Loss: 169.43121230229735\n",
      "     Epoch 74 | Loss: 165.5908921957016\n",
      "     Epoch 75 | Loss: 168.83116494491696\n",
      "     Epoch 76 | Loss: 162.53249284997582\n",
      "     Epoch 77 | Loss: 154.5185496546328\n",
      "     Epoch 78 | Loss: 158.41918445006013\n",
      "     Epoch 79 | Loss: 155.8863116055727\n",
      "     Epoch 80 | Loss: 156.2996002882719\n",
      "     Epoch 81 | Loss: 147.6427759937942\n",
      "     Epoch 82 | Loss: 143.13328828662634\n",
      "     Epoch 83 | Loss: 138.7166192792356\n",
      "     Epoch 84 | Loss: 148.39639861509204\n",
      "     Epoch 85 | Loss: 131.489904217422\n",
      "     Epoch 86 | Loss: 139.62312857434154\n",
      "     Epoch 87 | Loss: 132.46095720492303\n",
      "     Epoch 88 | Loss: 132.5316215902567\n",
      "     Epoch 89 | Loss: 129.85059786587954\n",
      "     Epoch 90 | Loss: 134.17788219451904\n",
      "     Epoch 91 | Loss: 130.57565044239163\n",
      "     Epoch 92 | Loss: 127.10290057212114\n",
      "     Epoch 93 | Loss: 124.77683204039931\n",
      "     Epoch 94 | Loss: 130.17740238830447\n",
      "     Epoch 95 | Loss: 122.56412877514958\n",
      "     Epoch 96 | Loss: 125.02910483628511\n",
      "     Epoch 97 | Loss: 113.74752945452929\n",
      "     Epoch 98 | Loss: 117.02081361040473\n",
      "     Epoch 99 | Loss: 116.18190056830645\n",
      "[Duration]: 248.98829817771912\n"
     ]
    }
   ],
   "execution_count": 15
  }
 ],
 "metadata": {
  "kernelspec": {
   "display_name": "Python 3",
   "language": "python",
   "name": "python3"
  },
  "language_info": {
   "codemirror_mode": {
    "name": "ipython",
    "version": 2
   },
   "file_extension": ".py",
   "mimetype": "text/x-python",
   "name": "python",
   "nbconvert_exporter": "python",
   "pygments_lexer": "ipython2",
   "version": "2.7.6"
  }
 },
 "nbformat": 4,
 "nbformat_minor": 5
}
