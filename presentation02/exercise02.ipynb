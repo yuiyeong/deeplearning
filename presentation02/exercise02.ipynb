{
 "cells": [
  {
   "cell_type": "code",
   "execution_count": 2,
   "id": "bf0a4ce4-09c1-4a4d-a64b-bffeff219446",
   "metadata": {},
   "outputs": [],
   "source": [
    "import numpy as np\n",
    "\n",
    "import torch\n",
    "import torch.nn as nn\n",
    "import math\n",
    "\n",
    "from datasets import load_dataset\n",
    "from torch.onnx.symbolic_opset9 import tensor\n",
    "from torch.utils.data import DataLoader\n",
    "from transformers import BertTokenizerFast\n",
    "from tokenizers import (\n",
    "    decoders,\n",
    "    models,\n",
    "    normalizers,\n",
    "    pre_tokenizers,\n",
    "    processors,\n",
    "    trainers,\n",
    "    Tokenizer,\n",
    ")"
   ]
  },
  {
   "cell_type": "code",
   "execution_count": 3,
   "id": "079a878e-223c-42a5-9b47-00dc69317249",
   "metadata": {},
   "outputs": [],
   "source": [
    "BATCH_SIZE = 64\n",
    "LEARNING_RATE = 1e-3\n",
    "MAX_LENGTH = 400"
   ]
  },
  {
   "cell_type": "code",
   "execution_count": 4,
   "id": "a1ac1b7d-7da6-43a9-a342-992c6503d603",
   "metadata": {},
   "outputs": [
    {
     "data": {
      "application/vnd.jupyter.widget-view+json": {
       "model_id": "f7375e8644ff4adeab648bd545874a0e",
       "version_major": 2,
       "version_minor": 0
      },
      "text/plain": [
       "README.md:   0%|          | 0.00/7.81k [00:00<?, ?B/s]"
      ]
     },
     "metadata": {},
     "output_type": "display_data"
    },
    {
     "data": {
      "application/vnd.jupyter.widget-view+json": {
       "model_id": "ba6875eaa769482387ff8e569b5bffbd",
       "version_major": 2,
       "version_minor": 0
      },
      "text/plain": [
       "train-00000-of-00001.parquet:   0%|          | 0.00/21.0M [00:00<?, ?B/s]"
      ]
     },
     "metadata": {},
     "output_type": "display_data"
    },
    {
     "data": {
      "application/vnd.jupyter.widget-view+json": {
       "model_id": "51b2e964c5da404089cf8cd930e58735",
       "version_major": 2,
       "version_minor": 0
      },
      "text/plain": [
       "test-00000-of-00001.parquet:   0%|          | 0.00/20.5M [00:00<?, ?B/s]"
      ]
     },
     "metadata": {},
     "output_type": "display_data"
    },
    {
     "data": {
      "application/vnd.jupyter.widget-view+json": {
       "model_id": "e42449a6035b4d8795d206e15c5432f2",
       "version_major": 2,
       "version_minor": 0
      },
      "text/plain": [
       "unsupervised-00000-of-00001.parquet:   0%|          | 0.00/42.0M [00:00<?, ?B/s]"
      ]
     },
     "metadata": {},
     "output_type": "display_data"
    },
    {
     "data": {
      "application/vnd.jupyter.widget-view+json": {
       "model_id": "0b21a420b4e64d969b47ce723194e12d",
       "version_major": 2,
       "version_minor": 0
      },
      "text/plain": [
       "Generating train split:   0%|          | 0/25000 [00:00<?, ? examples/s]"
      ]
     },
     "metadata": {},
     "output_type": "display_data"
    },
    {
     "data": {
      "application/vnd.jupyter.widget-view+json": {
       "model_id": "184b0e11f9704d58be551ace43251a81",
       "version_major": 2,
       "version_minor": 0
      },
      "text/plain": [
       "Generating test split:   0%|          | 0/25000 [00:00<?, ? examples/s]"
      ]
     },
     "metadata": {},
     "output_type": "display_data"
    },
    {
     "data": {
      "application/vnd.jupyter.widget-view+json": {
       "model_id": "9e6ef278af80426bb4ecbb49c8e0be2d",
       "version_major": 2,
       "version_minor": 0
      },
      "text/plain": [
       "Generating unsupervised split:   0%|          | 0/50000 [00:00<?, ? examples/s]"
      ]
     },
     "metadata": {},
     "output_type": "display_data"
    },
    {
     "name": "stderr",
     "output_type": "stream",
     "text": [
      "/usr/local/lib/python3.11/dist-packages/torch/hub.py:295: UserWarning: You are about to download and run code from an untrusted repository. In a future release, this won't be allowed. To add the repository to your trusted list, change the command to {calling_fn}(..., trust_repo=False) and a command prompt will appear asking for an explicit confirmation of trust, or load(..., trust_repo=True), which will assume that the prompt is to be answered with 'yes'. You can also use load(..., trust_repo='check') which will only prompt for confirmation if the repo is not already trusted. This will eventually be the default behaviour\n",
      "  warnings.warn(\n",
      "Downloading: \"https://github.com/huggingface/pytorch-transformers/zipball/main\" to /root/.cache/torch/hub/main.zip\n"
     ]
    },
    {
     "data": {
      "application/vnd.jupyter.widget-view+json": {
       "model_id": "0f788f787edc417ba23899ab0ce55d98",
       "version_major": 2,
       "version_minor": 0
      },
      "text/plain": [
       "tokenizer_config.json:   0%|          | 0.00/48.0 [00:00<?, ?B/s]"
      ]
     },
     "metadata": {},
     "output_type": "display_data"
    },
    {
     "data": {
      "application/vnd.jupyter.widget-view+json": {
       "model_id": "13b7324d6a7b4d66b0454464def05dfe",
       "version_major": 2,
       "version_minor": 0
      },
      "text/plain": [
       "config.json:   0%|          | 0.00/570 [00:00<?, ?B/s]"
      ]
     },
     "metadata": {},
     "output_type": "display_data"
    },
    {
     "data": {
      "application/vnd.jupyter.widget-view+json": {
       "model_id": "7bb496dc593d458cbddf4e225e716a32",
       "version_major": 2,
       "version_minor": 0
      },
      "text/plain": [
       "vocab.txt:   0%|          | 0.00/232k [00:00<?, ?B/s]"
      ]
     },
     "metadata": {},
     "output_type": "display_data"
    },
    {
     "data": {
      "application/vnd.jupyter.widget-view+json": {
       "model_id": "8d18085c9565494a831a9947230e46d9",
       "version_major": 2,
       "version_minor": 0
      },
      "text/plain": [
       "tokenizer.json:   0%|          | 0.00/466k [00:00<?, ?B/s]"
      ]
     },
     "metadata": {},
     "output_type": "display_data"
    },
    {
     "name": "stderr",
     "output_type": "stream",
     "text": [
      "/usr/local/lib/python3.11/dist-packages/transformers/tokenization_utils_base.py:1617: FutureWarning: `clean_up_tokenization_spaces` was not set. It will be set to `True` by default. This behavior will be deprecated in transformers v4.45, and will be then set to `False` by default. For more details check this issue: https://github.com/huggingface/transformers/issues/31884\n",
      "  warnings.warn(\n"
     ]
    }
   ],
   "source": [
    "imdb_ds = load_dataset(\"stanfordnlp/imdb\")\n",
    "tokenizer = torch.hub.load(\n",
    "    \"huggingface/pytorch-transformers\", \"tokenizer\", \"bert-base-uncased\"\n",
    ")"
   ]
  },
  {
   "cell_type": "code",
   "execution_count": 5,
   "id": "bea309a1-def2-47a2-bc56-cc02dc6ea57b",
   "metadata": {},
   "outputs": [],
   "source": [
    "def collate_imdb(batch):\n",
    "    texts = []\n",
    "    for row in batch:\n",
    "        texts.append(row[\"text\"])\n",
    "\n",
    "    # (batch_size, MAX_LENGTH)\n",
    "    inputs = torch.LongTensor(\n",
    "        tokenizer(texts, padding=True, truncation=True, max_length=MAX_LENGTH).input_ids\n",
    "    )\n",
    "\n",
    "    last_words = []\n",
    "    for text in inputs:\n",
    "        last_word_token_idx = (text != tokenizer.pad_token_id).nonzero()[-2].item()\n",
    "        last_words.append(text[last_word_token_idx])\n",
    "    labels = torch.LongTensor(last_words)\n",
    "    return inputs, labels\n",
    "\n",
    "\n",
    "train_data_loader = DataLoader(\n",
    "    imdb_ds[\"train\"], batch_size=BATCH_SIZE, shuffle=True, collate_fn=collate_imdb\n",
    ")\n",
    "test_data_loader = DataLoader(\n",
    "    imdb_ds[\"test\"], batch_size=BATCH_SIZE, shuffle=False, collate_fn=collate_imdb\n",
    ")"
   ]
  },
  {
   "cell_type": "code",
   "execution_count": 6,
   "id": "ff32c7f6-7613-4fb0-9ff0-637daeb47903",
   "metadata": {},
   "outputs": [],
   "source": [
    "def get_angles(pos, i, d_model):\n",
    "    angle_rates = 1 / np.power(10_000, (2 * (i // 2)) / np.float32(d_model))\n",
    "    return pos * angle_rates\n",
    "\n",
    "\n",
    "def positional_encoding(position, d_model):\n",
    "    angle_rads = get_angles(\n",
    "        np.arange(position)[:, None], np.arange(d_model)[None, :], d_model\n",
    "    )\n",
    "    angle_rads[:, 0::2] = np.sin(angle_rads[:, 0::2])\n",
    "    angle_rads[:, 1::2] = np.cos(angle_rads[:, 1::2])\n",
    "    pos_encoding = angle_rads[None, ...]\n",
    "\n",
    "    return torch.FloatTensor(pos_encoding)"
   ]
  },
  {
   "cell_type": "code",
   "execution_count": 7,
   "id": "41ab0fff-86e9-44cb-bba3-473efcf12a98",
   "metadata": {},
   "outputs": [],
   "source": [
    "class MultiHeadAttention(nn.Module):\n",
    "    def __init__(self, input_dim, d_model, n_heads):\n",
    "        super().__init__()\n",
    "\n",
    "        self.input_dim = input_dim\n",
    "        self.d_model = d_model\n",
    "        self.n_heads = n_heads\n",
    "        self.d_k = d_model // n_heads\n",
    "\n",
    "        self.wq = nn.Linear(input_dim, d_model)\n",
    "        self.wk = nn.Linear(input_dim, d_model)\n",
    "        self.wv = nn.Linear(input_dim, d_model)\n",
    "        self.wo = nn.Linear(d_model, d_model)\n",
    "\n",
    "        self.softmax = nn.Softmax(dim=-1)\n",
    "\n",
    "    def forward(self, x, mask=None):\n",
    "        batch_size, seq_length, _ = x.size()\n",
    "\n",
    "        # 1. Q, K, V 생성\n",
    "        Q = self.wq(x)\n",
    "        K = self.wk(x)\n",
    "        V = self.wv(x)\n",
    "\n",
    "        # 1.1 Reshape Q, K, V\n",
    "        Q = Q.view(batch_size, seq_length, self.n_heads, self.d_k).transpose(1, 2)\n",
    "        K = K.view(batch_size, seq_length, self.n_heads, self.d_k).transpose(1, 2)\n",
    "        V = V.view(batch_size, seq_length, self.n_heads, self.d_k).transpose(1, 2)\n",
    "\n",
    "        # 2. Attention 점수 계산\n",
    "        scores = torch.matmul(Q, K.transpose(-2, -1)) / math.sqrt(self.d_k)\n",
    "\n",
    "        # 3. Mask 적용 (필요한 경우)\n",
    "        if mask is not None:\n",
    "            # mask shape: [batch_size, 1, 1, seq_length]\n",
    "            # scores shape: [batch_size, n_heads, seq_length, seq_length]\n",
    "            # 마스크를 n_heads 차원으로 확장\n",
    "            mask = mask.repeat(1, self.n_heads, 1, 1)\n",
    "            scores = scores.masked_fill(mask == 0, -1e9)\n",
    "\n",
    "        # 4. Softmax 적용 및 Value 와 곱셈\n",
    "        attention_weights = self.softmax(scores)\n",
    "        output = torch.matmul(attention_weights, V)\n",
    "\n",
    "        # 4.1 Transpose 및 Reshape\n",
    "        output = (\n",
    "            output.transpose(1, 2)\n",
    "            .contiguous()\n",
    "            .view(batch_size, seq_length, self.d_model)\n",
    "        )\n",
    "\n",
    "        # 5. 최종 선형 변환\n",
    "        output = self.wo(output)\n",
    "\n",
    "        return output"
   ]
  },
  {
   "cell_type": "code",
   "execution_count": 8,
   "id": "38eaba91-7125-4936-b3ea-65c2b042a341",
   "metadata": {},
   "outputs": [],
   "source": [
    "class TransformerLayer(nn.Module):\n",
    "    def __init__(self, input_dim, d_model, n_heads, dff, dropout_rate=0.1):\n",
    "        super().__init__()\n",
    "\n",
    "        self.multi_head_attention = MultiHeadAttention(input_dim, d_model, n_heads)\n",
    "        self.ffn = nn.Sequential(\n",
    "            nn.Linear(d_model, dff),\n",
    "            nn.ReLU(),\n",
    "            nn.Linear(dff, d_model),\n",
    "        )\n",
    "\n",
    "        self.layer_norm1 = nn.LayerNorm(d_model)\n",
    "        self.layer_norm2 = nn.LayerNorm(d_model)\n",
    "\n",
    "        self.dropout1 = nn.Dropout(dropout_rate)\n",
    "        self.dropout2 = nn.Dropout()\n",
    "\n",
    "    def forward(self, x, mask):\n",
    "        x1 = self.multi_head_attention(x, mask)\n",
    "        x1 = self.dropout1(x1)\n",
    "        x1 = self.layer_norm1(x1 + x)\n",
    "\n",
    "        x2 = self.ffn(x1)\n",
    "        x2 = self.dropout2(x2)\n",
    "        return self.layer_norm2(x2 + x1)"
   ]
  },
  {
   "cell_type": "code",
   "execution_count": 9,
   "id": "7f69a758-593e-4d2c-8522-02bc5bd3da53",
   "metadata": {},
   "outputs": [],
   "source": [
    "class TextClassifier(nn.Module):\n",
    "    def __init__(self, vocab_size, d_model, n_layers, n_heads, dff, max_len):\n",
    "        super().__init__()\n",
    "\n",
    "        self.vocab_size = vocab_size\n",
    "        self.d_model = d_model\n",
    "        self.n_layers = n_layers\n",
    "        self.n_heads = n_heads\n",
    "        self.dff = dff\n",
    "        self.max_len = max_len\n",
    "\n",
    "        self.embedding = nn.Embedding(vocab_size, d_model)\n",
    "        self.pos_encoding = nn.Parameter(positional_encoding(max_len, d_model))\n",
    "\n",
    "        self.layers = nn.ModuleList(\n",
    "            [TransformerLayer(d_model, d_model, n_heads, dff) for _ in range(n_layers)]\n",
    "        )\n",
    "\n",
    "        self.classification = nn.Linear(d_model, vocab_size)\n",
    "\n",
    "    def forward(self, x):\n",
    "        mask = (x != tokenizer.pad_token_id).unsqueeze(1).unsqueeze(2)\n",
    "        seq_len = x.shape[1]\n",
    "\n",
    "        x = self.embedding(x) * math.sqrt(self.d_model)\n",
    "        x = x + self.pos_encoding[:, :seq_len]\n",
    "\n",
    "        for layer in self.layers:\n",
    "            x = layer(x, mask)\n",
    "\n",
    "        x = x[:, 0]\n",
    "        x = self.classification(x)\n",
    "        return x"
   ]
  },
  {
   "cell_type": "code",
   "execution_count": 10,
   "id": "fc23de93-cbef-4eb3-a86a-88f4443a21d0",
   "metadata": {},
   "outputs": [],
   "source": [
    "my_device = torch.device(\"cuda\")\n",
    "\n",
    "\n",
    "def accuracy(m, dataloader):\n",
    "    cnt = 0\n",
    "    acc = 0\n",
    "\n",
    "    for data in dataloader:\n",
    "        inputs, labels = data\n",
    "        inputs, labels = inputs.to(my_device), labels.to(my_device)\n",
    "\n",
    "        preds = m(inputs)\n",
    "        preds = torch.argmax(preds, dim=-1)\n",
    "\n",
    "        cnt += labels.shape[0]\n",
    "        acc += (labels == preds).sum().item()\n",
    "\n",
    "    return acc / cnt"
   ]
  },
  {
   "cell_type": "code",
   "execution_count": 11,
   "id": "73cb50eb-76fc-46ab-a74c-8fcbce0b6518",
   "metadata": {},
   "outputs": [],
   "source": [
    "model = TextClassifier(\n",
    "    vocab_size=len(tokenizer),\n",
    "    d_model=32,\n",
    "    n_layers=5,\n",
    "    n_heads=4,\n",
    "    dff=32,\n",
    "    max_len=MAX_LENGTH,\n",
    ").to(my_device)"
   ]
  },
  {
   "cell_type": "code",
   "execution_count": 13,
   "id": "f573f22f-e963-4c94-991c-52998b772e4a",
   "metadata": {},
   "outputs": [],
   "source": [
    "from torch.optim import Adam\n",
    "\n",
    "criterion = nn.CrossEntropyLoss()\n",
    "optimizer = Adam(model.parameters(), lr=LEARNING_RATE)"
   ]
  },
  {
   "cell_type": "code",
   "execution_count": 15,
   "id": "2e9dd0ba-5753-435c-9c7e-9e976a3671a6",
   "metadata": {},
   "outputs": [
    {
     "name": "stdout",
     "output_type": "stream",
     "text": [
      "Epoch   1 | Train Loss: 1021.2513822317123\n",
      "=========> Train acc: 0.584 | Test acc: 0.582\n",
      "Epoch   2 | Train Loss: 974.3369988203049\n",
      "=========> Train acc: 0.585 | Test acc: 0.584\n",
      "Epoch   3 | Train Loss: 941.6438277959824\n",
      "=========> Train acc: 0.604 | Test acc: 0.590\n",
      "Epoch   4 | Train Loss: 917.5488213300705\n",
      "=========> Train acc: 0.619 | Test acc: 0.594\n",
      "Epoch   5 | Train Loss: 893.7593641281128\n",
      "=========> Train acc: 0.622 | Test acc: 0.602\n",
      "Epoch   6 | Train Loss: 874.1114381551743\n",
      "=========> Train acc: 0.632 | Test acc: 0.597\n",
      "Epoch   7 | Train Loss: 848.3909306526184\n",
      "=========> Train acc: 0.652 | Test acc: 0.599\n",
      "Epoch   8 | Train Loss: 826.3517911434174\n",
      "=========> Train acc: 0.659 | Test acc: 0.599\n",
      "Epoch   9 | Train Loss: 797.9342907071114\n",
      "=========> Train acc: 0.656 | Test acc: 0.601\n",
      "Epoch  10 | Train Loss: 769.0197402834892\n",
      "=========> Train acc: 0.675 | Test acc: 0.592\n",
      "Epoch  11 | Train Loss: 739.2492669820786\n",
      "=========> Train acc: 0.685 | Test acc: 0.591\n",
      "Epoch  12 | Train Loss: 701.5655187368393\n",
      "=========> Train acc: 0.702 | Test acc: 0.586\n",
      "Epoch  13 | Train Loss: 672.8194280266762\n",
      "=========> Train acc: 0.702 | Test acc: 0.595\n",
      "Epoch  14 | Train Loss: 634.3328731656075\n",
      "=========> Train acc: 0.723 | Test acc: 0.581\n",
      "Epoch  15 | Train Loss: 599.5634234547615\n",
      "=========> Train acc: 0.723 | Test acc: 0.592\n",
      "Epoch  16 | Train Loss: 561.228618144989\n",
      "=========> Train acc: 0.747 | Test acc: 0.584\n",
      "Epoch  17 | Train Loss: 525.0265421867371\n",
      "=========> Train acc: 0.767 | Test acc: 0.591\n",
      "Epoch  18 | Train Loss: 484.8168557882309\n",
      "=========> Train acc: 0.786 | Test acc: 0.580\n",
      "Epoch  19 | Train Loss: 442.6973935365677\n",
      "=========> Train acc: 0.831 | Test acc: 0.582\n",
      "Epoch  20 | Train Loss: 407.9195481836796\n",
      "=========> Train acc: 0.844 | Test acc: 0.578\n",
      "Epoch  21 | Train Loss: 365.99156445264816\n",
      "=========> Train acc: 0.874 | Test acc: 0.582\n",
      "Epoch  22 | Train Loss: 330.82486230134964\n",
      "=========> Train acc: 0.883 | Test acc: 0.587\n",
      "Epoch  23 | Train Loss: 291.4912506490946\n",
      "=========> Train acc: 0.913 | Test acc: 0.564\n",
      "Epoch  24 | Train Loss: 261.08681727945805\n",
      "=========> Train acc: 0.924 | Test acc: 0.584\n",
      "Epoch  25 | Train Loss: 229.6910888850689\n",
      "=========> Train acc: 0.942 | Test acc: 0.575\n",
      "Epoch  26 | Train Loss: 200.98697511851788\n",
      "=========> Train acc: 0.943 | Test acc: 0.589\n",
      "Epoch  27 | Train Loss: 180.26539611071348\n",
      "=========> Train acc: 0.952 | Test acc: 0.578\n",
      "Epoch  28 | Train Loss: 162.99032345414162\n",
      "=========> Train acc: 0.958 | Test acc: 0.579\n",
      "Epoch  29 | Train Loss: 144.7263713106513\n",
      "=========> Train acc: 0.965 | Test acc: 0.586\n",
      "Epoch  30 | Train Loss: 129.83999245613813\n",
      "=========> Train acc: 0.968 | Test acc: 0.582\n",
      "Epoch  31 | Train Loss: 122.32317758351564\n",
      "=========> Train acc: 0.974 | Test acc: 0.573\n",
      "Epoch  32 | Train Loss: 107.76413918286562\n",
      "=========> Train acc: 0.982 | Test acc: 0.578\n",
      "Epoch  33 | Train Loss: 99.49336805567145\n",
      "=========> Train acc: 0.977 | Test acc: 0.583\n",
      "Epoch  34 | Train Loss: 88.0094013735652\n",
      "=========> Train acc: 0.981 | Test acc: 0.565\n",
      "Epoch  35 | Train Loss: 84.77968668192625\n",
      "=========> Train acc: 0.985 | Test acc: 0.581\n",
      "Epoch  36 | Train Loss: 80.71618450060487\n",
      "=========> Train acc: 0.979 | Test acc: 0.593\n",
      "Epoch  37 | Train Loss: 76.1656399294734\n",
      "=========> Train acc: 0.987 | Test acc: 0.572\n",
      "Epoch  38 | Train Loss: 70.53909021615982\n",
      "=========> Train acc: 0.991 | Test acc: 0.574\n",
      "Epoch  39 | Train Loss: 68.23891601711512\n",
      "=========> Train acc: 0.986 | Test acc: 0.571\n",
      "Epoch  40 | Train Loss: 65.45765328034759\n",
      "=========> Train acc: 0.988 | Test acc: 0.587\n",
      "Epoch  41 | Train Loss: 63.027663795277476\n",
      "=========> Train acc: 0.988 | Test acc: 0.581\n",
      "Epoch  42 | Train Loss: 60.482866905629635\n",
      "=========> Train acc: 0.992 | Test acc: 0.589\n",
      "Epoch  43 | Train Loss: 50.77875387854874\n",
      "=========> Train acc: 0.992 | Test acc: 0.581\n",
      "Epoch  44 | Train Loss: 55.96359324641526\n",
      "=========> Train acc: 0.993 | Test acc: 0.590\n",
      "Epoch  45 | Train Loss: 55.17933285608888\n",
      "=========> Train acc: 0.988 | Test acc: 0.576\n",
      "Epoch  46 | Train Loss: 53.855466989800334\n",
      "=========> Train acc: 0.981 | Test acc: 0.590\n",
      "Epoch  47 | Train Loss: 50.10949561651796\n",
      "=========> Train acc: 0.992 | Test acc: 0.570\n",
      "Epoch  48 | Train Loss: 47.89673971943557\n",
      "=========> Train acc: 0.986 | Test acc: 0.610\n",
      "Epoch  49 | Train Loss: 42.312237076926976\n",
      "=========> Train acc: 0.993 | Test acc: 0.606\n",
      "Epoch  50 | Train Loss: 42.58265561889857\n",
      "=========> Train acc: 0.986 | Test acc: 0.612\n"
     ]
    }
   ],
   "source": [
    "n_epochs = 50\n",
    "\n",
    "train_accuracies = []\n",
    "test_accuracies = []\n",
    "\n",
    "for epoch in range(n_epochs):\n",
    "    total_loss = 0.0\n",
    "    model.train()\n",
    "    for data in train_data_loader:\n",
    "        inputs, labels = data\n",
    "        inputs, labels = inputs.to(my_device), labels.to(my_device)\n",
    "\n",
    "        optimizer.zero_grad()\n",
    "\n",
    "        outputs = model(inputs)\n",
    "        predictions = outputs.squeeze()\n",
    "\n",
    "        loss = criterion(predictions, labels)\n",
    "        loss.backward()\n",
    "\n",
    "        optimizer.step()\n",
    "\n",
    "        total_loss += loss.item()\n",
    "\n",
    "    print(f\"Epoch {epoch + 1:3d} | Train Loss: {total_loss}\")\n",
    "\n",
    "    with torch.no_grad():\n",
    "        model.eval()\n",
    "        train_acc = accuracy(model, train_data_loader)\n",
    "        train_accuracies.append(train_acc)\n",
    "        test_acc = accuracy(model, test_data_loader)\n",
    "        test_accuracies.append(test_acc)\n",
    "        print(f\"=========> Train acc: {train_acc:.3f} | Test acc: {test_acc:.3f}\")"
   ]
  },
  {
   "cell_type": "code",
   "execution_count": 18,
   "id": "72b9f41b-ea36-480b-b7c6-3a4a8621d131",
   "metadata": {},
   "outputs": [
    {
     "data": {
      "image/png": "[encoded data removed]",
      "text/plain": [
       "<Figure size 1000x800 with 1 Axes>"
      ]
     },
     "metadata": {},
     "output_type": "display_data"
    }
   ],
   "source": [
    "import matplotlib.pyplot as plt\n",
    "\n",
    "plt.figure(figsize=(10, 8))\n",
    "\n",
    "x_axis = np.arange(len(train_accuracies))\n",
    "plt.plot(x_axis, train_accuracies, label=\"Training Accuracy\")\n",
    "plt.plot(x_axis, test_accuracies, label=\"Test Accuracy\")\n",
    "\n",
    "plt.legend()\n",
    "\n",
    "plt.ylim([0, 1])\n",
    "plt.ylabel(\"Accuracy\")\n",
    "plt.xlabel(\"Epochs\")\n",
    "\n",
    "plt.show()"
   ]
  },
  {
   "cell_type": "markdown",
   "id": "0d1ae5dc-d5e7-4214-b235-6080a055fb2a",
   "metadata": {},
   "source": [
    "## 결과 분석\n",
    "- 훈련 정확도는 지속적으로 상승하는 반면, 테스트 정확도는 크게 개선되지 않고 있습니다. 이는 모델이 훈련 데이터에 과적합되고 있음을 시사합니다.\n",
    "- 특히 15번째 Epoch 이후로 훈련 정확도와 테스트 정확도의 격차가 크게 벌어지고 있습니다.\n",
    "\n",
    "3. 최고 성능:\n",
    "   - 테스트 정확도의 최고값은 50번째 에폭에서 0.612입니다.\n",
    "   - 훈련 정확도는 44번째와 49번째 에폭에서 0.993으로 최고값을 기록했습니다.\n",
    "\n",
    "4. 학습률과 모델 용량:\n",
    "   - 훈련 정확도가 지속적으로 상승하는 것으로 보아, 모델의 용량이 충분하고 학습률이 적절하게 설정된 것으로 보입니다.\n",
    "   - 그러나 테스트 정확도의 개선이 미미한 것을 고려하면, 모델이 훈련 데이터의 노이즈까지 학습하고 있을 가능성이 있습니다.\n",
    "\n",
    "5. 조기 종료(Early Stopping) 고려:\n",
    "   - 테스트 정확도가 20번째 에폭 이후로 크게 개선되지 않는 점을 고려하면, 이 시점에서 훈련을 중단하는 것이 과적합을 방지하는 데 도움이 될 수 있습니다.\n",
    "\n",
    "6. 정규화 기법 필요성:\n",
    "   - 훈련 정확도와 테스트 정확도의 격차가 큰 것을 고려하면, 드롭아웃(Dropout), L1/L2 정규화, 데이터 증강(Data Augmentation) 등의 정규화 기법을 적용하는 것이 모델의 일반화 성능을 향상시키는 데 도움이 될 수 있습니다.\n",
    "\n",
    "결론적으로, 이 모델은 훈련 데이터에 대해서는 매우 높은 성능을 보이지만, 새로운 데이터(테스트 데이터)에 대한 일반화 능력이 부족한 것으로 보입니다. 과적합을 줄이고 모델의 일반화 성능을 향상시키기 위한 추가적인 조치가 필요해 보입니다."
   ]
  }
 ],
 "metadata": {
  "kernelspec": {
   "display_name": "Python 3 (ipykernel)",
   "language": "python",
   "name": "python3"
  },
  "language_info": {
   "codemirror_mode": {
    "name": "ipython",
    "version": 3
   },
   "file_extension": ".py",
   "mimetype": "text/x-python",
   "name": "python",
   "nbconvert_exporter": "python",
   "pygments_lexer": "ipython3",
   "version": "3.11.9"
  }
 },
 "nbformat": 4,
 "nbformat_minor": 5
}
