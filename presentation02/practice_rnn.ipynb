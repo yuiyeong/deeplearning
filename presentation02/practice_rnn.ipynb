{
 "cells": [
  {
   "metadata": {},
   "cell_type": "markdown",
   "source": [
    "# RNN 을 이용한 영화 리뷰 감정 분석\n",
    "- 다음 명령어로 datasets 을 설치합니다.\n",
    "    - datasets: HuggingFace community-driven open-source library of datasets\n",
    "    - 이 [링크](https://huggingface.co/datasets) 에서 다양한 dataset 목록을 확인할 수 있습니다.\n",
    "```bash\n",
    "$ pip install datasets\n",
    "```"
   ],
   "id": "dd272301abb2e00e"
  },
  {
   "metadata": {
    "ExecuteTime": {
     "end_time": "2024-09-25T10:46:45.208713Z",
     "start_time": "2024-09-25T10:46:45.206881Z"
    }
   },
   "cell_type": "code",
   "source": [
    "import torch\n",
    "from datasets import load_dataset"
   ],
   "id": "97ec33565e2ba05f",
   "outputs": [],
   "execution_count": 17
  },
  {
   "metadata": {},
   "cell_type": "markdown",
   "source": [
    "## IMDB dataset\n",
    "- Large Movie Review Dataset. This is a dataset for binary sentiment classification containing substantially more data than previous benchmark datasets. We provide a set of 25,000 highly polar movie reviews for training, and 25,000 for testing. There is additional unlabeled data for use as well.\n",
    "- 다음 key 를 가진 dict 로 구성\n",
    "    - `text`: a string feature.\n",
    "    - `label`: a classification label, with possible values including neg (0), pos (1).\n",
    "- [참고 링크](https://huggingface.co/datasets/stanfordnlp/imdb)"
   ],
   "id": "7a162d66122cf2fb"
  },
  {
   "metadata": {
    "ExecuteTime": {
     "end_time": "2024-09-25T10:34:26.421174Z",
     "start_time": "2024-09-25T10:34:22.175775Z"
    }
   },
   "cell_type": "code",
   "source": [
    "ds = load_dataset(\"stanfordnlp/imdb\")\n",
    "ds"
   ],
   "id": "18d6b472ea3ce973",
   "outputs": [
    {
     "data": {
      "text/plain": [
       "DatasetDict({\n",
       "    train: Dataset({\n",
       "        features: ['text', 'label'],\n",
       "        num_rows: 25000\n",
       "    })\n",
       "    test: Dataset({\n",
       "        features: ['text', 'label'],\n",
       "        num_rows: 25000\n",
       "    })\n",
       "    unsupervised: Dataset({\n",
       "        features: ['text', 'label'],\n",
       "        num_rows: 50000\n",
       "    })\n",
       "})"
      ]
     },
     "execution_count": 2,
     "metadata": {},
     "output_type": "execute_result"
    }
   ],
   "execution_count": 2
  },
  {
   "metadata": {
    "ExecuteTime": {
     "end_time": "2024-09-25T10:34:26.537492Z",
     "start_time": "2024-09-25T10:34:26.534652Z"
    }
   },
   "cell_type": "code",
   "source": [
    "# data 형태 확인\n",
    "print(type(ds[\"train\"][0]), ds[\"train\"][0].keys())\n",
    "ds[\"train\"][0]"
   ],
   "id": "184736db40e1a423",
   "outputs": [
    {
     "name": "stdout",
     "output_type": "stream",
     "text": [
      "<class 'dict'> dict_keys(['text', 'label'])\n"
     ]
    },
    {
     "data": {
      "text/plain": [
       "{'text': 'I rented I AM CURIOUS-YELLOW from my video store because of all the controversy that surrounded it when it was first released in 1967. I also heard that at first it was seized by U.S. customs if it ever tried to enter this country, therefore being a fan of films considered \"controversial\" I really had to see this for myself.<br /><br />The plot is centered around a young Swedish drama student named Lena who wants to learn everything she can about life. In particular she wants to focus her attentions to making some sort of documentary on what the average Swede thought about certain political issues such as the Vietnam War and race issues in the United States. In between asking politicians and ordinary denizens of Stockholm about their opinions on politics, she has sex with her drama teacher, classmates, and married men.<br /><br />What kills me about I AM CURIOUS-YELLOW is that 40 years ago, this was considered pornographic. Really, the sex and nudity scenes are few and far between, even then it\\'s not shot like some cheaply made porno. While my countrymen mind find it shocking, in reality sex and nudity are a major staple in Swedish cinema. Even Ingmar Bergman, arguably their answer to good old boy John Ford, had sex scenes in his films.<br /><br />I do commend the filmmakers for the fact that any sex shown in the film is shown for artistic purposes rather than just to shock people and make money to be shown in pornographic theaters in America. I AM CURIOUS-YELLOW is a good film for anyone wanting to study the meat and potatoes (no pun intended) of Swedish cinema. But really, this film doesn\\'t have much of a plot.',\n",
       " 'label': 0}"
      ]
     },
     "execution_count": 3,
     "metadata": {},
     "output_type": "execute_result"
    }
   ],
   "execution_count": 3
  },
  {
   "metadata": {},
   "cell_type": "markdown",
   "source": [
    "## Tokenizer 만들기\n",
    "### 사용할 Huggingface library 의 모듈\n",
    "- decoders\n",
    "    - 토큰화된 텍스트를 원래의 문자열로 되돌리는 디코더 관련 기능을 제공합니다.\n",
    "    - 예를 들어, WordPiece나 BPE 디코딩 등을 수행할 수 있습니다.\n",
    "- models\n",
    "    - 토크나이저의 핵심 모델을 정의합니다. \n",
    "    - 여기에는 BPE (Byte-Pair Encoding), WordPiece, Unigram 등의 토크나이징 알고리즘이 포함됩니다.\n",
    "- normalizers\n",
    "    - 텍스트 정규화를 위한 기능을 제공합니다. \n",
    "    - 예를 들어, 소문자 변환, 악센트 제거, 유니코드 정규화 등을 수행할 수 있습니다.\n",
    "- pre_tokenizers\n",
    "    - 본격적인 토큰화 이전에 텍스트를 사전 처리하는 기능을 제공합니다.\n",
    "    - 공백으로 분리하거나 정규표현식을 이용한 분리 등을 수행할 수 있습니다.\n",
    "- processors\n",
    "    - 토큰화 후 처리 단계를 담당합니다. \n",
    "    - 예를 들어, 특수 토큰 추가(예: [CLS], [SEP])나 템플릿 처리 등을 수행할 수 있습니다.\n",
    "- trainers\n",
    "    - 토크나이저를 학습시키기 위한 트레이너를 제공합니다.\n",
    "    - 새로운 어휘를 학습하거나 기존 토크나이저를 fine-tuning 할 때 사용됩니다.\n",
    "- Tokenizer\n",
    "    - 실제 토크나이저 객체를 생성하고 관리하는 클래스입니다.\n",
    "    - 위의 모든 구성 요소들을 조합하여 완전한 토크나이징 파이프라인을 구성합니다.\n",
    "\n",
    "### Tokenizer 의 파이프라인\n",
    "실제 토큰화 과정의 일반적인 순서는 아래와 같습니다.\n",
    "\n",
    "1. Normalizers\n",
    "    - 가장 먼저 적용됩니다.\n",
    "    - 텍스트를 정규화합니다 (예: 소문자 변환, 악센트 제거 등).\n",
    "2. Pre-tokenizers\n",
    "    - 정규화된 텍스트를 초기 토큰으로 분리합니다.\n",
    "    - 예를 들어, 공백으로 분리하거나 정규표현식을 사용할 수 있습니다.\n",
    "3. Model\n",
    "    - 실제 토큰화 알고리즘을 적용합니다 (예: BPE, WordPiece, Unigram 등).\n",
    "    - Pre-tokenizer에서 나온 초기 토큰을 더 작은 단위로 분할할 수 있습니다.\n",
    "4. Processors\n",
    "    - 토큰화된 결과에 추가 처리를 적용합니다.\n",
    "    - 예를 들어, 특수 토큰 추가 ([CLS], [SEP] 등) 또는 시퀀스 길이 제한 등을 수행합니다.\n",
    "5. (필요시) Decoder\n",
    "    - 토큰화된 텍스트를 원래 형태로 되돌리는 데 사용됩니다.\n",
    "    - 주로 모델 출력을 해석할 때 사용됩니다.\n"
   ],
   "id": "d8e65f0471525a40"
  },
  {
   "metadata": {
    "ExecuteTime": {
     "end_time": "2024-09-25T10:34:26.984680Z",
     "start_time": "2024-09-25T10:34:26.637752Z"
    }
   },
   "cell_type": "code",
   "source": [
    "from tokenizers import models, normalizers, pre_tokenizers, trainers, Tokenizer"
   ],
   "id": "d6170bcb3cd601e7",
   "outputs": [],
   "execution_count": 4
  },
  {
   "metadata": {
    "ExecuteTime": {
     "end_time": "2024-09-25T10:34:26.993240Z",
     "start_time": "2024-09-25T10:34:26.991003Z"
    }
   },
   "cell_type": "code",
   "source": "tokenizer = Tokenizer(models.WordPiece(unk_token=\"[UNK]\"))",
   "id": "282fca610bc87f0a",
   "outputs": [],
   "execution_count": 5
  },
  {
   "metadata": {
    "ExecuteTime": {
     "end_time": "2024-09-25T10:34:27.000239Z",
     "start_time": "2024-09-25T10:34:26.998285Z"
    }
   },
   "cell_type": "code",
   "source": [
    "tokenizer.normalizer = normalizers.BertNormalizer(\n",
    "    lowercase=True\n",
    ")  # lowercase=True 를 함으로써, 모든 텍스트를 소문자로 변환\n",
    "tokenizer.pre_tokenizer = pre_tokenizers.BertPreTokenizer()"
   ],
   "id": "33da56764cbc878d",
   "outputs": [],
   "execution_count": 6
  },
  {
   "metadata": {},
   "cell_type": "markdown",
   "source": "### Custom Tokenizer 학습",
   "id": "d330cb408bec61f7"
  },
  {
   "metadata": {
    "ExecuteTime": {
     "end_time": "2024-09-25T10:34:28.285024Z",
     "start_time": "2024-09-25T10:34:27.004889Z"
    }
   },
   "cell_type": "code",
   "source": [
    "def get_training_corpus():\n",
    "    \"\"\"\n",
    "    ds 데이터를 1000 개씩 제공하는 generator\n",
    "    \"\"\"\n",
    "    for i in range(0, len(ds[\"train\"]), 1000):\n",
    "        yield ds[\"train\"][i : i + 1000][\"text\"]\n",
    "\n",
    "\n",
    "special_tokens = [\"[UNK]\", \"[PAD]\", \"[CLS]\", \"[SEP]\"]\n",
    "trainer = trainers.WordPieceTrainer(vocab_size=10_000, special_tokens=special_tokens)\n",
    "tokenizer.train_from_iterator(get_training_corpus(), trainer=trainer)"
   ],
   "id": "8dde726e5d6bcbe8",
   "outputs": [
    {
     "name": "stdout",
     "output_type": "stream",
     "text": [
      "\n",
      "\n",
      "\n"
     ]
    }
   ],
   "execution_count": 7
  },
  {
   "metadata": {
    "ExecuteTime": {
     "end_time": "2024-09-25T10:34:28.291540Z",
     "start_time": "2024-09-25T10:34:28.289203Z"
    }
   },
   "cell_type": "code",
   "source": [
    "# 학습 결과\n",
    "tokenizer.encode(\"Hello, world!\")"
   ],
   "id": "b9448c5f2e8aa716",
   "outputs": [
    {
     "data": {
      "text/plain": [
       "Encoding(num_tokens=4, attributes=[ids, type_ids, tokens, offsets, attention_mask, special_tokens_mask, overflowing])"
      ]
     },
     "execution_count": 8,
     "metadata": {},
     "output_type": "execute_result"
    }
   ],
   "execution_count": 8
  },
  {
   "metadata": {},
   "cell_type": "markdown",
   "source": [
    "## Huggingface 의 Transformers 패키지\n",
    "- Transformers는 Hugging Face에서 개발한 오픈 소스 라이브러리입니다.\n",
    "\n",
    "### 목적\n",
    "\n",
    "- 자연어 처리(NLP) 태스크를 위한 최신 사전 학습 모델들을 쉽게 사용할 수 있게 해줍니다.\n",
    "- BERT, GPT, RoBERTa, T5 등 다양한 트랜스포머 기반 모델을 지원합니다.\n",
    "\n",
    "\n",
    "### 주요 특징\n",
    "\n",
    "- 3,000개 이상의 사전 학습된 모델을 제공합니다.\n",
    "- PyTorch, TensorFlow, JAX와 같은 주요 딥러닝 프레임워크를 지원합니다.\n",
    "- 모델 학습, 미세 조정, 추론 등 전체 NLP 파이프라인을 지원합니다.\n",
    "\n",
    "\n",
    "### 사용 편의성\n",
    "\n",
    "- 모델 로딩, 토큰화, 추론 등을 몇 줄의 코드로 수행할 수 있습니다.\n",
    "- Auto 클래스를 통해 모델 아키텍처에 구애받지 않는 코드 작성이 가능합니다.\n",
    "\n",
    "\n",
    "### 확장성\n",
    "\n",
    "- 커스텀 모델과 태스크를 쉽게 추가할 수 있습니다.\n",
    "- 대규모 데이터셋 처리를 위한 도구를 제공합니다.\n",
    "\n",
    "### 설치\n",
    "\n",
    "- 기본 설치\n",
    "    터미널이나 명령 프롬프트에서 다음 명령어를 실행합니다.\n",
    "    \n",
    "    ```\n",
    "    pip install transformers\n",
    "    ```\n",
    "\n",
    "- 일반적으로 Transformers를 사용할 때 함께 사용되는 라이브러리들을 포함하여 설치하는 것이 좋습니다.\n",
    "    이 명령어는 PyTorch와 SentencePiece를 함께 설치합니다.\n",
    "\n",
    "    ```\n",
    "    pip install \"transformers[torch,sentencepiece]\"\n",
    "    ```"
   ],
   "id": "90776722abe9f83e"
  },
  {
   "metadata": {
    "ExecuteTime": {
     "end_time": "2024-09-25T10:34:29.042392Z",
     "start_time": "2024-09-25T10:34:28.295153Z"
    }
   },
   "cell_type": "code",
   "source": [
    "from transformers import BertTokenizerFast\n",
    "\n",
    "tokenizer = BertTokenizerFast(tokenizer_object=tokenizer)"
   ],
   "id": "b677779f83932c0b",
   "outputs": [
    {
     "name": "stderr",
     "output_type": "stream",
     "text": [
      "/Users/joyuiyeong/.pyenv/versions/deeplearning/lib/python3.11/site-packages/transformers/tokenization_utils_base.py:1601: FutureWarning: `clean_up_tokenization_spaces` was not set. It will be set to `True` by default. This behavior will be depracted in transformers v4.45, and will be then set to `False` by default. For more details check this issue: https://github.com/huggingface/transformers/issues/31884\n",
      "  warnings.warn(\n"
     ]
    }
   ],
   "execution_count": 9
  },
  {
   "metadata": {
    "ExecuteTime": {
     "end_time": "2024-09-25T10:34:29.049400Z",
     "start_time": "2024-09-25T10:34:29.046825Z"
    }
   },
   "cell_type": "code",
   "source": [
    "# tokenizing 예시\n",
    "text_list = [\"Hello, world!\", \"Nice to meet you! 😁\"]\n",
    "tokens = tokenizer(text_list, padding=True)\n",
    "tokens.input_ids"
   ],
   "id": "d32f168614cc43ec",
   "outputs": [
    {
     "data": {
      "text/plain": [
       "[[8694, 15, 744, 4, 1, 1], [1089, 166, 2016, 225, 4, 0]]"
      ]
     },
     "execution_count": 10,
     "metadata": {},
     "output_type": "execute_result"
    }
   ],
   "execution_count": 10
  },
  {
   "metadata": {},
   "cell_type": "markdown",
   "source": [
    "## Tokenizer의 vocabulary 와 그 길이의 중요성\n",
    "\n",
    "### Vocabulary의 의미\n",
    "- Vocabulary(어휘)는 tokenizer가 인식하고 처리할 수 있는 모든 고유한 토큰(단어, 부분 단어, 문자 등)의 집합입니다.\n",
    "- 이는 모델이 이해하고 생성할 수 있는 '단어'들의 전체 목록이라고 생각할 수 있습니다.\n",
    "- BERT 스타일 tokenizer의 경우, 이는 전체 단어, 부분 단어(subword), 그리고 개별 문자를 포함할 수 있습니다.\n",
    "\n",
    "### Vocabulary 길이의 의미\n",
    "- `len(tokenizer)`는 이 vocabulary에 포함된 고유한 토큰의 총 개수를 반환합니다.\n",
    "- 예를 들어, 길이가 30,000이라면 tokenizer가 30,000개의 서로 다른 토큰을 인식할 수 있다는 의미입니다.\n",
    "\n",
    "### Vocabulary 길이를 알아야 하는 이유\n",
    "a) 모델 구조 설정\n",
    "  - 많은 NLP 모델, 특히 transformer 기반 모델에서는 입력 임베딩 레이어의 크기를 vocabulary 크기에 맞춰야 합니다.\n",
    "  - 모델의 출력 레이어 또한 종종 vocabulary 크기와 일치해야 합니다(예: 언어 모델링 태스크).\n",
    "\n",
    "b) 모델 성능 예측\n",
    "  - Vocabulary 크기는 모델의 복잡도와 학습 난이도에 영향을 줍니다.\n",
    "  - 너무 작으면 모델의 표현력이 제한될 수 있고, 너무 크면 학습이 어려워질 수 있습니다.\n",
    "\n",
    "c) 메모리 사용량 예측\n",
    "  - Vocabulary 크기는 모델의 메모리 사용량에 직접적인 영향을 미칩니다.\n",
    "  - 특히 임베딩 레이어의 크기를 결정하는 주요 요소입니다.\n",
    "\n",
    "d) OOV(Out-of-Vocabulary) 처리\n",
    "  - Vocabulary 크기를 알면 OOV 토큰의 처리 방식을 결정하는 데 도움이 됩니다.\n",
    "  - 예를 들어, Vocabulary가 작다면 OOV 문제가 더 자주 발생할 수 있으므로 이에 대한 전략이 필요합니다.\n",
    "\n",
    "e) 토큰 ID 범위 확인\n",
    "  - 토큰화된 입력의 유효성을 검사할 때 유용합니다.\n",
    "  - 모든 토큰 ID는 0부터 `len(tokenizer) - 1` 사이의 값이어야 합니다."
   ],
   "id": "826f613ce486abdf"
  },
  {
   "metadata": {
    "ExecuteTime": {
     "end_time": "2024-09-25T10:34:29.057424Z",
     "start_time": "2024-09-25T10:34:29.055547Z"
    }
   },
   "cell_type": "code",
   "source": "print(\"tokenizer 의 사전 크기:\", len(tokenizer))",
   "id": "567b6bea1fed2b8d",
   "outputs": [
    {
     "name": "stdout",
     "output_type": "stream",
     "text": [
      "tokenizer 의 사전 크기: 10001\n"
     ]
    }
   ],
   "execution_count": 11
  },
  {
   "metadata": {
    "ExecuteTime": {
     "end_time": "2024-09-25T10:34:29.074487Z",
     "start_time": "2024-09-25T10:34:29.072485Z"
    }
   },
   "cell_type": "code",
   "source": [
    "print(\"tokenizer 의 unk_token:\", tokenizer.unk_token, \"| id:\", tokenizer.unk_token_id)\n",
    "print(\"tokenizer 의 pad_token:\", tokenizer.pad_token, \"| id:\", tokenizer.pad_token_id)\n",
    "print(\"tokenizer 의 cls_token:\", tokenizer.cls_token, \"| id:\", tokenizer.cls_token_id)\n",
    "print(\"tokenizer 의 sep_token:\", tokenizer.sep_token, \"| id:\", tokenizer.sep_token_id)"
   ],
   "id": "82e750f87a57711a",
   "outputs": [
    {
     "name": "stdout",
     "output_type": "stream",
     "text": [
      "tokenizer 의 unk_token: [UNK] | id: 0\n",
      "tokenizer 의 pad_token: [PAD] | id: 1\n",
      "tokenizer 의 cls_token: [CLS] | id: 2\n",
      "tokenizer 의 sep_token: [SEP] | id: 3\n"
     ]
    }
   ],
   "execution_count": 12
  },
  {
   "metadata": {
    "ExecuteTime": {
     "end_time": "2024-09-25T10:34:36.708647Z",
     "start_time": "2024-09-25T10:34:29.081990Z"
    }
   },
   "cell_type": "code",
   "source": [
    "from matplotlib import pyplot as plt\n",
    "\n",
    "num_tokens_by_data = []\n",
    "for row in ds[\"train\"]:\n",
    "    ids = tokenizer(row[\"text\"]).input_ids\n",
    "    num_tokens_by_data.append(len(ids))\n",
    "\n",
    "plt.ylabel(\"Number of tokens\")\n",
    "plt.xlabel(\"Index of Data\")\n",
    "plt.hist(num_tokens_by_data, bins=50)\n",
    "plt.show()"
   ],
   "id": "83dde3ec8f6ad275",
   "outputs": [
    {
     "data": {
      "text/plain": [
       "<Figure size 640x480 with 1 Axes>"
      ],
      "image/png": "[encoded data removed]"
     },
     "metadata": {},
     "output_type": "display_data"
    }
   ],
   "execution_count": 13
  },
  {
   "metadata": {
    "ExecuteTime": {
     "end_time": "2024-09-25T10:34:36.715766Z",
     "start_time": "2024-09-25T10:34:36.713622Z"
    }
   },
   "cell_type": "code",
   "source": "print(\"평균 token 개수:\", sum(num_tokens_by_data) / len(num_tokens_by_data))",
   "id": "fc48cfed7ff78f1",
   "outputs": [
    {
     "name": "stdout",
     "output_type": "stream",
     "text": [
      "평균 token 개수: 323.03248\n"
     ]
    }
   ],
   "execution_count": 14
  },
  {
   "metadata": {},
   "cell_type": "markdown",
   "source": [
    "## Dataloader 만들기\n",
    "- text data 와 같은 data 는 입력이 가변적이기 때문에 collate_fn 인자에 함수를 넣어주어 같은 shpae 을 같도록 만들어야 합니다.\n",
    "- collate_fn\n",
    "    - 배치(batch)를 만들 때 개별 데이터 샘플들을 어떻게 결합할지 정의합니다.\n",
    "    - 기본 collate_fn은 단순히 텐서들을 스택(stack)하는데, 이는 가변 길이 시퀀스에 적합하지 않습니다.\n",
    "- 텍스트 데이터에서 collate_fn이 필요한 이유\n",
    "    - 리뷰 텍스트의 길이가 다양합니다.\n",
    "    - 토큰화된 시퀀스를 동일한 길이로 만들어야 합니다(패딩).\n",
    "    - 배치 내의 텐서들이 동일한 형태(shape)를 가져야 합니다."
   ],
   "id": "47e52b790ae7408c"
  },
  {
   "metadata": {
    "ExecuteTime": {
     "end_time": "2024-09-25T10:49:43.124543Z",
     "start_time": "2024-09-25T10:49:43.121267Z"
    }
   },
   "cell_type": "code",
   "source": [
    "from torch.utils.data import DataLoader\n",
    "\n",
    "\n",
    "def collate_imdb(batch):\n",
    "    max_length = 400\n",
    "\n",
    "    texts, labels = [], []\n",
    "    for r in batch:\n",
    "        labels.append(r[\"label\"])\n",
    "        texts.append(r[\"text\"])\n",
    "\n",
    "    texts_tensor = torch.LongTensor(\n",
    "        tokenizer(texts, padding=True, truncation=True, max_length=max_length).input_ids\n",
    "    )\n",
    "    labels_tensor = torch.LongTensor(labels)\n",
    "    return texts_tensor, labels_tensor\n",
    "\n",
    "\n",
    "train_data_loader = DataLoader(\n",
    "    ds[\"train\"], batch_size=64, shuffle=True, collate_fn=collate_imdb\n",
    ")\n",
    "test_data_loader = DataLoader(\n",
    "    ds[\"test\"], batch_size=64, shuffle=False, collate_fn=collate_imdb\n",
    ")"
   ],
   "id": "23e755ec391ff8db",
   "outputs": [],
   "execution_count": 23
  },
  {
   "metadata": {
    "ExecuteTime": {
     "end_time": "2024-09-25T10:49:48.044095Z",
     "start_time": "2024-09-25T10:49:48.027756Z"
    }
   },
   "cell_type": "code",
   "source": [
    "ex_text, ex_label = next(iter(train_data_loader))\n",
    "print(ex_text.shape, ex_label.shape)"
   ],
   "id": "82cf4e1c81fbcdb4",
   "outputs": [
    {
     "name": "stdout",
     "output_type": "stream",
     "text": [
      "torch.Size([64, 400]) torch.Size([64])\n"
     ]
    }
   ],
   "execution_count": 24
  },
  {
   "metadata": {},
   "cell_type": "code",
   "outputs": [],
   "execution_count": null,
   "source": "",
   "id": "5220dc15ea016084"
  },
  {
   "metadata": {},
   "cell_type": "code",
   "outputs": [],
   "execution_count": null,
   "source": "",
   "id": "7204cc8ea6157d5d"
  },
  {
   "metadata": {},
   "cell_type": "code",
   "outputs": [],
   "execution_count": null,
   "source": "",
   "id": "c2aa58585f70ac0d"
  },
  {
   "metadata": {},
   "cell_type": "code",
   "outputs": [],
   "execution_count": null,
   "source": "",
   "id": "27f95fcd04d4127e"
  },
  {
   "metadata": {},
   "cell_type": "code",
   "outputs": [],
   "execution_count": null,
   "source": "",
   "id": "8823404e974a681d"
  },
  {
   "metadata": {},
   "cell_type": "code",
   "outputs": [],
   "execution_count": null,
   "source": "",
   "id": "afdb830bf9261a18"
  },
  {
   "metadata": {},
   "cell_type": "code",
   "outputs": [],
   "execution_count": null,
   "source": "",
   "id": "ad35840ae4946095"
  },
  {
   "metadata": {},
   "cell_type": "code",
   "outputs": [],
   "execution_count": null,
   "source": "",
   "id": "c44de2955bbc77c8"
  },
  {
   "metadata": {},
   "cell_type": "code",
   "outputs": [],
   "execution_count": null,
   "source": "",
   "id": "cfaa8a095f2a238d"
  },
  {
   "metadata": {},
   "cell_type": "code",
   "outputs": [],
   "execution_count": null,
   "source": "",
   "id": "ebc19e1dc0e1e094"
  },
  {
   "metadata": {},
   "cell_type": "code",
   "outputs": [],
   "execution_count": null,
   "source": "",
   "id": "cfa4660d8512d2d0"
  },
  {
   "metadata": {},
   "cell_type": "code",
   "outputs": [],
   "execution_count": null,
   "source": "",
   "id": "203c670f576e54ff"
  },
  {
   "metadata": {},
   "cell_type": "code",
   "outputs": [],
   "execution_count": null,
   "source": "",
   "id": "3d4cdadd1bce8f88"
  }
 ],
 "metadata": {
  "kernelspec": {
   "display_name": "Python 3",
   "language": "python",
   "name": "python3"
  },
  "language_info": {
   "codemirror_mode": {
    "name": "ipython",
    "version": 2
   },
   "file_extension": ".py",
   "mimetype": "text/x-python",
   "name": "python",
   "nbconvert_exporter": "python",
   "pygments_lexer": "ipython2",
   "version": "2.7.6"
  }
 },
 "nbformat": 4,
 "nbformat_minor": 5
}
