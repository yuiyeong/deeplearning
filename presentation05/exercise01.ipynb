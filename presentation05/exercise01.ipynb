{
 "cells": [
  {
   "metadata": {},
   "cell_type": "markdown",
   "source": "# LLM 으로 뉴스기사 분류해보기",
   "id": "e2143cdf0e9369d0"
  },
  {
   "metadata": {
    "collapsed": true,
    "ExecuteTime": {
     "end_time": "2024-10-15T12:25:22.325402Z",
     "start_time": "2024-10-15T12:25:21.944288Z"
    }
   },
   "cell_type": "code",
   "source": [
    "import os\n",
    "\n",
    "from dotenv import load_dotenv\n",
    "from huggingface_hub import login\n",
    "\n",
    "load_dotenv()\n",
    "\n",
    "hugging_face_token = os.getenv(\"HUGGING_FACE_TOKEN\")\n",
    "\n",
    "login(hugging_face_token)"
   ],
   "id": "initial_id",
   "outputs": [
    {
     "name": "stdout",
     "output_type": "stream",
     "text": [
      "The token has not been saved to the git credentials helper. Pass `add_to_git_credential=True` in this function directly or `--add-to-git-credential` if using via `huggingface-cli` if you want to set the git credential as well.\n",
      "Token is valid (permission: write).\n",
      "Your token has been saved to /Users/joyuiyeong/.cache/huggingface/token\n",
      "Login successful\n"
     ]
    }
   ],
   "execution_count": 1
  },
  {
   "metadata": {},
   "cell_type": "markdown",
   "source": "## GEMMA 모델과 Tokenizer 로드하기",
   "id": "de53b1d639cfc27e"
  },
  {
   "metadata": {
    "ExecuteTime": {
     "end_time": "2024-10-15T12:25:27.544314Z",
     "start_time": "2024-10-15T12:25:22.328253Z"
    }
   },
   "cell_type": "code",
   "source": [
    "from transformers import AutoTokenizer, AutoModelForCausalLM\n",
    "\n",
    "tokenizer = AutoTokenizer.from_pretrained(\"google/gemma-2b\")\n",
    "model = AutoModelForCausalLM.from_pretrained(\"google/gemma-2b\", device_map=\"auto\")\n",
    "print(model.device)\n",
    "model"
   ],
   "id": "e354b1a4c5123ead",
   "outputs": [
    {
     "name": "stderr",
     "output_type": "stream",
     "text": [
      "`config.hidden_act` is ignored, you should use `config.hidden_activation` instead.\n",
      "Gemma's activation function will be set to `gelu_pytorch_tanh`. Please, use\n",
      "`config.hidden_activation` if you want to override this behaviour.\n",
      "See https://github.com/huggingface/transformers/pull/29402 for more details.\n"
     ]
    },
    {
     "data": {
      "text/plain": [
       "Loading checkpoint shards:   0%|          | 0/2 [00:00<?, ?it/s]"
      ],
      "application/vnd.jupyter.widget-view+json": {
       "version_major": 2,
       "version_minor": 0,
       "model_id": "ebfc44ee29464a15a6086bb582e27f6a"
      }
     },
     "metadata": {},
     "output_type": "display_data"
    },
    {
     "name": "stdout",
     "output_type": "stream",
     "text": [
      "mps:0\n"
     ]
    },
    {
     "data": {
      "text/plain": [
       "GemmaForCausalLM(\n",
       "  (model): GemmaModel(\n",
       "    (embed_tokens): Embedding(256000, 2048, padding_idx=0)\n",
       "    (layers): ModuleList(\n",
       "      (0-17): 18 x GemmaDecoderLayer(\n",
       "        (self_attn): GemmaSdpaAttention(\n",
       "          (q_proj): Linear(in_features=2048, out_features=2048, bias=False)\n",
       "          (k_proj): Linear(in_features=2048, out_features=256, bias=False)\n",
       "          (v_proj): Linear(in_features=2048, out_features=256, bias=False)\n",
       "          (o_proj): Linear(in_features=2048, out_features=2048, bias=False)\n",
       "          (rotary_emb): GemmaRotaryEmbedding()\n",
       "        )\n",
       "        (mlp): GemmaMLP(\n",
       "          (gate_proj): Linear(in_features=2048, out_features=16384, bias=False)\n",
       "          (up_proj): Linear(in_features=2048, out_features=16384, bias=False)\n",
       "          (down_proj): Linear(in_features=16384, out_features=2048, bias=False)\n",
       "          (act_fn): PytorchGELUTanh()\n",
       "        )\n",
       "        (input_layernorm): GemmaRMSNorm((2048,), eps=1e-06)\n",
       "        (post_attention_layernorm): GemmaRMSNorm((2048,), eps=1e-06)\n",
       "      )\n",
       "    )\n",
       "    (norm): GemmaRMSNorm((2048,), eps=1e-06)\n",
       "  )\n",
       "  (lm_head): Linear(in_features=2048, out_features=256000, bias=False)\n",
       ")"
      ]
     },
     "execution_count": 2,
     "metadata": {},
     "output_type": "execute_result"
    }
   ],
   "execution_count": 2
  },
  {
   "metadata": {
    "ExecuteTime": {
     "end_time": "2024-10-15T12:25:27.636036Z",
     "start_time": "2024-10-15T12:25:27.633293Z"
    }
   },
   "cell_type": "code",
   "source": [
    "import torch\n",
    "\n",
    "\n",
    "def get_device():\n",
    "    if torch.cuda.is_available():\n",
    "        return torch.device(\"cuda\")\n",
    "    elif torch.backends.mps.is_available():\n",
    "        return torch.device(\"mps\")\n",
    "    else:\n",
    "        return torch.device(\"cpu\")\n",
    "\n",
    "\n",
    "def clear_cache():\n",
    "    if torch.cuda.is_available():\n",
    "        torch.cuda.empty_cache()\n",
    "    elif torch.backends.mps.is_available():\n",
    "        torch.mps.empty_cache()\n",
    "\n",
    "\n",
    "my_device = get_device()\n",
    "my_device"
   ],
   "id": "e8897f01ba9ce770",
   "outputs": [
    {
     "data": {
      "text/plain": [
       "device(type='mps')"
      ]
     },
     "execution_count": 3,
     "metadata": {},
     "output_type": "execute_result"
    }
   ],
   "execution_count": 3
  },
  {
   "metadata": {},
   "cell_type": "markdown",
   "source": "## Zero-Shot 분류 함수 정의",
   "id": "82ae729ccbd0e38"
  },
  {
   "metadata": {
    "ExecuteTime": {
     "end_time": "2024-10-15T12:25:27.653280Z",
     "start_time": "2024-10-15T12:25:27.650229Z"
    }
   },
   "cell_type": "code",
   "source": [
    "def tokenize(device, text):\n",
    "    tokenized_text = tokenizer(text, return_tensors=\"pt\").to(device)\n",
    "    return tokenized_text[\"input_ids\"], tokenized_text[\"attention_mask\"]\n",
    "\n",
    "\n",
    "def zero_shot_classification(device, task_description, text, candidate_labels):\n",
    "    question_input_ids, question_attention_mask = tokenize(\n",
    "        device, task_description + text\n",
    "    )\n",
    "    scores = []\n",
    "    for label in candidate_labels:\n",
    "        label_input_ids, label_attention_mask = tokenize(device, label)\n",
    "        num_label_tokens = label_input_ids.shape[-1] - 1\n",
    "\n",
    "        input_ids = torch.concatenate(\n",
    "            [question_input_ids, label_input_ids[..., 1:]], axis=-1\n",
    "        )\n",
    "        attention_mask = torch.concatenate(\n",
    "            [question_attention_mask, label_attention_mask[..., 1:]], axis=-1\n",
    "        )\n",
    "\n",
    "        logits = model(input_ids=input_ids, attention_mask=attention_mask).logits\n",
    "        num_total_token = input_ids.shape[-1]\n",
    "        score = sum(\n",
    "            [\n",
    "                logits[0, num_total_token - i, label_input_ids[0, i].item()]\n",
    "                for i in range(num_label_tokens, 0, -1)\n",
    "            ]\n",
    "        )\n",
    "        scores.append(score)\n",
    "\n",
    "        del input_ids\n",
    "        del attention_mask\n",
    "        del logits\n",
    "\n",
    "        clear_cache()\n",
    "    return scores"
   ],
   "id": "e2459f16650441e4",
   "outputs": [],
   "execution_count": 4
  },
  {
   "metadata": {
    "ExecuteTime": {
     "end_time": "2024-10-15T12:25:27.668425Z",
     "start_time": "2024-10-15T12:25:27.665874Z"
    }
   },
   "cell_type": "code",
   "source": [
    "def zero_shot_classification2(device, task_description, text, candidate_labels):\n",
    "    question_input_ids, question_attention_mask = tokenize(\n",
    "        device, task_description + text\n",
    "    )\n",
    "    scores = []\n",
    "    for label in candidate_labels:\n",
    "        label_input_ids, label_attention_mask = tokenize(device, label)\n",
    "        num_label_tokens = label_input_ids.shape[-1] - 1\n",
    "\n",
    "        input_ids = torch.concatenate(\n",
    "            [question_input_ids, label_input_ids[..., 1:]], axis=-1\n",
    "        )\n",
    "        attention_mask = torch.concatenate(\n",
    "            [question_attention_mask, label_attention_mask[..., 1:]], axis=-1\n",
    "        )\n",
    "\n",
    "        logits = model(input_ids=input_ids, attention_mask=attention_mask).logits\n",
    "        num_total_token = input_ids.shape[-1]\n",
    "        score = sum(\n",
    "            [\n",
    "                logits[0, num_total_token - i, label_input_ids[0, i].item()]\n",
    "                for i in range(num_label_tokens, 0, -1)\n",
    "            ]\n",
    "        )\n",
    "        scores.append(score)\n",
    "\n",
    "        del input_ids\n",
    "        del attention_mask\n",
    "        del logits\n",
    "\n",
    "        clear_cache()\n",
    "    return scores"
   ],
   "id": "16806456287dd943",
   "outputs": [],
   "execution_count": 5
  },
  {
   "metadata": {},
   "cell_type": "markdown",
   "source": [
    "## AG News 데이터셋 로드하기\n",
    "- 4개의 뉴스 카테고리\n",
    "    - 1: World, 2: Sports, 3: Business, 4: Science/Technology"
   ],
   "id": "5ee09dab82a64062"
  },
  {
   "metadata": {
    "ExecuteTime": {
     "end_time": "2024-10-15T12:25:32.304355Z",
     "start_time": "2024-10-15T12:25:27.681771Z"
    }
   },
   "cell_type": "code",
   "source": [
    "from datasets import load_dataset\n",
    "\n",
    "ds_ag_news = load_dataset(\"fancyzhx/ag_news\")\n",
    "ds_ag_news"
   ],
   "id": "449533689be4e506",
   "outputs": [
    {
     "data": {
      "text/plain": [
       "DatasetDict({\n",
       "    train: Dataset({\n",
       "        features: ['text', 'label'],\n",
       "        num_rows: 120000\n",
       "    })\n",
       "    test: Dataset({\n",
       "        features: ['text', 'label'],\n",
       "        num_rows: 7600\n",
       "    })\n",
       "})"
      ]
     },
     "execution_count": 6,
     "metadata": {},
     "output_type": "execute_result"
    }
   ],
   "execution_count": 6
  },
  {
   "metadata": {
    "ExecuteTime": {
     "end_time": "2024-10-15T12:25:33.790179Z",
     "start_time": "2024-10-15T12:25:32.942918Z"
    }
   },
   "cell_type": "code",
   "source": [
    "def preprocess_function(data):\n",
    "    return tokenizer(data[\"text\"])\n",
    "\n",
    "\n",
    "tokenized_ds = ds_ag_news.map(preprocess_function, batched=True)"
   ],
   "id": "ddb9fb95e407f69c",
   "outputs": [],
   "execution_count": 7
  },
  {
   "metadata": {},
   "cell_type": "markdown",
   "source": "## test 데이터셋으로 분류해보기",
   "id": "f696cb244b78d5ef"
  },
  {
   "metadata": {
    "ExecuteTime": {
     "end_time": "2024-10-15T12:25:33.794950Z",
     "start_time": "2024-10-15T12:25:33.792722Z"
    }
   },
   "cell_type": "code",
   "source": [
    "from tqdm import tqdm\n",
    "\n",
    "NUM_TEST = 50\n",
    "\n",
    "\n",
    "def classify(dataset, num_test, task_description, candidate_labels):\n",
    "    total_correctness = 0\n",
    "    for i in tqdm(range(num_test)):\n",
    "        text = dataset[i][\"text\"]\n",
    "        label = dataset[i][\"label\"]\n",
    "\n",
    "        scores = zero_shot_classification(\n",
    "            device=my_device,\n",
    "            task_description=task_description,\n",
    "            text=text,\n",
    "            candidate_labels=candidate_labels,\n",
    "        )\n",
    "\n",
    "        prediction = torch.argmax(torch.Tensor(scores)).item()\n",
    "        if prediction == label:\n",
    "            total_correctness += 1\n",
    "    return total_correctness"
   ],
   "id": "ccd09541b025ec6f",
   "outputs": [],
   "execution_count": 8
  },
  {
   "metadata": {},
   "cell_type": "markdown",
   "source": "### 여러 종류의 task_description 형태와 labels 형태로 분류해보기",
   "id": "2be25d3aca2041f8"
  },
  {
   "metadata": {
    "ExecuteTime": {
     "end_time": "2024-10-15T12:25:33.811170Z",
     "start_time": "2024-10-15T12:25:33.807218Z"
    }
   },
   "cell_type": "code",
   "source": [
    "examples = [\n",
    "    {\n",
    "        \"task_description\": \"A short news article is given. Decide which category the article belongs to. Article: \",\n",
    "        \"candidate_labels\": [\n",
    "            \"Answer: World\",\n",
    "            \"Answer: Sports\",\n",
    "            \"Answer: Business\",\n",
    "            \"Answer: Science/Technology\",\n",
    "        ],\n",
    "    },\n",
    "    {\n",
    "        \"task_description\": \"Classify the following news article into an appropriate category. News: \",\n",
    "        \"candidate_labels\": [\n",
    "            \"Answer: World\",\n",
    "            \"Answer: Sports\",\n",
    "            \"Answer: Business\",\n",
    "            \"Answer: Science/Technology\",\n",
    "        ],\n",
    "    },\n",
    "    {\n",
    "        \"task_description\": \"Read the news snippet and determine its main topic. Snippet: \",\n",
    "        \"candidate_labels\": [\n",
    "            \"Answer: World\",\n",
    "            \"Answer: Sports\",\n",
    "            \"Answer: Business\",\n",
    "            \"Answer: Science/Technology\",\n",
    "        ],\n",
    "    },\n",
    "    {\n",
    "        \"task_description\": \"Categorize this piece of news into one of the following sections. News piece: \",\n",
    "        \"candidate_labels\": [\n",
    "            \"Answer: World\",\n",
    "            \"Answer: Sports\",\n",
    "            \"Answer: Business\",\n",
    "            \"Answer: Science/Technology\",\n",
    "        ],\n",
    "    },\n",
    "    {\n",
    "        \"task_description\": \"What type of news is this article? Article: \",\n",
    "        \"candidate_labels\": [\n",
    "            \"Answer: World\",\n",
    "            \"Answer: Sports\",\n",
    "            \"Answer: Business\",\n",
    "            \"Answer: Science/Technology\",\n",
    "        ],\n",
    "    },\n",
    "    {\n",
    "        \"task_description\": \"Identify the most suitable category for the given news item. News item: \",\n",
    "        \"candidate_labels\": [\n",
    "            \"Answer: World\",\n",
    "            \"Answer: Sports\",\n",
    "            \"Answer: Business\",\n",
    "            \"Answer: Science/Technology\",\n",
    "        ],\n",
    "    },\n",
    "    {\n",
    "        \"task_description\": \"To which section of a newspaper would this article belong? Article text: \",\n",
    "        \"candidate_labels\": [\n",
    "            \"World\",\n",
    "            \"Sports\",\n",
    "            \"Business\",\n",
    "            \"Science/Technology\",\n",
    "        ],\n",
    "    },\n",
    "    {\n",
    "        \"task_description\": \"Determine the primary focus of this news story. Story: \",\n",
    "        \"candidate_labels\": [\n",
    "            \"World\",\n",
    "            \"Sports\",\n",
    "            \"Business\",\n",
    "            \"Science/Technology\",\n",
    "        ],\n",
    "    },\n",
    "    {\n",
    "        \"task_description\": \"What's the main theme of the following news excerpt? Excerpt: \",\n",
    "        \"candidate_labels\": [\n",
    "            \"World\",\n",
    "            \"Sports\",\n",
    "            \"Business\",\n",
    "            \"Science/Technology\",\n",
    "        ],\n",
    "    },\n",
    "    {\n",
    "        \"task_description\": \"Assign a category to this news bulletin. Bulletin: \",\n",
    "        \"candidate_labels\": [\n",
    "            \"World\",\n",
    "            \"Sports\",\n",
    "            \"Business\",\n",
    "            \"Science/Technology\",\n",
    "        ],\n",
    "    },\n",
    "    {\n",
    "        \"task_description\": \"Choose the most appropriate news section for this article. Article content: \",\n",
    "        \"candidate_labels\": [\n",
    "            \"World\",\n",
    "            \"Sports\",\n",
    "            \"Business\",\n",
    "            \"Science/Technology\",\n",
    "        ],\n",
    "    },\n",
    "    {\n",
    "        \"task_description\": \"What kind of news story is this? Story details: \",\n",
    "        \"candidate_labels\": [\n",
    "            \"World\",\n",
    "            \"Sports\",\n",
    "            \"Business\",\n",
    "            \"Science/Technology\",\n",
    "        ],\n",
    "    },\n",
    "    {\n",
    "        \"task_description\": \"Classify the topic of this news report. Report: \",\n",
    "        \"candidate_labels\": [\n",
    "            \"World\",\n",
    "            \"Sports\",\n",
    "            \"Business\",\n",
    "            \"Science/Technology\",\n",
    "        ],\n",
    "    },\n",
    "    {\n",
    "        \"task_description\": \"In which category would you place this news item? News: \",\n",
    "        \"candidate_labels\": [\n",
    "            \"World\",\n",
    "            \"Sports\",\n",
    "            \"Business\",\n",
    "            \"Science/Technology\",\n",
    "        ],\n",
    "    },\n",
    "    {\n",
    "        \"task_description\": \"What's the primary subject matter of this news article? Article text: \",\n",
    "        \"candidate_labels\": [\n",
    "            \"World\",\n",
    "            \"Sports\",\n",
    "            \"Business\",\n",
    "            \"Science/Technology\",\n",
    "        ],\n",
    "    },\n",
    "]"
   ],
   "id": "4ead95df28f5f1a",
   "outputs": [],
   "execution_count": 9
  },
  {
   "metadata": {
    "ExecuteTime": {
     "end_time": "2024-10-15T12:32:17.189141Z",
     "start_time": "2024-10-15T12:25:33.825854Z"
    }
   },
   "cell_type": "code",
   "source": [
    "answers = []\n",
    "for example in examples:\n",
    "    answers.append(\n",
    "        classify(\n",
    "            tokenized_ds[\"test\"],\n",
    "            NUM_TEST,\n",
    "            example[\"task_description\"],\n",
    "            example[\"candidate_labels\"],\n",
    "        )\n",
    "    )"
   ],
   "id": "fa38649f4fbdc052",
   "outputs": [
    {
     "name": "stderr",
     "output_type": "stream",
     "text": [
      "100%|██████████| 50/50 [00:30<00:00,  1.64it/s]\n",
      "100%|██████████| 50/50 [00:26<00:00,  1.86it/s]\n",
      "100%|██████████| 50/50 [00:25<00:00,  1.94it/s]\n",
      "100%|██████████| 50/50 [00:25<00:00,  1.96it/s]\n",
      "100%|██████████| 50/50 [00:25<00:00,  1.99it/s]\n",
      "100%|██████████| 50/50 [00:25<00:00,  1.97it/s]\n",
      "100%|██████████| 50/50 [00:24<00:00,  2.08it/s]\n",
      "100%|██████████| 50/50 [00:26<00:00,  1.91it/s]\n",
      "100%|██████████| 50/50 [00:29<00:00,  1.68it/s]\n",
      "100%|██████████| 50/50 [00:30<00:00,  1.65it/s]\n",
      "100%|██████████| 50/50 [00:29<00:00,  1.71it/s]\n",
      "100%|██████████| 50/50 [00:27<00:00,  1.82it/s]\n",
      "100%|██████████| 50/50 [00:25<00:00,  1.94it/s]\n",
      "100%|██████████| 50/50 [00:25<00:00,  1.96it/s]\n",
      "100%|██████████| 50/50 [00:25<00:00,  1.94it/s]\n"
     ]
    }
   ],
   "execution_count": 10
  },
  {
   "metadata": {
    "ExecuteTime": {
     "end_time": "2024-10-16T07:53:16.739071Z",
     "start_time": "2024-10-16T07:53:16.734715Z"
    }
   },
   "cell_type": "code",
   "source": [
    "for answer, example in zip(answers, examples):\n",
    "    print(\n",
    "        \"task_description: \",\n",
    "        example[\"task_description\"],\n",
    "        \"candidate_labels: \",\n",
    "        example[\"candidate_labels\"],\n",
    "    )\n",
    "    print(\"Total Correctness: \", answer, \"Accuracy: \", answer / NUM_TEST)"
   ],
   "id": "6c6545bb16f4819d",
   "outputs": [
    {
     "name": "stdout",
     "output_type": "stream",
     "text": [
      "task_description:  A short news article is given. Decide which category the article belongs to. Article:  candidate_labels:  ['Answer: World', 'Answer: Sports', 'Answer: Business', 'Answer: Science/Technology']\n",
      "Total Correctness:  9 Accuracy:  0.18\n",
      "task_description:  Classify the following news article into an appropriate category. News:  candidate_labels:  ['Answer: World', 'Answer: Sports', 'Answer: Business', 'Answer: Science/Technology']\n",
      "Total Correctness:  12 Accuracy:  0.24\n",
      "task_description:  Read the news snippet and determine its main topic. Snippet:  candidate_labels:  ['Answer: World', 'Answer: Sports', 'Answer: Business', 'Answer: Science/Technology']\n",
      "Total Correctness:  12 Accuracy:  0.24\n",
      "task_description:  Categorize this piece of news into one of the following sections. News piece:  candidate_labels:  ['Answer: World', 'Answer: Sports', 'Answer: Business', 'Answer: Science/Technology']\n",
      "Total Correctness:  12 Accuracy:  0.24\n",
      "task_description:  What type of news is this article? Article:  candidate_labels:  ['Answer: World', 'Answer: Sports', 'Answer: Business', 'Answer: Science/Technology']\n",
      "Total Correctness:  12 Accuracy:  0.24\n",
      "task_description:  Identify the most suitable category for the given news item. News item:  candidate_labels:  ['Answer: World', 'Answer: Sports', 'Answer: Business', 'Answer: Science/Technology']\n",
      "Total Correctness:  10 Accuracy:  0.2\n",
      "task_description:  To which section of a newspaper would this article belong? Article text:  candidate_labels:  ['World', 'Sports', 'Business', 'Science/Technology']\n",
      "Total Correctness:  13 Accuracy:  0.26\n",
      "task_description:  Determine the primary focus of this news story. Story:  candidate_labels:  ['World', 'Sports', 'Business', 'Science/Technology']\n",
      "Total Correctness:  16 Accuracy:  0.32\n",
      "task_description:  What's the main theme of the following news excerpt? Excerpt:  candidate_labels:  ['World', 'Sports', 'Business', 'Science/Technology']\n",
      "Total Correctness:  17 Accuracy:  0.34\n",
      "task_description:  Assign a category to this news bulletin. Bulletin:  candidate_labels:  ['World', 'Sports', 'Business', 'Science/Technology']\n",
      "Total Correctness:  16 Accuracy:  0.32\n",
      "task_description:  Choose the most appropriate news section for this article. Article content:  candidate_labels:  ['World', 'Sports', 'Business', 'Science/Technology']\n",
      "Total Correctness:  16 Accuracy:  0.32\n",
      "task_description:  What kind of news story is this? Story details:  candidate_labels:  ['World', 'Sports', 'Business', 'Science/Technology']\n",
      "Total Correctness:  19 Accuracy:  0.38\n",
      "task_description:  Classify the topic of this news report. Report:  candidate_labels:  ['World', 'Sports', 'Business', 'Science/Technology']\n",
      "Total Correctness:  17 Accuracy:  0.34\n",
      "task_description:  In which category would you place this news item? News:  candidate_labels:  ['World', 'Sports', 'Business', 'Science/Technology']\n",
      "Total Correctness:  14 Accuracy:  0.28\n",
      "task_description:  What's the primary subject matter of this news article? Article text:  candidate_labels:  ['World', 'Sports', 'Business', 'Science/Technology']\n",
      "Total Correctness:  15 Accuracy:  0.3\n"
     ]
    }
   ],
   "execution_count": 15
  },
  {
   "metadata": {},
   "cell_type": "markdown",
   "source": [
    "### 결과 분석\n",
    "\n",
    "- 성능 변동\n",
    "   - 가장 낮은 성능: \"Identify the most suitable category for the given news item.\" (0.2)\n",
    "   - 가장 높은 성능: \"What kind of news story is this? Story details:\" (0.38)\n",
    "- \"Answer:\" 접두사가 있는 경우(첫 두 행)가 없는 경우보다 일반적으로 성능이 낮습니다.\n",
    "- 간단하고 직접적인 질문(\"What kind of news story is this?\")이 더 복잡한 질문보다 더 나은 성능을 보입니다.\n",
    "- 즉, 너무 구체적인 질문(\"To which section of a newspaper would this article belong?\")보다는 일반적인 질문(\"What's the main theme?\")이 더 나은 성능을 보이는 경향이 있습니다."
   ],
   "id": "4048a23304f83c90"
  },
  {
   "metadata": {
    "ExecuteTime": {
     "end_time": "2024-10-15T12:32:17.461262Z",
     "start_time": "2024-10-15T12:32:17.330458Z"
    }
   },
   "cell_type": "code",
   "source": [
    "import gc\n",
    "\n",
    "gc.collect()\n",
    "\n",
    "clear_cache()"
   ],
   "id": "d27d4e1951d8274",
   "outputs": [],
   "execution_count": 13
  },
  {
   "metadata": {
    "ExecuteTime": {
     "end_time": "2024-10-16T08:14:03.109618Z",
     "start_time": "2024-10-16T08:13:50.873667Z"
    }
   },
   "cell_type": "code",
   "source": [
    "def get_embedding(model, tokenizer, text):\n",
    "    # Tokenize the input text\n",
    "    inputs = tokenizer(text, return_tensors=\"pt\").to(model.device)\n",
    "    # Get the hidden states from the model\n",
    "    with torch.no_grad():\n",
    "        outputs = model(**inputs, output_hidden_states=True)\n",
    "        hidden_states = outputs.hidden_states\n",
    "        # Use the last hidden state (or you can experiment with others)\n",
    "        embedding = hidden_states[-1][:, 0, :]  # CLS token embedding\n",
    "    return embedding\n",
    "\n",
    "\n",
    "def zero_shot_classification_v2(\n",
    "    model, tokenizer, task_description, text, candidate_labels\n",
    "):\n",
    "    # Get the embedding for the input text\n",
    "    text_embedding = get_embedding(model, tokenizer, task_description + text)\n",
    "\n",
    "    # Get the embeddings for each label\n",
    "    label_embeddings = [\n",
    "        get_embedding(model, tokenizer, label) for label in candidate_labels\n",
    "    ]\n",
    "\n",
    "    # Compute dot product between text embedding and each label embedding\n",
    "    similarities = [\n",
    "        torch.dot(text_embedding.squeeze(), label_embedding.squeeze())\n",
    "        for label_embedding in label_embeddings\n",
    "    ]\n",
    "\n",
    "    # Select the label with the highest similarity score\n",
    "    return torch.argmax(torch.tensor(similarities))"
   ],
   "id": "d156dd0a4f472b7",
   "outputs": [
    {
     "data": {
      "text/plain": [
       "Loading checkpoint shards:   0%|          | 0/2 [00:00<?, ?it/s]"
      ],
      "application/vnd.jupyter.widget-view+json": {
       "version_major": 2,
       "version_minor": 0,
       "model_id": "92858ad3203f4dd98c0e7af2ca74d07e"
      }
     },
     "metadata": {},
     "output_type": "display_data"
    },
    {
     "name": "stdout",
     "output_type": "stream",
     "text": [
      "Predicted label: Positive\n"
     ]
    }
   ],
   "execution_count": 26
  }
 ],
 "metadata": {
  "kernelspec": {
   "display_name": "Python 3",
   "language": "python",
   "name": "python3"
  },
  "language_info": {
   "codemirror_mode": {
    "name": "ipython",
    "version": 2
   },
   "file_extension": ".py",
   "mimetype": "text/x-python",
   "name": "python",
   "nbconvert_exporter": "python",
   "pygments_lexer": "ipython2",
   "version": "2.7.6"
  }
 },
 "nbformat": 4,
 "nbformat_minor": 5
}
