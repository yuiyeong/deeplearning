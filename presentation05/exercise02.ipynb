{
 "cells": [
  {
   "metadata": {},
   "cell_type": "markdown",
   "source": "# OpenAI 의 API 를 이용해서 수능 국어 문제 풀어보기",
   "id": "31092ea75dd86274"
  },
  {
   "metadata": {},
   "cell_type": "markdown",
   "source": "## API 사용에 필요한 정보 가져오기",
   "id": "b42793c713e6af74"
  },
  {
   "cell_type": "code",
   "id": "initial_id",
   "metadata": {
    "collapsed": true,
    "ExecuteTime": {
     "end_time": "2024-10-16T12:59:23.292832Z",
     "start_time": "2024-10-16T12:59:23.285465Z"
    }
   },
   "source": [
    "import os\n",
    "\n",
    "from dotenv import load_dotenv\n",
    "\n",
    "load_dotenv()\n",
    "\n",
    "open_ai_organization_id = os.getenv(\"OPEN_AI_ORGANIZATION_ID\")\n",
    "open_ai_project_id = os.getenv(\"OPEN_AI_PROJECT_ID\")\n",
    "open_ai_token = os.getenv(\"OPEN_AI_TOKEN\")"
   ],
   "outputs": [],
   "execution_count": 1
  },
  {
   "metadata": {},
   "cell_type": "markdown",
   "source": "## API Client 초기화",
   "id": "1c0cdf3ea1155020"
  },
  {
   "metadata": {
    "ExecuteTime": {
     "end_time": "2024-10-16T12:59:23.477277Z",
     "start_time": "2024-10-16T12:59:23.295239Z"
    }
   },
   "cell_type": "code",
   "source": [
    "from openai import OpenAI\n",
    "\n",
    "MODEL = \"gpt-4o\"\n",
    "\n",
    "open_ai_client = OpenAI(\n",
    "    organization=open_ai_organization_id,\n",
    "    project=open_ai_project_id,\n",
    "    api_key=open_ai_token,\n",
    ")"
   ],
   "id": "5db3dead320195f",
   "outputs": [],
   "execution_count": 2
  },
  {
   "metadata": {
    "ExecuteTime": {
     "end_time": "2024-10-16T12:59:24.409748Z",
     "start_time": "2024-10-16T12:59:23.527011Z"
    }
   },
   "cell_type": "code",
   "source": [
    "# 사용 가능한 open ai 모델 확인\n",
    "for model in open_ai_client.models.list():\n",
    "    print(model.id)"
   ],
   "id": "934e6bb0e50d466f",
   "outputs": [
    {
     "name": "stdout",
     "output_type": "stream",
     "text": [
      "gpt-4-turbo\n",
      "gpt-4-turbo-2024-04-09\n",
      "tts-1\n",
      "tts-1-1106\n",
      "chatgpt-4o-latest\n",
      "dall-e-2\n",
      "gpt-4-turbo-preview\n",
      "gpt-4o-mini\n",
      "gpt-4o-mini-2024-07-18\n",
      "gpt-3.5-turbo-instruct\n",
      "gpt-4-0125-preview\n",
      "gpt-3.5-turbo-0125\n",
      "gpt-4o-2024-08-06\n",
      "gpt-3.5-turbo\n",
      "babbage-002\n",
      "davinci-002\n",
      "gpt-4o-realtime-preview-2024-10-01\n",
      "dall-e-3\n",
      "gpt-4o-realtime-preview\n",
      "gpt-4o-2024-05-13\n",
      "tts-1-hd\n",
      "gpt-4o\n",
      "tts-1-hd-1106\n",
      "gpt-4-1106-preview\n",
      "text-embedding-ada-002\n",
      "gpt-3.5-turbo-16k\n",
      "text-embedding-3-small\n",
      "text-embedding-3-large\n",
      "whisper-1\n",
      "gpt-3.5-turbo-1106\n",
      "gpt-4-0613\n",
      "gpt-4\n",
      "gpt-3.5-turbo-instruct-0914\n"
     ]
    }
   ],
   "execution_count": 3
  },
  {
   "metadata": {},
   "cell_type": "markdown",
   "source": [
    "### prediction 함수 정의하기\n",
    "- prediction 이라는 함수에서 OpenAI 의 API 를 호출하여 수능 국어 문제를 풀고 그 답을 반환하도록 합니다."
   ],
   "id": "29fa5eb34d3cd669"
  },
  {
   "metadata": {
    "ExecuteTime": {
     "end_time": "2024-10-16T12:59:24.492481Z",
     "start_time": "2024-10-16T12:59:24.487041Z"
    }
   },
   "cell_type": "code",
   "source": [
    "from openai.types.chat import ChatCompletionMessage\n",
    "import re\n",
    "\n",
    "\n",
    "def create_message(role: str, content: str) -> dict:\n",
    "    return {\"role\": role, \"content\": [{\"type\": \"text\", \"text\": content}]}\n",
    "\n",
    "\n",
    "def create_system_message(content: str) -> dict:\n",
    "    return create_message(\"system\", content)\n",
    "\n",
    "\n",
    "def create_user_message(content: str) -> dict:\n",
    "    return create_message(\"user\", content)\n",
    "\n",
    "\n",
    "def extract_and_format_answer(answer_message: ChatCompletionMessage) -> int:\n",
    "    pattern = r\"(\\d+)번\"\n",
    "    match = re.search(pattern, answer_message.content)\n",
    "    if match:\n",
    "        return int(match.group(1))\n",
    "    else:\n",
    "        return -1\n",
    "\n",
    "\n",
    "def prediction(paragraph: str, question: str, choices: list) -> int:\n",
    "    choices_str = \"\\n\".join([f\"{i + 1}번 {choice}\" for i, choice in enumerate(choices)])\n",
    "    messages = [\n",
    "        create_system_message(\n",
    "            \"\"\"넌 한국의 국어 교육을 전공한 사람으로, 학생을 가르치는 선생님이야.\n",
    "이제 한국의 SAT 라고 불리는 대학 수학 능력 시험 중 국어 부문의 문제를 풀고, 학생에게 답을 알려주어야해.\n",
    "문제의 형식은 지문이 주어지고, 오지선다에서 정답 1개를 선택하는,즉 객관식이야.\n",
    "학생인 문제를 물어보면 답인 번호를 말해줘.\"\"\"\n",
    "        ),\n",
    "        create_user_message(\n",
    "            f\"\"\"지문을 읽고, 문제의 답의 번호를 말해줘. 오직 번호만 말해줘.\n",
    "\n",
    "지문: \n",
    "{paragraph}\n",
    "---\n",
    "문제: \n",
    "{question}\n",
    "---\n",
    "선택지:\n",
    "{choices_str}\"\"\"\n",
    "        ),\n",
    "    ]\n",
    "\n",
    "    completion = open_ai_client.chat.completions.create(model=MODEL, messages=messages)\n",
    "\n",
    "    return extract_and_format_answer(completion.choices[0].message)"
   ],
   "id": "9770f0b1d72828da",
   "outputs": [],
   "execution_count": 4
  },
  {
   "metadata": {},
   "cell_type": "markdown",
   "source": [
    "## 수능 국어 문제 가져오기\n",
    "- `problems.json` 파일은 글의 지문인 `paragraph` 와 객관식의 모임은 `problems` 를 가지는 json 객체를 가지는 리스트 입니다.\n",
    "- 아래와 같은 구조로 되어있습니다.\n",
    "    ```JSON\n",
    "    [\n",
    "        {\n",
    "            \"paragraph\": \"지문\",\n",
    "            \"problems\": [\n",
    "                {\n",
    "                    \"question\": \"문제\",\n",
    "                    \"choices\": [\"5개의 선택지가 나열되어있는 리스트\", \"...\"],\n",
    "                    \"answer\": 3, // 정답 번호\n",
    "                    \"score\": 3 // 이 문제의 정답\n",
    "                }, {\n",
    "                    \"question\": \"문제\",\n",
    "                    \"choices\": [\"5개의 선택지가 나열되어있는 리스트\", \"...\"],\n",
    "                    \"answer\": 1, // 정답 번호\n",
    "                    \"score\": 3 // 이 문제의 정답\n",
    "                } // ...\n",
    "            ]\n",
    "        }\n",
    "    // ...\n",
    "    ]\n",
    "    ```"
   ],
   "id": "cc976aa9e47cf5a4"
  },
  {
   "metadata": {
    "ExecuteTime": {
     "end_time": "2024-10-16T12:59:24.503404Z",
     "start_time": "2024-10-16T12:59:24.500586Z"
    }
   },
   "cell_type": "code",
   "source": [
    "import json\n",
    "\n",
    "with open(\"problems.json\", \"r\") as f:\n",
    "    korean_problems = json.load(f)"
   ],
   "id": "c82e5058421b4860",
   "outputs": [],
   "execution_count": 5
  },
  {
   "metadata": {},
   "cell_type": "markdown",
   "source": "## prediction 으로 수능 국어 문제 풀기",
   "id": "fb7d5b7dc4224486"
  },
  {
   "metadata": {
    "ExecuteTime": {
     "end_time": "2024-10-16T13:00:34.471337Z",
     "start_time": "2024-10-16T12:59:24.509302Z"
    }
   },
   "cell_type": "code",
   "source": [
    "total_scores = 0\n",
    "for korean_problem in korean_problems:\n",
    "    paragraph = korean_problem[\"paragraph\"]\n",
    "    for problem in korean_problem[\"problems\"]:\n",
    "        question = problem[\"question\"]\n",
    "        choices = problem[\"choices\"]\n",
    "        answer = problem[\"answer\"]\n",
    "        score = problem[\"score\"]\n",
    "\n",
    "        pred = prediction(paragraph, question, choices)\n",
    "        if answer == pred:\n",
    "            total_scores += score\n",
    "\n",
    "print(f\"{MODEL} 의 수능 국어 문제 점수는 {total_scores} 입니다.\")"
   ],
   "id": "c6689ee6d0dbea13",
   "outputs": [
    {
     "name": "stdout",
     "output_type": "stream",
     "text": [
      "gpt-4o 의 수능 국어 문제 점수는 75 입니다.\n"
     ]
    }
   ],
   "execution_count": 6
  }
 ],
 "metadata": {
  "kernelspec": {
   "display_name": "Python 3",
   "language": "python",
   "name": "python3"
  },
  "language_info": {
   "codemirror_mode": {
    "name": "ipython",
    "version": 2
   },
   "file_extension": ".py",
   "mimetype": "text/x-python",
   "name": "python",
   "nbconvert_exporter": "python",
   "pygments_lexer": "ipython2",
   "version": "2.7.6"
  }
 },
 "nbformat": 4,
 "nbformat_minor": 5
}
