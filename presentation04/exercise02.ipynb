{
 "cells": [
  {
   "cell_type": "markdown",
   "metadata": {},
   "source": [
    "# MNLI task 를 해결하는 모델 만들기\n",
    "\n",
    "- MNLI(Multi-Genre Natural Language Inference)는 자연어 추론(Natural Language Inference) 작업의 한 유형입니다. \n",
    "- 이 작업은 두 개의 문장(전제와 가설)이 주어졌을 때, 그들 사이의 논리적 관계를 판단하는 것입니다.\n",
    "- MNLI에서는 세 가지 관계 중 하나로 분류합니다.\n",
    "    - 함의(entailment): 전제가 가설을 논리적으로 함의하는 경우\n",
    "    - 모순(contradiction): 전제가 가설과 모순되는 경우\n",
    "    - 중립(neutral): 전제와 가설 사이에 명확한 논리적 관계가 없는 경우\n",
    "\n",
    "## 데이터셋\n",
    "- [nyu-mll/glue](https://huggingface.co/datasets/nyu-mll/glue) 에서 MNLI task 에 해당하는 데이터셋을 사용합니다.\n",
    "- \"nyu-mll/glue\"는 New York University Machine Learning Lab에서 제공하는 GLUE 벤치마크 데이터셋입니다.\n",
    "- GLUE 벤치마크의 여러 개의 task 중 \"mnli\"를 가져와서 사용합니다.\n",
    "- 데이터셋은 아래와 같이 구성되어 있습니다.\n",
    "    - train:\n",
    "    - validation_matched:\n",
    "    - validation_mismatched:\n",
    "    - test_matched:\n",
    "    - test_mismatched:\n",
    "- 데이터셋의 각 데이터는 아래와 같이 구성되어 있습니다.\n",
    "    - premise: 전제 문장\n",
    "    - hypothesis: 가설 문장\n",
    "    - label: 두 문장의 관계로, entailment (0), neutral (1), contradiction (2) 중 하나를 가집니다."
   ]
  },
  {
   "cell_type": "code",
   "execution_count": 13,
   "metadata": {},
   "outputs": [
    {
     "name": "stdout",
     "output_type": "stream",
     "text": [
      "DatasetDict({\n",
      "    train: Dataset({\n",
      "        features: ['premise', 'hypothesis', 'label', 'idx'],\n",
      "        num_rows: 392702\n",
      "    })\n",
      "    validation_matched: Dataset({\n",
      "        features: ['premise', 'hypothesis', 'label', 'idx'],\n",
      "        num_rows: 9815\n",
      "    })\n",
      "    validation_mismatched: Dataset({\n",
      "        features: ['premise', 'hypothesis', 'label', 'idx'],\n",
      "        num_rows: 9832\n",
      "    })\n",
      "    test_matched: Dataset({\n",
      "        features: ['premise', 'hypothesis', 'label', 'idx'],\n",
      "        num_rows: 9796\n",
      "    })\n",
      "    test_mismatched: Dataset({\n",
      "        features: ['premise', 'hypothesis', 'label', 'idx'],\n",
      "        num_rows: 9847\n",
      "    })\n",
      "})\n",
      "{'hypothesis': 'Product and geography are what make cream skimming work. ',\n",
      " 'idx': 0,\n",
      " 'label': 1,\n",
      " 'premise': 'Conceptually cream skimming has two basic dimensions - product '\n",
      "            'and geography.'}\n"
     ]
    }
   ],
   "source": [
    "import pprint\n",
    "from datasets import load_dataset\n",
    "\n",
    "dataset = load_dataset(\"nyu-mll/glue\", \"mnli\")\n",
    "print(dataset)\n",
    "pprint.pprint(dataset[\"train\"][0])"
   ]
  },
  {
   "cell_type": "code",
   "execution_count": 15,
   "metadata": {},
   "outputs": [],
   "source": [
    "NUM_DS_LABELS = 3\n",
    "id2label = {0: \"ENTAILMENT\", 1: \"NEUTRAL\", 2: \"CONTRADICTION\"}\n",
    "label2id = {\"ENTAILMENT\": 0, \"NEUTRAL\": 1, \"CONTRADICTION\": 2}"
   ]
  },
  {
   "cell_type": "code",
   "execution_count": null,
   "metadata": {},
   "outputs": [],
   "source": [
    "# dependencies\n",
    "from transformers import (\n",
    "    AutoModelForSequenceClassification,\n",
    "    AutoTokenizer,\n",
    "    TrainingArguments,\n",
    "    Trainer,\n",
    ")\n",
    "\n",
    "import evaluate\n",
    "import numpy as np\n",
    "\n",
    "import matplotlib.pyplot as plt"
   ]
  },
  {
   "cell_type": "code",
   "execution_count": null,
   "metadata": {},
   "outputs": [],
   "source": [
    "# compute metrics 정의\n",
    "accuracy = evaluate.load(\"accuracy\")\n",
    "\n",
    "\n",
    "def compute_metrics(pred):\n",
    "    predictions, labels = pred\n",
    "    predictions = np.argmax(predictions, axis=1)\n",
    "    return accuracy.compute(predictions=predictions, references=labels)"
   ]
  },
  {
   "cell_type": "markdown",
   "metadata": {},
   "source": [
    "## MNLI 용 파인 튜닝된 DistilBERT 모델 만들기"
   ]
  },
  {
   "cell_type": "markdown",
   "metadata": {},
   "source": [
    "### DistilBERT 로딩"
   ]
  },
  {
   "cell_type": "code",
   "execution_count": 16,
   "metadata": {},
   "outputs": [
    {
     "name": "stderr",
     "output_type": "stream",
     "text": [
      "Some weights of DistilBertForSequenceClassification were not initialized from the model checkpoint at distilbert-base-uncased and are newly initialized: ['classifier.bias', 'classifier.weight', 'pre_classifier.bias', 'pre_classifier.weight']\n",
      "You should probably TRAIN this model on a down-stream task to be able to use it for predictions and inference.\n"
     ]
    }
   ],
   "source": [
    "fine_tuning_d_bert = AutoModelForSequenceClassification.from_pretrained(\n",
    "    \"distilbert-base-uncased\",\n",
    "    num_labels=NUM_DS_LABELS,\n",
    "    id2label=id2label,\n",
    "    label2id=label2id,\n",
    ")\n",
    "\n",
    "# freezing\n",
    "for param in fine_tuning_d_bert.distilbert.parameters():\n",
    "    param.requires_grad = False"
   ]
  },
  {
   "cell_type": "markdown",
   "metadata": {},
   "source": [
    "### DistilBERT 의 Tokenizer 로딩"
   ]
  },
  {
   "cell_type": "code",
   "execution_count": 17,
   "metadata": {},
   "outputs": [
    {
     "name": "stderr",
     "output_type": "stream",
     "text": [
      "/Users/joyuiyeong/.pyenv/versions/3.11.9/envs/deeplearning/lib/python3.11/site-packages/transformers/tokenization_utils_base.py:1601: FutureWarning: `clean_up_tokenization_spaces` was not set. It will be set to `True` by default. This behavior will be depracted in transformers v4.45, and will be then set to `False` by default. For more details check this issue: https://github.com/huggingface/transformers/issues/31884\n",
      "  warnings.warn(\n"
     ]
    }
   ],
   "source": [
    "d_bert_tokenizer = AutoTokenizer.from_pretrained(\"distilbert/distilbert-base-uncased\")"
   ]
  },
  {
   "cell_type": "markdown",
   "metadata": {},
   "source": [
    "### 데이터셋 전처리"
   ]
  },
  {
   "cell_type": "code",
   "execution_count": 18,
   "metadata": {},
   "outputs": [
    {
     "data": {
      "application/vnd.jupyter.widget-view+json": {
       "model_id": "832c959fae6e4179b8515c7bb905df7a",
       "version_major": 2,
       "version_minor": 0
      },
      "text/plain": [
       "Map:   0%|          | 0/9832 [00:00<?, ? examples/s]"
      ]
     },
     "metadata": {},
     "output_type": "display_data"
    }
   ],
   "source": [
    "def preprocess_function_by_d_bert_tokenizer(data):\n",
    "    return d_bert_tokenizer(\n",
    "        data[\"premise\"], data[\"hypothesis\"], truncation=True, padding=\"max_length\"\n",
    "    )\n",
    "\n",
    "\n",
    "d_bert_tokenized_ds = dataset.map(preprocess_function_by_d_bert_tokenizer, batched=True)"
   ]
  },
  {
   "cell_type": "markdown",
   "metadata": {},
   "source": [
    "### 데이터셋 분할"
   ]
  },
  {
   "cell_type": "code",
   "execution_count": 19,
   "metadata": {},
   "outputs": [
    {
     "data": {
      "text/plain": [
       "(314161, 78541)"
      ]
     },
     "execution_count": 19,
     "metadata": {},
     "output_type": "execute_result"
    }
   ],
   "source": [
    "d_bert_ds_split = d_bert_tokenized_ds[\"train\"].train_test_split(test_size=0.2)\n",
    "d_bert_train_ds = d_bert_ds_split[\"train\"]\n",
    "d_bert_val_ds = d_bert_ds_split[\"test\"]\n",
    "\n",
    "len(d_bert_train_ds), len(d_bert_val_ds)"
   ]
  },
  {
   "cell_type": "markdown",
   "metadata": {},
   "source": [
    "### TrainingArguments 설정"
   ]
  },
  {
   "cell_type": "code",
   "execution_count": 20,
   "metadata": {},
   "outputs": [],
   "source": [
    "DISTILBERT_DIR_OUTPUT = \"../data/fine_tuned_distilbert_for_mnli\"\n",
    "DISTILBERT_EPOCHS = 10\n",
    "DISTILBERT_LEARNING_RATE = 1e-3\n",
    "DISTILBERT_BATCH_SIZE = 64"
   ]
  },
  {
   "cell_type": "code",
   "execution_count": 21,
   "metadata": {},
   "outputs": [
    {
     "data": {
      "text/plain": [
       "TrainingArguments(\n",
       "_n_gpu=1,\n",
       "accelerator_config={'split_batches': False, 'dispatch_batches': None, 'even_batches': True, 'use_seedable_sampler': True, 'non_blocking': False, 'gradient_accumulation_kwargs': None, 'use_configured_state': False},\n",
       "adafactor=False,\n",
       "adam_beta1=0.9,\n",
       "adam_beta2=0.999,\n",
       "adam_epsilon=1e-08,\n",
       "auto_find_batch_size=False,\n",
       "batch_eval_metrics=False,\n",
       "bf16=False,\n",
       "bf16_full_eval=False,\n",
       "data_seed=None,\n",
       "dataloader_drop_last=False,\n",
       "dataloader_num_workers=0,\n",
       "dataloader_persistent_workers=False,\n",
       "dataloader_pin_memory=True,\n",
       "dataloader_prefetch_factor=None,\n",
       "ddp_backend=None,\n",
       "ddp_broadcast_buffers=None,\n",
       "ddp_bucket_cap_mb=None,\n",
       "ddp_find_unused_parameters=None,\n",
       "ddp_timeout=1800,\n",
       "debug=[],\n",
       "deepspeed=None,\n",
       "disable_tqdm=False,\n",
       "dispatch_batches=None,\n",
       "do_eval=True,\n",
       "do_predict=False,\n",
       "do_train=True,\n",
       "eval_accumulation_steps=None,\n",
       "eval_delay=0,\n",
       "eval_do_concat_batches=True,\n",
       "eval_on_start=False,\n",
       "eval_steps=None,\n",
       "eval_strategy=IntervalStrategy.EPOCH,\n",
       "eval_use_gather_object=False,\n",
       "evaluation_strategy=None,\n",
       "fp16=False,\n",
       "fp16_backend=auto,\n",
       "fp16_full_eval=False,\n",
       "fp16_opt_level=O1,\n",
       "fsdp=[],\n",
       "fsdp_config={'min_num_params': 0, 'xla': False, 'xla_fsdp_v2': False, 'xla_fsdp_grad_ckpt': False},\n",
       "fsdp_min_num_params=0,\n",
       "fsdp_transformer_layer_cls_to_wrap=None,\n",
       "full_determinism=False,\n",
       "gradient_accumulation_steps=1,\n",
       "gradient_checkpointing=False,\n",
       "gradient_checkpointing_kwargs=None,\n",
       "greater_is_better=False,\n",
       "group_by_length=False,\n",
       "half_precision_backend=auto,\n",
       "hub_always_push=False,\n",
       "hub_model_id=None,\n",
       "hub_private_repo=False,\n",
       "hub_strategy=HubStrategy.EVERY_SAVE,\n",
       "hub_token=<HUB_TOKEN>,\n",
       "ignore_data_skip=False,\n",
       "include_inputs_for_metrics=False,\n",
       "include_num_input_tokens_seen=False,\n",
       "include_tokens_per_second=False,\n",
       "jit_mode_eval=False,\n",
       "label_names=None,\n",
       "label_smoothing_factor=0.0,\n",
       "learning_rate=0.001,\n",
       "length_column_name=length,\n",
       "load_best_model_at_end=True,\n",
       "local_rank=0,\n",
       "log_level=passive,\n",
       "log_level_replica=warning,\n",
       "log_on_each_node=True,\n",
       "logging_dir=../data/fine_tuned_distilbert_for_mnli/logs,\n",
       "logging_first_step=False,\n",
       "logging_nan_inf_filter=True,\n",
       "logging_steps=500,\n",
       "logging_strategy=IntervalStrategy.EPOCH,\n",
       "lr_scheduler_kwargs={},\n",
       "lr_scheduler_type=SchedulerType.LINEAR,\n",
       "max_grad_norm=1.0,\n",
       "max_steps=-1,\n",
       "metric_for_best_model=loss,\n",
       "mp_parameters=,\n",
       "neftune_noise_alpha=None,\n",
       "no_cuda=False,\n",
       "num_train_epochs=10,\n",
       "optim=OptimizerNames.ADAMW_TORCH,\n",
       "optim_args=None,\n",
       "optim_target_modules=None,\n",
       "output_dir=../data/fine_tuned_distilbert_for_mnli,\n",
       "overwrite_output_dir=False,\n",
       "past_index=-1,\n",
       "per_device_eval_batch_size=64,\n",
       "per_device_train_batch_size=64,\n",
       "prediction_loss_only=False,\n",
       "push_to_hub=False,\n",
       "push_to_hub_model_id=None,\n",
       "push_to_hub_organization=None,\n",
       "push_to_hub_token=<PUSH_TO_HUB_TOKEN>,\n",
       "ray_scope=last,\n",
       "remove_unused_columns=True,\n",
       "report_to=[],\n",
       "restore_callback_states_from_checkpoint=False,\n",
       "resume_from_checkpoint=None,\n",
       "run_name=../data/fine_tuned_distilbert_for_mnli,\n",
       "save_on_each_node=False,\n",
       "save_only_model=False,\n",
       "save_safetensors=True,\n",
       "save_steps=500,\n",
       "save_strategy=IntervalStrategy.EPOCH,\n",
       "save_total_limit=None,\n",
       "seed=42,\n",
       "skip_memory_metrics=True,\n",
       "split_batches=None,\n",
       "tf32=None,\n",
       "torch_compile=False,\n",
       "torch_compile_backend=None,\n",
       "torch_compile_mode=None,\n",
       "torch_empty_cache_steps=None,\n",
       "torchdynamo=None,\n",
       "tpu_metrics_debug=False,\n",
       "tpu_num_cores=None,\n",
       "use_cpu=False,\n",
       "use_ipex=False,\n",
       "use_legacy_prediction_loop=False,\n",
       "use_mps_device=False,\n",
       "warmup_ratio=0.0,\n",
       "warmup_steps=0,\n",
       "weight_decay=0.0,\n",
       ")"
      ]
     },
     "execution_count": 21,
     "metadata": {},
     "output_type": "execute_result"
    }
   ],
   "source": [
    "d_bert_training_args = TrainingArguments(\n",
    "    output_dir=DISTILBERT_DIR_OUTPUT,\n",
    "    logging_dir=f\"{DISTILBERT_DIR_OUTPUT}/logs\",\n",
    "    logging_strategy=\"epoch\",\n",
    "    num_train_epochs=DISTILBERT_EPOCHS,\n",
    "    per_device_train_batch_size=DISTILBERT_BATCH_SIZE,\n",
    "    per_device_eval_batch_size=DISTILBERT_BATCH_SIZE,\n",
    "    do_train=True,\n",
    "    do_eval=True,\n",
    "    eval_strategy=\"epoch\",\n",
    "    save_strategy=\"epoch\",\n",
    "    learning_rate=DISTILBERT_LEARNING_RATE,\n",
    "    load_best_model_at_end=True,\n",
    ")\n",
    "d_bert_training_args"
   ]
  },
  {
   "cell_type": "markdown",
   "metadata": {},
   "source": [
    "### Trainer 설정"
   ]
  },
  {
   "cell_type": "code",
   "execution_count": 23,
   "metadata": {},
   "outputs": [],
   "source": [
    "d_bert_trainer = Trainer(\n",
    "    model=fine_tuning_d_bert,\n",
    "    args=d_bert_training_args,\n",
    "    train_dataset=d_bert_train_ds,\n",
    "    eval_dataset=d_bert_val_ds,\n",
    "    compute_metrics=compute_metrics,\n",
    "    tokenizer=d_bert_tokenizer,\n",
    ")"
   ]
  },
  {
   "cell_type": "code",
   "execution_count": 24,
   "metadata": {},
   "outputs": [
    {
     "data": {
      "application/vnd.jupyter.widget-view+json": {
       "model_id": "d94979cf4eb84a21b61a2d809af2747d",
       "version_major": 2,
       "version_minor": 0
      },
      "text/plain": [
       "  0%|          | 0/49090 [00:00<?, ?it/s]"
      ]
     },
     "metadata": {},
     "output_type": "display_data"
    },
    {
     "name": "stdout",
     "output_type": "stream",
     "text": [
      "{'loss': 1.0228, 'grad_norm': 0.8571290373802185, 'learning_rate': 0.0009000000000000001, 'epoch': 1.0}\n"
     ]
    },
    {
     "data": {
      "application/vnd.jupyter.widget-view+json": {
       "model_id": "9f66b140452b4fb28ad1b23c9798ee56",
       "version_major": 2,
       "version_minor": 0
      },
      "text/plain": [
       "  0%|          | 0/1228 [00:00<?, ?it/s]"
      ]
     },
     "metadata": {},
     "output_type": "display_data"
    },
    {
     "name": "stdout",
     "output_type": "stream",
     "text": [
      "{'eval_loss': 0.9895905256271362, 'eval_accuracy': 0.508116779771075, 'eval_runtime': 829.2323, 'eval_samples_per_second': 94.715, 'eval_steps_per_second': 1.481, 'epoch': 1.0}\n",
      "{'loss': 1.0003, 'grad_norm': 0.798147439956665, 'learning_rate': 0.0008, 'epoch': 2.0}\n"
     ]
    },
    {
     "data": {
      "application/vnd.jupyter.widget-view+json": {
       "model_id": "6c2dcfefda4f42e181a1b0b0ab41f48f",
       "version_major": 2,
       "version_minor": 0
      },
      "text/plain": [
       "  0%|          | 0/1228 [00:00<?, ?it/s]"
      ]
     },
     "metadata": {},
     "output_type": "display_data"
    },
    {
     "name": "stdout",
     "output_type": "stream",
     "text": [
      "{'eval_loss': 0.9792424440383911, 'eval_accuracy': 0.5200850511197973, 'eval_runtime': 831.0471, 'eval_samples_per_second': 94.508, 'eval_steps_per_second': 1.478, 'epoch': 2.0}\n",
      "{'loss': 0.9926, 'grad_norm': 0.7800757884979248, 'learning_rate': 0.0007, 'epoch': 3.0}\n"
     ]
    },
    {
     "data": {
      "application/vnd.jupyter.widget-view+json": {
       "model_id": "29a9c22dab1d4f499b35230f9943fad2",
       "version_major": 2,
       "version_minor": 0
      },
      "text/plain": [
       "  0%|          | 0/1228 [00:00<?, ?it/s]"
      ]
     },
     "metadata": {},
     "output_type": "display_data"
    },
    {
     "name": "stdout",
     "output_type": "stream",
     "text": [
      "{'eval_loss': 0.9763416647911072, 'eval_accuracy': 0.515857959537057, 'eval_runtime': 829.7049, 'eval_samples_per_second': 94.661, 'eval_steps_per_second': 1.48, 'epoch': 3.0}\n",
      "{'loss': 0.9855, 'grad_norm': 0.627221941947937, 'learning_rate': 0.0006, 'epoch': 4.0}\n"
     ]
    },
    {
     "data": {
      "application/vnd.jupyter.widget-view+json": {
       "model_id": "1c75f82881c94038b4500e56422ac80e",
       "version_major": 2,
       "version_minor": 0
      },
      "text/plain": [
       "  0%|          | 0/1228 [00:00<?, ?it/s]"
      ]
     },
     "metadata": {},
     "output_type": "display_data"
    },
    {
     "name": "stdout",
     "output_type": "stream",
     "text": [
      "{'eval_loss': 0.9675835371017456, 'eval_accuracy': 0.5256108274659095, 'eval_runtime': 830.535, 'eval_samples_per_second': 94.567, 'eval_steps_per_second': 1.479, 'epoch': 4.0}\n",
      "{'loss': 0.9808, 'grad_norm': 0.6292604804039001, 'learning_rate': 0.0005, 'epoch': 5.0}\n"
     ]
    },
    {
     "data": {
      "application/vnd.jupyter.widget-view+json": {
       "model_id": "59d2d1d2e16e4f40ab28f3a0abe052e3",
       "version_major": 2,
       "version_minor": 0
      },
      "text/plain": [
       "  0%|          | 0/1228 [00:00<?, ?it/s]"
      ]
     },
     "metadata": {},
     "output_type": "display_data"
    },
    {
     "name": "stdout",
     "output_type": "stream",
     "text": [
      "{'eval_loss': 0.9650925993919373, 'eval_accuracy': 0.5289339325957143, 'eval_runtime': 828.978, 'eval_samples_per_second': 94.744, 'eval_steps_per_second': 1.481, 'epoch': 5.0}\n",
      "{'loss': 0.9772, 'grad_norm': 0.686582088470459, 'learning_rate': 0.0004, 'epoch': 6.0}\n"
     ]
    },
    {
     "data": {
      "application/vnd.jupyter.widget-view+json": {
       "model_id": "51e1a1462acb49cd82cb9eaa6ff13a4f",
       "version_major": 2,
       "version_minor": 0
      },
      "text/plain": [
       "  0%|          | 0/1228 [00:00<?, ?it/s]"
      ]
     },
     "metadata": {},
     "output_type": "display_data"
    },
    {
     "name": "stdout",
     "output_type": "stream",
     "text": [
      "{'eval_loss': 0.9615627527236938, 'eval_accuracy': 0.5327153970537681, 'eval_runtime': 828.8943, 'eval_samples_per_second': 94.754, 'eval_steps_per_second': 1.481, 'epoch': 6.0}\n",
      "{'loss': 0.9732, 'grad_norm': 0.8873637318611145, 'learning_rate': 0.0003, 'epoch': 7.0}\n"
     ]
    },
    {
     "data": {
      "application/vnd.jupyter.widget-view+json": {
       "model_id": "aa5a61397ec34a8a8792d51fc03d9c90",
       "version_major": 2,
       "version_minor": 0
      },
      "text/plain": [
       "  0%|          | 0/1228 [00:00<?, ?it/s]"
      ]
     },
     "metadata": {},
     "output_type": "display_data"
    },
    {
     "name": "stdout",
     "output_type": "stream",
     "text": [
      "{'eval_loss': 0.9536685347557068, 'eval_accuracy': 0.537961064921506, 'eval_runtime': 829.273, 'eval_samples_per_second': 94.711, 'eval_steps_per_second': 1.481, 'epoch': 7.0}\n",
      "{'loss': 0.9697, 'grad_norm': 0.9041162729263306, 'learning_rate': 0.0002, 'epoch': 8.0}\n"
     ]
    },
    {
     "data": {
      "application/vnd.jupyter.widget-view+json": {
       "model_id": "f9ec7a836eb24aad894f86a34e425351",
       "version_major": 2,
       "version_minor": 0
      },
      "text/plain": [
       "  0%|          | 0/1228 [00:00<?, ?it/s]"
      ]
     },
     "metadata": {},
     "output_type": "display_data"
    },
    {
     "name": "stdout",
     "output_type": "stream",
     "text": [
      "{'eval_loss': 0.9520647525787354, 'eval_accuracy': 0.5381647801785054, 'eval_runtime': 831.1181, 'eval_samples_per_second': 94.5, 'eval_steps_per_second': 1.478, 'epoch': 8.0}\n",
      "{'loss': 0.9662, 'grad_norm': 0.6693928241729736, 'learning_rate': 0.0001, 'epoch': 9.0}\n"
     ]
    },
    {
     "data": {
      "application/vnd.jupyter.widget-view+json": {
       "model_id": "1545a155aeba442d9767aebd522fb692",
       "version_major": 2,
       "version_minor": 0
      },
      "text/plain": [
       "  0%|          | 0/1228 [00:00<?, ?it/s]"
      ]
     },
     "metadata": {},
     "output_type": "display_data"
    },
    {
     "name": "stdout",
     "output_type": "stream",
     "text": [
      "{'eval_loss': 0.9501137137413025, 'eval_accuracy': 0.539692644606002, 'eval_runtime': 828.8853, 'eval_samples_per_second': 94.755, 'eval_steps_per_second': 1.482, 'epoch': 9.0}\n",
      "{'loss': 0.9634, 'grad_norm': 0.7644863724708557, 'learning_rate': 0.0, 'epoch': 10.0}\n"
     ]
    },
    {
     "data": {
      "application/vnd.jupyter.widget-view+json": {
       "model_id": "99573914d65140c486ad3290052b89c7",
       "version_major": 2,
       "version_minor": 0
      },
      "text/plain": [
       "  0%|          | 0/1228 [00:00<?, ?it/s]"
      ]
     },
     "metadata": {},
     "output_type": "display_data"
    },
    {
     "name": "stdout",
     "output_type": "stream",
     "text": [
      "{'eval_loss': 0.94675213098526, 'eval_accuracy': 0.5425573904075578, 'eval_runtime': 828.8038, 'eval_samples_per_second': 94.764, 'eval_steps_per_second': 1.482, 'epoch': 10.0}\n",
      "{'train_runtime': 49873.4583, 'train_samples_per_second': 62.992, 'train_steps_per_second': 0.984, 'train_loss': 0.9831691273362702, 'epoch': 10.0}\n"
     ]
    },
    {
     "data": {
      "text/plain": [
       "TrainOutput(global_step=49090, training_loss=0.9831691273362702, metrics={'train_runtime': 49873.4583, 'train_samples_per_second': 62.992, 'train_steps_per_second': 0.984, 'total_flos': 4.1616832593060864e+17, 'train_loss': 0.9831691273362702, 'epoch': 10.0})"
      ]
     },
     "execution_count": 24,
     "metadata": {},
     "output_type": "execute_result"
    }
   ],
   "source": [
    "d_bert_trainer.train()"
   ]
  },
  {
   "cell_type": "code",
   "execution_count": null,
   "metadata": {},
   "outputs": [],
   "source": [
    "d_bert_trainer.save_model()"
   ]
  },
  {
   "cell_type": "code",
   "execution_count": null,
   "metadata": {},
   "outputs": [],
   "source": [
    "fine_tuned_d_bert_results = d_bert_trainer.evaluate(\n",
    "    d_bert_tokenized_ds[\"validation_matched\"]\n",
    ")\n",
    "fine_tuned_d_bert_results"
   ]
  },
  {
   "cell_type": "code",
   "execution_count": 25,
   "metadata": {},
   "outputs": [
    {
     "data": {
      "image/png": "[encoded data removed]",
      "text/plain": [
       "<Figure size 1000x600 with 1 Axes>"
      ]
     },
     "metadata": {},
     "output_type": "display_data"
    },
    {
     "name": "stdout",
     "output_type": "stream",
     "text": [
      "Final validation accuracy: 0.5397\n"
     ]
    }
   ],
   "source": [
    "d_bert_accuracies = [\n",
    "    log[\"eval_accuracy\"]\n",
    "    for log in d_bert_trainer.state.log_history\n",
    "    if \"eval_accuracy\" in log\n",
    "]\n",
    "\n",
    "\n",
    "epochs = range(1, DISTILBERT_EPOCHS + 1)\n",
    "\n",
    "plt.figure(figsize=(10, 6))\n",
    "plt.plot(epochs, d_bert_accuracies[:-1], label=\"Validation\")\n",
    "plt.axhline(y=d_bert_accuracies[-1], color=\"r\", linestyle=\"--\", label=\"Test\")\n",
    "plt.title(\"Fine-tuned DistilBERT Validation Accuracy\")\n",
    "plt.xlabel(\"Epochs\")\n",
    "plt.ylabel(\"Accuracy\")\n",
    "plt.legend()\n",
    "plt.grid(True)\n",
    "plt.show()\n",
    "\n",
    "print(f\"Final Validation Accuracy: {d_bert_accuracies[-2]:.4f}\")\n",
    "print(f\"Final Test Accuracy: {d_bert_accuracies[-1]:.4f}\")"
   ]
  },
  {
   "cell_type": "markdown",
   "metadata": {},
   "source": [
    "## MNLI 용 파인 튜닝된 GPT-2 모델 만들기"
   ]
  },
  {
   "cell_type": "code",
   "execution_count": 27,
   "metadata": {},
   "outputs": [
    {
     "name": "stderr",
     "output_type": "stream",
     "text": [
      "/Users/joyuiyeong/.pyenv/versions/3.11.9/envs/deeplearning/lib/python3.11/site-packages/transformers/tokenization_utils_base.py:1601: FutureWarning: `clean_up_tokenization_spaces` was not set. It will be set to `True` by default. This behavior will be depracted in transformers v4.45, and will be then set to `False` by default. For more details check this issue: https://github.com/huggingface/transformers/issues/31884\n",
      "  warnings.warn(\n",
      "Some weights of GPT2ForSequenceClassification were not initialized from the model checkpoint at openai-community/gpt2 and are newly initialized: ['score.weight']\n",
      "You should probably TRAIN this model on a down-stream task to be able to use it for predictions and inference.\n"
     ]
    },
    {
     "data": {
      "application/vnd.jupyter.widget-view+json": {
       "model_id": "1d6d681ac4bd492b868baaee7e4a2caf",
       "version_major": 2,
       "version_minor": 0
      },
      "text/plain": [
       "Map:   0%|          | 0/392702 [00:00<?, ? examples/s]"
      ]
     },
     "metadata": {},
     "output_type": "display_data"
    },
    {
     "data": {
      "application/vnd.jupyter.widget-view+json": {
       "model_id": "25648b4a3a404ade88c7a80f769c2655",
       "version_major": 2,
       "version_minor": 0
      },
      "text/plain": [
       "Map:   0%|          | 0/9815 [00:00<?, ? examples/s]"
      ]
     },
     "metadata": {},
     "output_type": "display_data"
    },
    {
     "data": {
      "application/vnd.jupyter.widget-view+json": {
       "model_id": "8daacc7fd49647c3b7eb90abc3aafe12",
       "version_major": 2,
       "version_minor": 0
      },
      "text/plain": [
       "Map:   0%|          | 0/9832 [00:00<?, ? examples/s]"
      ]
     },
     "metadata": {},
     "output_type": "display_data"
    },
    {
     "data": {
      "application/vnd.jupyter.widget-view+json": {
       "model_id": "0b091dbc665a48aba88170204b0dac22",
       "version_major": 2,
       "version_minor": 0
      },
      "text/plain": [
       "Map:   0%|          | 0/9796 [00:00<?, ? examples/s]"
      ]
     },
     "metadata": {},
     "output_type": "display_data"
    },
    {
     "data": {
      "application/vnd.jupyter.widget-view+json": {
       "model_id": "333ab2cdd3e64554bbb83f5c25337be2",
       "version_major": 2,
       "version_minor": 0
      },
      "text/plain": [
       "Map:   0%|          | 0/9847 [00:00<?, ? examples/s]"
      ]
     },
     "metadata": {},
     "output_type": "display_data"
    }
   ],
   "source": [
    "from transformers import GPT2Tokenizer, GPT2ForSequenceClassification\n",
    "\n",
    "# 토크나이저와 모델 로드\n",
    "gpt2_tokenizer = GPT2Tokenizer.from_pretrained(\"openai-community/gpt2\")\n",
    "fine_tuinig_gpt2 = GPT2ForSequenceClassification.from_pretrained(\n",
    "    \"openai-community/gpt2\",\n",
    "    num_labels=NUM_DS_LABELS,\n",
    "    id2label=id2label,\n",
    "    label2id=label2id,\n",
    ")\n",
    "\n",
    "# GPT-2 토크나이저에는 기본적으로 패딩 토큰이 없으므로 추가\n",
    "gpt2_tokenizer.pad_token = gpt2_tokenizer.eos_token\n",
    "fine_tuinig_gpt2.config.pad_token_id = fine_tuinig_gpt2.config.eos_token_id\n",
    "\n",
    "# GPT-2 모델의 모든 레이어들을 freeze\n",
    "for param in fine_tuinig_gpt2.transformer.parameters():\n",
    "    param.requires_grad = False\n",
    "\n",
    "\n",
    "# 데이터셋에 전처리 적용\n",
    "def preprocess_function(data):\n",
    "    return gpt2_tokenizer(\n",
    "        data[\"premise\"], data[\"hypothesis\"], truncation=True, padding=\"max_length\"\n",
    "    )\n",
    "\n",
    "\n",
    "gpt2_tokenized_dataset = dataset.map(preprocess_function, batched=True)\n",
    "\n",
    "# 데이터셋 분리\n",
    "gpt2_ds_split = gpt2_tokenized_dataset[\"train\"].train_test_split(test_size=0.2)\n",
    "gpt2_train_dataset = gpt2_ds_split[\"train\"]\n",
    "gpt2_val_dataset = gpt2_ds_split[\"test\"]\n",
    "\n",
    "# TrainingArguments 설정\n",
    "GPT_DIR_OUTPUT = \"../data/fine_tuned_gpt2_for_mnli\"\n",
    "GPT_DIR_LOGGING = f\"{GPT_DIR_OUTPUT}/logs\"\n",
    "GPT_EPOCHS = 10\n",
    "GPT_LEARNING_RATE = 1e-3\n",
    "GPT_BATCH_SIZE = 64\n",
    "\n",
    "gpt_training_args = TrainingArguments(\n",
    "    output_dir=GPT_DIR_OUTPUT,\n",
    "    num_train_epochs=GPT_EPOCHS,\n",
    "    per_device_train_batch_size=GPT_BATCH_SIZE,\n",
    "    per_device_eval_batch_size=GPT_BATCH_SIZE,\n",
    "    learning_rate=GPT_LEARNING_RATE,\n",
    "    logging_dir=GPT_DIR_LOGGING,\n",
    "    logging_strategy=\"epoch\",\n",
    "    do_train=True,\n",
    "    do_eval=True,\n",
    "    eval_strategy=\"epoch\",\n",
    "    save_strategy=\"epoch\",\n",
    "    load_best_model_at_end=True,\n",
    ")\n",
    "\n",
    "# Trainer 초기화\n",
    "gpt2_trainer = Trainer(\n",
    "    model=fine_tuinig_gpt2,\n",
    "    args=gpt_training_args,\n",
    "    train_dataset=gpt2_train_dataset,\n",
    "    eval_dataset=gpt2_val_dataset,\n",
    "    compute_metrics=compute_metrics,\n",
    "    tokenizer=gpt2_tokenizer,\n",
    ")"
   ]
  },
  {
   "cell_type": "code",
   "execution_count": null,
   "metadata": {},
   "outputs": [],
   "source": [
    "gpt2_trainer.train()"
   ]
  },
  {
   "cell_type": "code",
   "execution_count": null,
   "metadata": {},
   "outputs": [],
   "source": [
    "gpt2_trainer.save_model()"
   ]
  },
  {
   "cell_type": "code",
   "execution_count": null,
   "metadata": {},
   "outputs": [],
   "source": [
    "fine_tuned_gpt2_result = gpt2_trainer.evaluate(\n",
    "    d_bert_tokenized_ds[\"validation_matched\"]\n",
    ")\n",
    "fine_tuned_gpt2_result"
   ]
  },
  {
   "cell_type": "code",
   "execution_count": null,
   "metadata": {},
   "outputs": [],
   "source": [
    "gpt2_accuracies = [\n",
    "    log[\"eval_accuracy\"]\n",
    "    for log in gpt2_trainer.state.log_history\n",
    "    if \"eval_accuracy\" in log\n",
    "]\n",
    "\n",
    "\n",
    "epochs = range(1, DISTILBERT_EPOCHS + 1)\n",
    "\n",
    "plt.figure(figsize=(10, 6))\n",
    "plt.plot(epochs, gpt2_accuracies[:-1], label=\"Validation\")\n",
    "plt.axhline(y=gpt2_accuracies[-1], color=\"r\", linestyle=\"--\", label=\"Test\")\n",
    "plt.title(\"Fine-tuned GPT-2 Validation Accuracy\")\n",
    "plt.xlabel(\"Epochs\")\n",
    "plt.ylabel(\"Accuracy\")\n",
    "plt.legend()\n",
    "plt.grid(True)\n",
    "plt.show()\n",
    "\n",
    "print(f\"Final Validation Accuracy: {gpt2_accuracies[-2]:.4f}\")\n",
    "print(f\"Final Test Accuracy: {gpt2_accuracies[-1]:.4f}\")"
   ]
  }
 ],
 "metadata": {
  "kernelspec": {
   "display_name": "deeplearning",
   "language": "python",
   "name": "python3"
  },
  "language_info": {
   "codemirror_mode": {
    "name": "ipython",
    "version": 3
   },
   "file_extension": ".py",
   "mimetype": "text/x-python",
   "name": "python",
   "nbconvert_exporter": "python",
   "pygments_lexer": "ipython3",
   "version": "3.11.9"
  }
 },
 "nbformat": 4,
 "nbformat_minor": 2
}
