{
 "cells": [
  {
   "cell_type": "markdown",
   "metadata": {},
   "source": [
    "# Hugging Face 라이브러리를 사용해서 뉴스 기사 분류 모델 만들기\n",
    "- fancyzhx/ag_news 라는 뉴스 기사 데이터셋을 사용\n",
    "- distilbert 와 openai-gpt 모델을 fine-tuning 해서 뉴스 기사 분류 모델을 만들어 보기\n",
    "- 다음의 과정을 진행한다.\n",
    "    1. pre-trained 모델과 그 모델의 tokenizer 불러오기\n",
    "    2. 데이터셋을 그 tokenizer 로 전처리하기\n",
    "    3. 데이터셋을 train 과 validation 으로 나누기\n",
    "    4. TrainingArguments 와 Trainer 를 사용해서 학습하기\n",
    "    5. 학습한 모델 평가하기"
   ]
  },
  {
   "cell_type": "markdown",
   "metadata": {},
   "source": [
    "## AG News 데이터셋 불러오기\n",
    "- 4개의 뉴스 카테고리\n",
    "    - 1: World, 2: Sports, 3: Business, 4: Science/Technology"
   ]
  },
  {
   "cell_type": "code",
   "execution_count": 2,
   "metadata": {},
   "outputs": [
    {
     "data": {
      "text/plain": [
       "DatasetDict({\n",
       "    train: Dataset({\n",
       "        features: ['text', 'label'],\n",
       "        num_rows: 120000\n",
       "    })\n",
       "    test: Dataset({\n",
       "        features: ['text', 'label'],\n",
       "        num_rows: 7600\n",
       "    })\n",
       "})"
      ]
     },
     "execution_count": 2,
     "metadata": {},
     "output_type": "execute_result"
    }
   ],
   "source": [
    "from datasets import load_dataset\n",
    "\n",
    "ds_ag_news = load_dataset(\"fancyzhx/ag_news\")\n",
    "ds_ag_news"
   ]
  },
  {
   "cell_type": "code",
   "execution_count": 3,
   "metadata": {},
   "outputs": [],
   "source": [
    "NUM_AG_NEWS_LABELS = 4\n",
    "\n",
    "ag_news_id2label = {0: \"WORLD\", 1: \"SPORTS\", 2: \"BUSINESS\", 3: \"SCIENCE_AND_TECHNOLOGY\"}\n",
    "\n",
    "ag_news_label2id = {\"WORLD\": 0, \"SPORTS\": 1, \"BUSINESS\": 2, \"SCIENCE_AND_TECHNOLOGY\": 3}"
   ]
  },
  {
   "cell_type": "markdown",
   "metadata": {},
   "source": [
    "## DistilBERT 모델 기반의 분류 모델 정의하기\n",
    "- AutoModelForSequenceClassification 사용\n",
    "    - num_labels 은 데이터셋의 클래스 개수로 설정\n",
    "    - id2label 과 label2id 는 데이터셋의 클래스 이름으로 설정\n"
   ]
  },
  {
   "cell_type": "code",
   "execution_count": 4,
   "metadata": {},
   "outputs": [
    {
     "name": "stderr",
     "output_type": "stream",
     "text": [
      "Some weights of DistilBertForSequenceClassification were not initialized from the model checkpoint at distilbert-base-cased and are newly initialized: ['classifier.bias', 'classifier.weight', 'pre_classifier.bias', 'pre_classifier.weight']\n",
      "You should probably TRAIN this model on a down-stream task to be able to use it for predictions and inference.\n"
     ]
    },
    {
     "data": {
      "text/plain": [
       "DistilBertForSequenceClassification(\n",
       "  (distilbert): DistilBertModel(\n",
       "    (embeddings): Embeddings(\n",
       "      (word_embeddings): Embedding(28996, 768, padding_idx=0)\n",
       "      (position_embeddings): Embedding(512, 768)\n",
       "      (LayerNorm): LayerNorm((768,), eps=1e-12, elementwise_affine=True)\n",
       "      (dropout): Dropout(p=0.1, inplace=False)\n",
       "    )\n",
       "    (transformer): Transformer(\n",
       "      (layer): ModuleList(\n",
       "        (0-5): 6 x TransformerBlock(\n",
       "          (attention): MultiHeadSelfAttention(\n",
       "            (dropout): Dropout(p=0.1, inplace=False)\n",
       "            (q_lin): Linear(in_features=768, out_features=768, bias=True)\n",
       "            (k_lin): Linear(in_features=768, out_features=768, bias=True)\n",
       "            (v_lin): Linear(in_features=768, out_features=768, bias=True)\n",
       "            (out_lin): Linear(in_features=768, out_features=768, bias=True)\n",
       "          )\n",
       "          (sa_layer_norm): LayerNorm((768,), eps=1e-12, elementwise_affine=True)\n",
       "          (ffn): FFN(\n",
       "            (dropout): Dropout(p=0.1, inplace=False)\n",
       "            (lin1): Linear(in_features=768, out_features=3072, bias=True)\n",
       "            (lin2): Linear(in_features=3072, out_features=768, bias=True)\n",
       "            (activation): GELUActivation()\n",
       "          )\n",
       "          (output_layer_norm): LayerNorm((768,), eps=1e-12, elementwise_affine=True)\n",
       "        )\n",
       "      )\n",
       "    )\n",
       "  )\n",
       "  (pre_classifier): Linear(in_features=768, out_features=768, bias=True)\n",
       "  (classifier): Linear(in_features=768, out_features=4, bias=True)\n",
       "  (dropout): Dropout(p=0.2, inplace=False)\n",
       ")"
      ]
     },
     "execution_count": 4,
     "metadata": {},
     "output_type": "execute_result"
    }
   ],
   "source": [
    "from transformers import AutoModelForSequenceClassification\n",
    "\n",
    "classifier_b = AutoModelForSequenceClassification.from_pretrained(\n",
    "    \"distilbert-base-cased\",\n",
    "    num_labels=NUM_AG_NEWS_LABELS,\n",
    "    id2label=ag_news_id2label,\n",
    "    label2id=ag_news_label2id,\n",
    ")\n",
    "classifier_b"
   ]
  },
  {
   "cell_type": "code",
   "execution_count": 5,
   "metadata": {},
   "outputs": [],
   "source": [
    "# distilbert 모델의 모든 레이어들을 freeze\n",
    "for param in classifier_b.distilbert.parameters():\n",
    "    param.requires_grad = False"
   ]
  },
  {
   "cell_type": "markdown",
   "metadata": {},
   "source": [
    "## BERT Tokenizer 로 데이터셋 전처리하기"
   ]
  },
  {
   "cell_type": "code",
   "execution_count": 6,
   "metadata": {},
   "outputs": [
    {
     "data": {
      "application/vnd.jupyter.widget-view+json": {
       "model_id": "083e9494ea064cd7ae102af59479749f",
       "version_major": 2,
       "version_minor": 0
      },
      "text/plain": [
       "tokenizer_config.json:   0%|          | 0.00/49.0 [00:00<?, ?B/s]"
      ]
     },
     "metadata": {},
     "output_type": "display_data"
    },
    {
     "data": {
      "application/vnd.jupyter.widget-view+json": {
       "model_id": "dc51d8cd4acd44adb15676a7c18cb1ba",
       "version_major": 2,
       "version_minor": 0
      },
      "text/plain": [
       "config.json:   0%|          | 0.00/465 [00:00<?, ?B/s]"
      ]
     },
     "metadata": {},
     "output_type": "display_data"
    },
    {
     "data": {
      "application/vnd.jupyter.widget-view+json": {
       "model_id": "b0d69896a91645498f744d6168e72a88",
       "version_major": 2,
       "version_minor": 0
      },
      "text/plain": [
       "vocab.txt:   0%|          | 0.00/213k [00:00<?, ?B/s]"
      ]
     },
     "metadata": {},
     "output_type": "display_data"
    },
    {
     "data": {
      "application/vnd.jupyter.widget-view+json": {
       "model_id": "539bdde23faa48a99a133af36713d0d8",
       "version_major": 2,
       "version_minor": 0
      },
      "text/plain": [
       "tokenizer.json:   0%|          | 0.00/436k [00:00<?, ?B/s]"
      ]
     },
     "metadata": {},
     "output_type": "display_data"
    },
    {
     "name": "stderr",
     "output_type": "stream",
     "text": [
      "/Users/joyuiyeong/.pyenv/versions/3.11.9/envs/deeplearning/lib/python3.11/site-packages/transformers/tokenization_utils_base.py:1601: FutureWarning: `clean_up_tokenization_spaces` was not set. It will be set to `True` by default. This behavior will be depracted in transformers v4.45, and will be then set to `False` by default. For more details check this issue: https://github.com/huggingface/transformers/issues/31884\n",
      "  warnings.warn(\n"
     ]
    }
   ],
   "source": [
    "from transformers import AutoTokenizer\n",
    "\n",
    "distilbert_tokenizer = AutoTokenizer.from_pretrained(\"distilbert/distilbert-base-cased\")"
   ]
  },
  {
   "cell_type": "code",
   "execution_count": 7,
   "metadata": {},
   "outputs": [
    {
     "data": {
      "application/vnd.jupyter.widget-view+json": {
       "model_id": "da23dad5aab1466ca5710f6754122d4b",
       "version_major": 2,
       "version_minor": 0
      },
      "text/plain": [
       "Map:   0%|          | 0/120000 [00:00<?, ? examples/s]"
      ]
     },
     "metadata": {},
     "output_type": "display_data"
    },
    {
     "data": {
      "application/vnd.jupyter.widget-view+json": {
       "model_id": "d84140a753724593898a8df0e008d49e",
       "version_major": 2,
       "version_minor": 0
      },
      "text/plain": [
       "Map:   0%|          | 0/7600 [00:00<?, ? examples/s]"
      ]
     },
     "metadata": {},
     "output_type": "display_data"
    },
    {
     "data": {
      "text/plain": [
       "DatasetDict({\n",
       "    train: Dataset({\n",
       "        features: ['text', 'label', 'input_ids', 'attention_mask'],\n",
       "        num_rows: 120000\n",
       "    })\n",
       "    test: Dataset({\n",
       "        features: ['text', 'label', 'input_ids', 'attention_mask'],\n",
       "        num_rows: 7600\n",
       "    })\n",
       "})"
      ]
     },
     "execution_count": 7,
     "metadata": {},
     "output_type": "execute_result"
    }
   ],
   "source": [
    "def bert_preprocess_function(data):\n",
    "    return distilbert_tokenizer(data[\"text\"])\n",
    "\n",
    "\n",
    "distilbert_tokenized_ds = ds_ag_news.map(bert_preprocess_function, batched=True)\n",
    "distilbert_tokenized_ds"
   ]
  },
  {
   "cell_type": "markdown",
   "metadata": {},
   "source": [
    "## 데이터셋을 train 과 validation 으로 나누기"
   ]
  },
  {
   "cell_type": "code",
   "execution_count": 8,
   "metadata": {},
   "outputs": [
    {
     "data": {
      "text/plain": [
       "(7600, 96000, 24000)"
      ]
     },
     "execution_count": 8,
     "metadata": {},
     "output_type": "execute_result"
    }
   ],
   "source": [
    "ds_distilbert_test = distilbert_tokenized_ds[\"test\"]\n",
    "\n",
    "distilbert_ds_split = distilbert_tokenized_ds[\"train\"].train_test_split(test_size=0.2)\n",
    "ds_distilbert_train = distilbert_ds_split[\"train\"]\n",
    "ds_distilbert_val = distilbert_ds_split[\"test\"]\n",
    "\n",
    "len(ds_distilbert_test), len(ds_distilbert_train), len(ds_distilbert_val)"
   ]
  },
  {
   "cell_type": "markdown",
   "metadata": {},
   "source": [
    "## TrainingArguments 와 Trainer 를 사용해서 학습하기"
   ]
  },
  {
   "cell_type": "code",
   "execution_count": 9,
   "metadata": {},
   "outputs": [],
   "source": [
    "from transformers import TrainingArguments, Trainer\n",
    "\n",
    "DISTILBERT_DIR_OUTPUT = \"../data/new_classifier_from_distilbert\"\n",
    "DISTILBERT_EPOCHS = 10\n",
    "DISTILBERT_LEARNING_RATE = 1e-3\n",
    "DISTILBERT_BATCH_SIZE = 64\n",
    "DISTILBERT_WEIGHT_DECAY = 0.0"
   ]
  },
  {
   "cell_type": "code",
   "execution_count": 10,
   "metadata": {},
   "outputs": [
    {
     "data": {
      "text/plain": [
       "TrainingArguments(\n",
       "_n_gpu=1,\n",
       "accelerator_config={'split_batches': False, 'dispatch_batches': None, 'even_batches': True, 'use_seedable_sampler': True, 'non_blocking': False, 'gradient_accumulation_kwargs': None, 'use_configured_state': False},\n",
       "adafactor=False,\n",
       "adam_beta1=0.9,\n",
       "adam_beta2=0.999,\n",
       "adam_epsilon=1e-08,\n",
       "auto_find_batch_size=False,\n",
       "batch_eval_metrics=False,\n",
       "bf16=False,\n",
       "bf16_full_eval=False,\n",
       "data_seed=None,\n",
       "dataloader_drop_last=False,\n",
       "dataloader_num_workers=0,\n",
       "dataloader_persistent_workers=False,\n",
       "dataloader_pin_memory=True,\n",
       "dataloader_prefetch_factor=None,\n",
       "ddp_backend=None,\n",
       "ddp_broadcast_buffers=None,\n",
       "ddp_bucket_cap_mb=None,\n",
       "ddp_find_unused_parameters=None,\n",
       "ddp_timeout=1800,\n",
       "debug=[],\n",
       "deepspeed=None,\n",
       "disable_tqdm=False,\n",
       "dispatch_batches=None,\n",
       "do_eval=True,\n",
       "do_predict=False,\n",
       "do_train=True,\n",
       "eval_accumulation_steps=None,\n",
       "eval_delay=0,\n",
       "eval_do_concat_batches=True,\n",
       "eval_on_start=False,\n",
       "eval_steps=None,\n",
       "eval_strategy=IntervalStrategy.EPOCH,\n",
       "eval_use_gather_object=False,\n",
       "evaluation_strategy=None,\n",
       "fp16=False,\n",
       "fp16_backend=auto,\n",
       "fp16_full_eval=False,\n",
       "fp16_opt_level=O1,\n",
       "fsdp=[],\n",
       "fsdp_config={'min_num_params': 0, 'xla': False, 'xla_fsdp_v2': False, 'xla_fsdp_grad_ckpt': False},\n",
       "fsdp_min_num_params=0,\n",
       "fsdp_transformer_layer_cls_to_wrap=None,\n",
       "full_determinism=False,\n",
       "gradient_accumulation_steps=1,\n",
       "gradient_checkpointing=False,\n",
       "gradient_checkpointing_kwargs=None,\n",
       "greater_is_better=False,\n",
       "group_by_length=False,\n",
       "half_precision_backend=auto,\n",
       "hub_always_push=False,\n",
       "hub_model_id=None,\n",
       "hub_private_repo=False,\n",
       "hub_strategy=HubStrategy.EVERY_SAVE,\n",
       "hub_token=<HUB_TOKEN>,\n",
       "ignore_data_skip=False,\n",
       "include_inputs_for_metrics=False,\n",
       "include_num_input_tokens_seen=False,\n",
       "include_tokens_per_second=False,\n",
       "jit_mode_eval=False,\n",
       "label_names=None,\n",
       "label_smoothing_factor=0.0,\n",
       "learning_rate=0.001,\n",
       "length_column_name=length,\n",
       "load_best_model_at_end=True,\n",
       "local_rank=0,\n",
       "log_level=passive,\n",
       "log_level_replica=warning,\n",
       "log_on_each_node=True,\n",
       "logging_dir=../data/new_classifier_from_distilbert/logs,\n",
       "logging_first_step=False,\n",
       "logging_nan_inf_filter=True,\n",
       "logging_steps=500,\n",
       "logging_strategy=IntervalStrategy.EPOCH,\n",
       "lr_scheduler_kwargs={},\n",
       "lr_scheduler_type=SchedulerType.LINEAR,\n",
       "max_grad_norm=1.0,\n",
       "max_steps=-1,\n",
       "metric_for_best_model=loss,\n",
       "mp_parameters=,\n",
       "neftune_noise_alpha=None,\n",
       "no_cuda=False,\n",
       "num_train_epochs=10,\n",
       "optim=OptimizerNames.ADAMW_TORCH,\n",
       "optim_args=None,\n",
       "optim_target_modules=None,\n",
       "output_dir=../data/new_classifier_from_distilbert,\n",
       "overwrite_output_dir=False,\n",
       "past_index=-1,\n",
       "per_device_eval_batch_size=64,\n",
       "per_device_train_batch_size=64,\n",
       "prediction_loss_only=False,\n",
       "push_to_hub=False,\n",
       "push_to_hub_model_id=None,\n",
       "push_to_hub_organization=None,\n",
       "push_to_hub_token=<PUSH_TO_HUB_TOKEN>,\n",
       "ray_scope=last,\n",
       "remove_unused_columns=True,\n",
       "report_to=[],\n",
       "restore_callback_states_from_checkpoint=False,\n",
       "resume_from_checkpoint=None,\n",
       "run_name=../data/new_classifier_from_distilbert,\n",
       "save_on_each_node=False,\n",
       "save_only_model=False,\n",
       "save_safetensors=True,\n",
       "save_steps=500,\n",
       "save_strategy=IntervalStrategy.EPOCH,\n",
       "save_total_limit=None,\n",
       "seed=42,\n",
       "skip_memory_metrics=True,\n",
       "split_batches=None,\n",
       "tf32=None,\n",
       "torch_compile=False,\n",
       "torch_compile_backend=None,\n",
       "torch_compile_mode=None,\n",
       "torch_empty_cache_steps=None,\n",
       "torchdynamo=None,\n",
       "tpu_metrics_debug=False,\n",
       "tpu_num_cores=None,\n",
       "use_cpu=False,\n",
       "use_ipex=False,\n",
       "use_legacy_prediction_loop=False,\n",
       "use_mps_device=False,\n",
       "warmup_ratio=0.0,\n",
       "warmup_steps=0,\n",
       "weight_decay=0.0,\n",
       ")"
      ]
     },
     "execution_count": 10,
     "metadata": {},
     "output_type": "execute_result"
    }
   ],
   "source": [
    "distilbert_training_args = TrainingArguments(\n",
    "    output_dir=DISTILBERT_DIR_OUTPUT,\n",
    "    num_train_epochs=DISTILBERT_EPOCHS,\n",
    "    per_device_train_batch_size=DISTILBERT_BATCH_SIZE,\n",
    "    per_device_eval_batch_size=DISTILBERT_BATCH_SIZE,\n",
    "    logging_dir=f\"{DISTILBERT_DIR_OUTPUT}/logs\",\n",
    "    logging_strategy=\"epoch\",\n",
    "    do_train=True,\n",
    "    do_eval=True,\n",
    "    eval_strategy=\"epoch\",\n",
    "    save_strategy=\"epoch\",\n",
    "    weight_decay=DISTILBERT_WEIGHT_DECAY,\n",
    "    learning_rate=DISTILBERT_LEARNING_RATE,\n",
    "    load_best_model_at_end=True,\n",
    ")\n",
    "distilbert_training_args"
   ]
  },
  {
   "cell_type": "code",
   "execution_count": 11,
   "metadata": {},
   "outputs": [],
   "source": [
    "import evaluate\n",
    "import numpy as np\n",
    "\n",
    "accuracy = evaluate.load(\"accuracy\")\n",
    "\n",
    "\n",
    "def compute_metrics(pred):\n",
    "    predictions, labels = pred\n",
    "    predictions = np.argmax(predictions, axis=1)\n",
    "    return accuracy.compute(predictions=predictions, references=labels)"
   ]
  },
  {
   "cell_type": "code",
   "execution_count": 14,
   "metadata": {},
   "outputs": [
    {
     "data": {
      "text/plain": [
       "<transformers.trainer.Trainer at 0x33fdce790>"
      ]
     },
     "execution_count": 14,
     "metadata": {},
     "output_type": "execute_result"
    }
   ],
   "source": [
    "distilbert_trainer = Trainer(\n",
    "    model=classifier_b,\n",
    "    args=distilbert_training_args,\n",
    "    train_dataset=ds_distilbert_train,\n",
    "    eval_dataset=ds_distilbert_val,\n",
    "    compute_metrics=compute_metrics,\n",
    "    tokenizer=distilbert_tokenizer,\n",
    ")\n",
    "distilbert_trainer"
   ]
  },
  {
   "cell_type": "code",
   "execution_count": 15,
   "metadata": {},
   "outputs": [
    {
     "data": {
      "application/vnd.jupyter.widget-view+json": {
       "model_id": "a6df1070e9ec468b959fb1feb04f5767",
       "version_major": 2,
       "version_minor": 0
      },
      "text/plain": [
       "  0%|          | 0/15000 [00:00<?, ?it/s]"
      ]
     },
     "metadata": {},
     "output_type": "display_data"
    },
    {
     "name": "stdout",
     "output_type": "stream",
     "text": [
      "{'loss': 0.3632, 'grad_norm': 0.6184862852096558, 'learning_rate': 0.0009000000000000001, 'epoch': 1.0}\n"
     ]
    },
    {
     "data": {
      "application/vnd.jupyter.widget-view+json": {
       "model_id": "6ce42ad3a9444aff985741bfe19f056c",
       "version_major": 2,
       "version_minor": 0
      },
      "text/plain": [
       "  0%|          | 0/375 [00:00<?, ?it/s]"
      ]
     },
     "metadata": {},
     "output_type": "display_data"
    },
    {
     "name": "stdout",
     "output_type": "stream",
     "text": [
      "{'eval_loss': 0.3127719461917877, 'eval_accuracy': 0.893, 'eval_runtime': 71.2539, 'eval_samples_per_second': 336.824, 'eval_steps_per_second': 5.263, 'epoch': 1.0}\n",
      "{'loss': 0.3215, 'grad_norm': 1.1060206890106201, 'learning_rate': 0.0008, 'epoch': 2.0}\n"
     ]
    },
    {
     "data": {
      "application/vnd.jupyter.widget-view+json": {
       "model_id": "a0128ac7b70645929e7834085c8e285b",
       "version_major": 2,
       "version_minor": 0
      },
      "text/plain": [
       "  0%|          | 0/375 [00:00<?, ?it/s]"
      ]
     },
     "metadata": {},
     "output_type": "display_data"
    },
    {
     "name": "stdout",
     "output_type": "stream",
     "text": [
      "{'eval_loss': 0.29165470600128174, 'eval_accuracy': 0.8956666666666667, 'eval_runtime': 68.0077, 'eval_samples_per_second': 352.901, 'eval_steps_per_second': 5.514, 'epoch': 2.0}\n",
      "{'loss': 0.3063, 'grad_norm': 0.5779101252555847, 'learning_rate': 0.0007, 'epoch': 3.0}\n"
     ]
    },
    {
     "data": {
      "application/vnd.jupyter.widget-view+json": {
       "model_id": "970cd23d313e4cd3b5dba18d1e99d776",
       "version_major": 2,
       "version_minor": 0
      },
      "text/plain": [
       "  0%|          | 0/375 [00:00<?, ?it/s]"
      ]
     },
     "metadata": {},
     "output_type": "display_data"
    },
    {
     "name": "stdout",
     "output_type": "stream",
     "text": [
      "{'eval_loss': 0.2842406630516052, 'eval_accuracy': 0.8979166666666667, 'eval_runtime': 67.822, 'eval_samples_per_second': 353.867, 'eval_steps_per_second': 5.529, 'epoch': 3.0}\n",
      "{'loss': 0.2966, 'grad_norm': 0.9097990989685059, 'learning_rate': 0.0006, 'epoch': 4.0}\n"
     ]
    },
    {
     "data": {
      "application/vnd.jupyter.widget-view+json": {
       "model_id": "c1f10f5435d94f6b90f488de5121becb",
       "version_major": 2,
       "version_minor": 0
      },
      "text/plain": [
       "  0%|          | 0/375 [00:00<?, ?it/s]"
      ]
     },
     "metadata": {},
     "output_type": "display_data"
    },
    {
     "name": "stdout",
     "output_type": "stream",
     "text": [
      "{'eval_loss': 0.278382807970047, 'eval_accuracy': 0.8995, 'eval_runtime': 67.5382, 'eval_samples_per_second': 355.355, 'eval_steps_per_second': 5.552, 'epoch': 4.0}\n",
      "{'loss': 0.2885, 'grad_norm': 0.7980664968490601, 'learning_rate': 0.0005, 'epoch': 5.0}\n"
     ]
    },
    {
     "data": {
      "application/vnd.jupyter.widget-view+json": {
       "model_id": "639c51cc48214758a4084c09bbd1b708",
       "version_major": 2,
       "version_minor": 0
      },
      "text/plain": [
       "  0%|          | 0/375 [00:00<?, ?it/s]"
      ]
     },
     "metadata": {},
     "output_type": "display_data"
    },
    {
     "name": "stdout",
     "output_type": "stream",
     "text": [
      "{'eval_loss': 0.2773680090904236, 'eval_accuracy': 0.9002083333333334, 'eval_runtime': 67.8729, 'eval_samples_per_second': 353.602, 'eval_steps_per_second': 5.525, 'epoch': 5.0}\n",
      "{'loss': 0.2811, 'grad_norm': 0.5731278657913208, 'learning_rate': 0.0004, 'epoch': 6.0}\n"
     ]
    },
    {
     "data": {
      "application/vnd.jupyter.widget-view+json": {
       "model_id": "65ffd5bc7cbf45f99fac1d650dcdf0ef",
       "version_major": 2,
       "version_minor": 0
      },
      "text/plain": [
       "  0%|          | 0/375 [00:00<?, ?it/s]"
      ]
     },
     "metadata": {},
     "output_type": "display_data"
    },
    {
     "name": "stdout",
     "output_type": "stream",
     "text": [
      "{'eval_loss': 0.2711659371852875, 'eval_accuracy': 0.9035833333333333, 'eval_runtime': 67.1753, 'eval_samples_per_second': 357.274, 'eval_steps_per_second': 5.582, 'epoch': 6.0}\n",
      "{'loss': 0.2744, 'grad_norm': 0.5753836035728455, 'learning_rate': 0.0003, 'epoch': 7.0}\n"
     ]
    },
    {
     "data": {
      "application/vnd.jupyter.widget-view+json": {
       "model_id": "3685758452cf443c8890fc2539cdd057",
       "version_major": 2,
       "version_minor": 0
      },
      "text/plain": [
       "  0%|          | 0/375 [00:00<?, ?it/s]"
      ]
     },
     "metadata": {},
     "output_type": "display_data"
    },
    {
     "name": "stdout",
     "output_type": "stream",
     "text": [
      "{'eval_loss': 0.25922513008117676, 'eval_accuracy': 0.907375, 'eval_runtime': 69.1667, 'eval_samples_per_second': 346.988, 'eval_steps_per_second': 5.422, 'epoch': 7.0}\n",
      "{'loss': 0.2677, 'grad_norm': 0.5403830409049988, 'learning_rate': 0.0002, 'epoch': 8.0}\n"
     ]
    },
    {
     "data": {
      "application/vnd.jupyter.widget-view+json": {
       "model_id": "ee1bb020537c4e5897466af4e85532bf",
       "version_major": 2,
       "version_minor": 0
      },
      "text/plain": [
       "  0%|          | 0/375 [00:00<?, ?it/s]"
      ]
     },
     "metadata": {},
     "output_type": "display_data"
    },
    {
     "name": "stdout",
     "output_type": "stream",
     "text": [
      "{'eval_loss': 0.25690117478370667, 'eval_accuracy': 0.9086666666666666, 'eval_runtime': 68.0748, 'eval_samples_per_second': 352.553, 'eval_steps_per_second': 5.509, 'epoch': 8.0}\n",
      "{'loss': 0.2628, 'grad_norm': 0.8773252964019775, 'learning_rate': 0.0001, 'epoch': 9.0}\n"
     ]
    },
    {
     "data": {
      "application/vnd.jupyter.widget-view+json": {
       "model_id": "a0b25c4c6cf84a5b8f3c6c9917a9d4f1",
       "version_major": 2,
       "version_minor": 0
      },
      "text/plain": [
       "  0%|          | 0/375 [00:00<?, ?it/s]"
      ]
     },
     "metadata": {},
     "output_type": "display_data"
    },
    {
     "name": "stdout",
     "output_type": "stream",
     "text": [
      "{'eval_loss': 0.2562697231769562, 'eval_accuracy': 0.9090833333333334, 'eval_runtime': 67.2499, 'eval_samples_per_second': 356.878, 'eval_steps_per_second': 5.576, 'epoch': 9.0}\n",
      "{'loss': 0.2591, 'grad_norm': 0.9471760392189026, 'learning_rate': 0.0, 'epoch': 10.0}\n"
     ]
    },
    {
     "data": {
      "application/vnd.jupyter.widget-view+json": {
       "model_id": "b261119c137f4f6a850f513694948ef8",
       "version_major": 2,
       "version_minor": 0
      },
      "text/plain": [
       "  0%|          | 0/375 [00:00<?, ?it/s]"
      ]
     },
     "metadata": {},
     "output_type": "display_data"
    },
    {
     "name": "stdout",
     "output_type": "stream",
     "text": [
      "{'eval_loss': 0.2534974217414856, 'eval_accuracy': 0.9101666666666667, 'eval_runtime': 67.2259, 'eval_samples_per_second': 357.005, 'eval_steps_per_second': 5.578, 'epoch': 10.0}\n",
      "{'train_runtime': 3893.9264, 'train_samples_per_second': 246.538, 'train_steps_per_second': 3.852, 'train_loss': 0.29213671061197916, 'epoch': 10.0}\n"
     ]
    },
    {
     "data": {
      "text/plain": [
       "TrainOutput(global_step=15000, training_loss=0.29213671061197916, metrics={'train_runtime': 3893.9264, 'train_samples_per_second': 246.538, 'train_steps_per_second': 3.852, 'total_flos': 3.760691498519962e+16, 'train_loss': 0.29213671061197916, 'epoch': 10.0})"
      ]
     },
     "execution_count": 15,
     "metadata": {},
     "output_type": "execute_result"
    }
   ],
   "source": [
    "distilbert_trainer.train()"
   ]
  },
  {
   "cell_type": "markdown",
   "metadata": {},
   "source": [
    "## 학습한 모델 평가하기\n",
    "\n",
    "- `Trainer::state.log_history` 에 학습 히스토리가 저장되어 있습니다.\n",
    "- 이 학습 히스토리를 사용해서 학습 과정을 시각화할 수 있습니다.\n",
    "- 아래와 같은 list 형태로 저장되어 있습니다.\n",
    "    ```python\n",
    "    [\n",
    "        {\n",
    "            'loss': 0.3632,\n",
    "            'grad_norm': 0.6184862852096558,\n",
    "            'learning_rate': 0.0009000000000000001,\n",
    "            'epoch': 1.0,\n",
    "            'step': 1500\n",
    "        }, {\n",
    "            'eval_loss': 0.3127719461917877,\n",
    "            'eval_accuracy': 0.893,\n",
    "            'eval_runtime': 71.2539,\n",
    "            'eval_samples_per_second': 336.824,\n",
    "            'eval_steps_per_second': 5.263,\n",
    "            'epoch': 1.0,\n",
    "            'step': 1500\n",
    "        },\n",
    "    ]\n",
    "    ```"
   ]
  },
  {
   "cell_type": "code",
   "execution_count": 18,
   "metadata": {},
   "outputs": [
    {
     "data": {
      "application/vnd.jupyter.widget-view+json": {
       "model_id": "1bc7081350774b04b461c0612261619f",
       "version_major": 2,
       "version_minor": 0
      },
      "text/plain": [
       "  0%|          | 0/119 [00:00<?, ?it/s]"
      ]
     },
     "metadata": {},
     "output_type": "display_data"
    }
   ],
   "source": [
    "test_results = distilbert_trainer.evaluate(ds_distilbert_test)\n",
    "test_accuracy = test_results[\"eval_accuracy\"]"
   ]
  },
  {
   "cell_type": "code",
   "execution_count": 23,
   "metadata": {},
   "outputs": [
    {
     "data": {
      "text/plain": [
       "{'eval_loss': 0.25754180550575256,\n",
       " 'eval_accuracy': 0.9056578947368421,\n",
       " 'eval_runtime': 22.5275,\n",
       " 'eval_samples_per_second': 337.365,\n",
       " 'eval_steps_per_second': 5.282,\n",
       " 'epoch': 10.0}"
      ]
     },
     "execution_count": 23,
     "metadata": {},
     "output_type": "execute_result"
    }
   ],
   "source": [
    "test_results"
   ]
  },
  {
   "cell_type": "code",
   "execution_count": 28,
   "metadata": {},
   "outputs": [
    {
     "data": {
      "image/png": "[encoded data removed]",
      "text/plain": [
       "<Figure size 1000x600 with 1 Axes>"
      ]
     },
     "metadata": {},
     "output_type": "display_data"
    },
    {
     "name": "stdout",
     "output_type": "stream",
     "text": [
      "Final validation accuracy: 0.9057\n",
      "Final Test accuracy: 0.9057\n"
     ]
    }
   ],
   "source": [
    "import matplotlib.pyplot as plt\n",
    "\n",
    "train_history = distilbert_trainer.state.log_history\n",
    "\n",
    "eval_accuracies = [\n",
    "    log[\"eval_accuracy\"] for log in train_history if \"eval_accuracy\" in log\n",
    "]\n",
    "\n",
    "\n",
    "epochs = range(1, DISTILBERT_EPOCHS + 1)\n",
    "\n",
    "plt.figure(figsize=(10, 6))\n",
    "plt.plot(epochs, eval_accuracies[:-1], label=\"Validation\")  # 마지막 값은 테스트 정확도\n",
    "plt.axhline(y=test_accuracy, color=\"r\", linestyle=\"--\", label=\"Test\")\n",
    "plt.title(\"Accuracy\")\n",
    "plt.xlabel(\"Epochs\")\n",
    "plt.ylabel(\"Accuracy\")\n",
    "plt.legend()\n",
    "plt.grid(True)\n",
    "plt.show()\n",
    "\n",
    "print(f\"Final validation accuracy: {eval_accuracies[-2]:.4f}\")\n",
    "print(f\"Final Test accuracy: {test_accuracy:.4f}\")"
   ]
  },
  {
   "cell_type": "markdown",
   "metadata": {},
   "source": [
    "## OpenAI GPT 모델 기반의 분류 모델 정의하기"
   ]
  },
  {
   "cell_type": "code",
   "execution_count": 31,
   "metadata": {},
   "outputs": [
    {
     "name": "stderr",
     "output_type": "stream",
     "text": [
      "/Users/joyuiyeong/.pyenv/versions/3.11.9/envs/deeplearning/lib/python3.11/site-packages/transformers/tokenization_utils_base.py:1601: FutureWarning: `clean_up_tokenization_spaces` was not set. It will be set to `True` by default. This behavior will be depracted in transformers v4.45, and will be then set to `False` by default. For more details check this issue: https://github.com/huggingface/transformers/issues/31884\n",
      "  warnings.warn(\n",
      "Some weights of GPT2ForSequenceClassification were not initialized from the model checkpoint at openai-community/gpt2 and are newly initialized: ['score.weight']\n",
      "You should probably TRAIN this model on a down-stream task to be able to use it for predictions and inference.\n"
     ]
    },
    {
     "data": {
      "application/vnd.jupyter.widget-view+json": {
       "model_id": "71b45f48e3a14b71b44c8530b0d94795",
       "version_major": 2,
       "version_minor": 0
      },
      "text/plain": [
       "Map:   0%|          | 0/120000 [00:00<?, ? examples/s]"
      ]
     },
     "metadata": {},
     "output_type": "display_data"
    },
    {
     "data": {
      "application/vnd.jupyter.widget-view+json": {
       "model_id": "4adc116c63994e728156638fab0b8584",
       "version_major": 2,
       "version_minor": 0
      },
      "text/plain": [
       "Map:   0%|          | 0/7600 [00:00<?, ? examples/s]"
      ]
     },
     "metadata": {},
     "output_type": "display_data"
    }
   ],
   "source": [
    "from transformers import GPT2Tokenizer, GPT2ForSequenceClassification\n",
    "\n",
    "# 토크나이저와 모델 로드\n",
    "gpt_tokenizer = GPT2Tokenizer.from_pretrained(\"openai-community/gpt2\")\n",
    "classifier_g = GPT2ForSequenceClassification.from_pretrained(\n",
    "    \"openai-community/gpt2\",\n",
    "    num_labels=NUM_AG_NEWS_LABELS,\n",
    "    id2label=ag_news_id2label,\n",
    "    label2id=ag_news_label2id,\n",
    ")\n",
    "\n",
    "# GPT-2 토크나이저에는 기본적으로 패딩 토큰이 없으므로 추가\n",
    "gpt_tokenizer.pad_token = gpt_tokenizer.eos_token\n",
    "classifier_g.config.pad_token_id = classifier_g.config.eos_token_id\n",
    "\n",
    "# GPT-2 모델의 모든 레이어들을 freeze\n",
    "for param in classifier_g.transformer.parameters():\n",
    "    param.requires_grad = False\n",
    "\n",
    "\n",
    "# 데이터셋에 전처리 적용\n",
    "def preprocess_function(examples):\n",
    "    return gpt_tokenizer(examples[\"text\"])\n",
    "\n",
    "\n",
    "gpt_tokenized_dataset = ds_ag_news.map(preprocess_function, batched=True)\n",
    "\n",
    "# 데이터셋 분리\n",
    "gpt_ds_split = gpt_tokenized_dataset[\"train\"].train_test_split(test_size=0.2)\n",
    "gpt_train_dataset = gpt_ds_split[\"train\"]\n",
    "gpt_val_dataset = gpt_ds_split[\"test\"]\n",
    "\n",
    "# TrainingArguments 설정\n",
    "GPT_DIR_OUTPUT = \"../data/new_classifier_from_gpt\"\n",
    "GPT_DIR_LOGGING = f\"{GPT_DIR_OUTPUT}/logs\"\n",
    "GPT_EPOCHS = 10\n",
    "GPT_LEARNING_RATE = 1e-3\n",
    "GPT_BATCH_SIZE = 64\n",
    "GPT_WEIGHT_DECAY = 0.0\n",
    "\n",
    "gpt_training_args = TrainingArguments(\n",
    "    output_dir=GPT_DIR_OUTPUT,\n",
    "    num_train_epochs=GPT_EPOCHS,\n",
    "    per_device_train_batch_size=GPT_BATCH_SIZE,\n",
    "    per_device_eval_batch_size=GPT_BATCH_SIZE,\n",
    "    weight_decay=GPT_WEIGHT_DECAY,\n",
    "    learning_rate=GPT_LEARNING_RATE,\n",
    "    logging_dir=GPT_DIR_LOGGING,\n",
    "    logging_strategy=\"epoch\",\n",
    "    do_train=True,\n",
    "    do_eval=True,\n",
    "    eval_strategy=\"epoch\",\n",
    "    save_strategy=\"epoch\",\n",
    "    load_best_model_at_end=True,\n",
    ")\n",
    "\n",
    "# Trainer 초기화\n",
    "gpt_trainer = Trainer(\n",
    "    model=classifier_g,\n",
    "    args=gpt_training_args,\n",
    "    train_dataset=gpt_train_dataset,\n",
    "    eval_dataset=gpt_val_dataset,\n",
    "    compute_metrics=compute_metrics,\n",
    "    tokenizer=gpt_tokenizer,\n",
    ")"
   ]
  },
  {
   "cell_type": "code",
   "execution_count": 32,
   "metadata": {},
   "outputs": [
    {
     "data": {
      "application/vnd.jupyter.widget-view+json": {
       "model_id": "470c84aff7e84f5e8e706e2225b1c16c",
       "version_major": 2,
       "version_minor": 0
      },
      "text/plain": [
       "  0%|          | 0/15000 [00:00<?, ?it/s]"
      ]
     },
     "metadata": {},
     "output_type": "display_data"
    },
    {
     "name": "stdout",
     "output_type": "stream",
     "text": [
      "{'loss': 0.3857, 'grad_norm': 13.47107982635498, 'learning_rate': 0.0009000000000000001, 'epoch': 1.0}\n"
     ]
    },
    {
     "data": {
      "application/vnd.jupyter.widget-view+json": {
       "model_id": "8b75df61f78c4aeaa2e26ff5eb61f3a7",
       "version_major": 2,
       "version_minor": 0
      },
      "text/plain": [
       "  0%|          | 0/375 [00:00<?, ?it/s]"
      ]
     },
     "metadata": {},
     "output_type": "display_data"
    },
    {
     "name": "stdout",
     "output_type": "stream",
     "text": [
      "{'eval_loss': 0.27930518984794617, 'eval_accuracy': 0.899125, 'eval_runtime': 153.1049, 'eval_samples_per_second': 156.755, 'eval_steps_per_second': 2.449, 'epoch': 1.0}\n",
      "{'loss': 0.293, 'grad_norm': 6.807064056396484, 'learning_rate': 0.0008, 'epoch': 2.0}\n"
     ]
    },
    {
     "data": {
      "application/vnd.jupyter.widget-view+json": {
       "model_id": "b8591d57265947228a1449790c79a031",
       "version_major": 2,
       "version_minor": 0
      },
      "text/plain": [
       "  0%|          | 0/375 [00:00<?, ?it/s]"
      ]
     },
     "metadata": {},
     "output_type": "display_data"
    },
    {
     "name": "stdout",
     "output_type": "stream",
     "text": [
      "{'eval_loss': 0.27037370204925537, 'eval_accuracy': 0.905875, 'eval_runtime': 150.3481, 'eval_samples_per_second': 159.63, 'eval_steps_per_second': 2.494, 'epoch': 2.0}\n",
      "{'loss': 0.2847, 'grad_norm': 6.577025413513184, 'learning_rate': 0.0007, 'epoch': 3.0}\n"
     ]
    },
    {
     "data": {
      "application/vnd.jupyter.widget-view+json": {
       "model_id": "e03ed9f682f74c14a94eed4943ea5b77",
       "version_major": 2,
       "version_minor": 0
      },
      "text/plain": [
       "  0%|          | 0/375 [00:00<?, ?it/s]"
      ]
     },
     "metadata": {},
     "output_type": "display_data"
    },
    {
     "name": "stdout",
     "output_type": "stream",
     "text": [
      "{'eval_loss': 0.27178502082824707, 'eval_accuracy': 0.9027916666666667, 'eval_runtime': 145.289, 'eval_samples_per_second': 165.188, 'eval_steps_per_second': 2.581, 'epoch': 3.0}\n",
      "{'loss': 0.282, 'grad_norm': 2.4643468856811523, 'learning_rate': 0.0006, 'epoch': 4.0}\n"
     ]
    },
    {
     "data": {
      "application/vnd.jupyter.widget-view+json": {
       "model_id": "1ce52fa745ce44dea81c6cdcf456b3b6",
       "version_major": 2,
       "version_minor": 0
      },
      "text/plain": [
       "  0%|          | 0/375 [00:00<?, ?it/s]"
      ]
     },
     "metadata": {},
     "output_type": "display_data"
    },
    {
     "name": "stdout",
     "output_type": "stream",
     "text": [
      "{'eval_loss': 0.26102128624916077, 'eval_accuracy': 0.9065416666666667, 'eval_runtime': 146.7524, 'eval_samples_per_second': 163.541, 'eval_steps_per_second': 2.555, 'epoch': 4.0}\n",
      "{'loss': 0.2787, 'grad_norm': 16.357824325561523, 'learning_rate': 0.0005, 'epoch': 5.0}\n"
     ]
    },
    {
     "data": {
      "application/vnd.jupyter.widget-view+json": {
       "model_id": "6b2154667d7a42a8987105bbc8687fd8",
       "version_major": 2,
       "version_minor": 0
      },
      "text/plain": [
       "  0%|          | 0/375 [00:00<?, ?it/s]"
      ]
     },
     "metadata": {},
     "output_type": "display_data"
    },
    {
     "name": "stdout",
     "output_type": "stream",
     "text": [
      "{'eval_loss': 0.26358041167259216, 'eval_accuracy': 0.9050416666666666, 'eval_runtime': 138.2148, 'eval_samples_per_second': 173.643, 'eval_steps_per_second': 2.713, 'epoch': 5.0}\n",
      "{'loss': 0.2752, 'grad_norm': 5.146598815917969, 'learning_rate': 0.0004, 'epoch': 6.0}\n"
     ]
    },
    {
     "data": {
      "application/vnd.jupyter.widget-view+json": {
       "model_id": "ab9bcac277734b6ab4ad4a88d81c638f",
       "version_major": 2,
       "version_minor": 0
      },
      "text/plain": [
       "  0%|          | 0/375 [00:00<?, ?it/s]"
      ]
     },
     "metadata": {},
     "output_type": "display_data"
    },
    {
     "name": "stdout",
     "output_type": "stream",
     "text": [
      "{'eval_loss': 0.2665274143218994, 'eval_accuracy': 0.904375, 'eval_runtime': 159.4517, 'eval_samples_per_second': 150.516, 'eval_steps_per_second': 2.352, 'epoch': 6.0}\n",
      "{'loss': 0.274, 'grad_norm': 4.5207109451293945, 'learning_rate': 0.0003, 'epoch': 7.0}\n"
     ]
    },
    {
     "data": {
      "application/vnd.jupyter.widget-view+json": {
       "model_id": "e628bfa93654401193bf4c6c85b3b25b",
       "version_major": 2,
       "version_minor": 0
      },
      "text/plain": [
       "  0%|          | 0/375 [00:00<?, ?it/s]"
      ]
     },
     "metadata": {},
     "output_type": "display_data"
    },
    {
     "name": "stdout",
     "output_type": "stream",
     "text": [
      "{'eval_loss': 0.2612842619419098, 'eval_accuracy': 0.9082916666666667, 'eval_runtime': 149.2198, 'eval_samples_per_second': 160.837, 'eval_steps_per_second': 2.513, 'epoch': 7.0}\n",
      "{'loss': 0.2697, 'grad_norm': 12.62037467956543, 'learning_rate': 0.0002, 'epoch': 8.0}\n"
     ]
    },
    {
     "data": {
      "application/vnd.jupyter.widget-view+json": {
       "model_id": "7be4364f2c7141bb99c518f5b2e492f8",
       "version_major": 2,
       "version_minor": 0
      },
      "text/plain": [
       "  0%|          | 0/375 [00:00<?, ?it/s]"
      ]
     },
     "metadata": {},
     "output_type": "display_data"
    },
    {
     "name": "stdout",
     "output_type": "stream",
     "text": [
      "{'eval_loss': 0.25581714510917664, 'eval_accuracy': 0.9073333333333333, 'eval_runtime': 148.8663, 'eval_samples_per_second': 161.218, 'eval_steps_per_second': 2.519, 'epoch': 8.0}\n",
      "{'loss': 0.2671, 'grad_norm': 14.353818893432617, 'learning_rate': 0.0001, 'epoch': 9.0}\n"
     ]
    },
    {
     "data": {
      "application/vnd.jupyter.widget-view+json": {
       "model_id": "c9b9a448b23e41419208e76dbb2ace74",
       "version_major": 2,
       "version_minor": 0
      },
      "text/plain": [
       "  0%|          | 0/375 [00:00<?, ?it/s]"
      ]
     },
     "metadata": {},
     "output_type": "display_data"
    },
    {
     "name": "stdout",
     "output_type": "stream",
     "text": [
      "{'eval_loss': 0.2532919645309448, 'eval_accuracy': 0.910375, 'eval_runtime': 142.5339, 'eval_samples_per_second': 168.381, 'eval_steps_per_second': 2.631, 'epoch': 9.0}\n",
      "{'loss': 0.2649, 'grad_norm': 7.680771350860596, 'learning_rate': 0.0, 'epoch': 10.0}\n"
     ]
    },
    {
     "data": {
      "application/vnd.jupyter.widget-view+json": {
       "model_id": "9c6a4c4de2a146f9861e3abff506c7e4",
       "version_major": 2,
       "version_minor": 0
      },
      "text/plain": [
       "  0%|          | 0/375 [00:00<?, ?it/s]"
      ]
     },
     "metadata": {},
     "output_type": "display_data"
    },
    {
     "name": "stdout",
     "output_type": "stream",
     "text": [
      "{'eval_loss': 0.2527273893356323, 'eval_accuracy': 0.9094166666666667, 'eval_runtime': 146.4377, 'eval_samples_per_second': 163.892, 'eval_steps_per_second': 2.561, 'epoch': 10.0}\n",
      "{'train_runtime': 8237.3034, 'train_samples_per_second': 116.543, 'train_steps_per_second': 1.821, 'train_loss': 0.28749833374023437, 'epoch': 10.0}\n"
     ]
    },
    {
     "data": {
      "text/plain": [
       "TrainOutput(global_step=15000, training_loss=0.28749833374023437, metrics={'train_runtime': 8237.3034, 'train_samples_per_second': 116.543, 'train_steps_per_second': 1.821, 'total_flos': 6.447424308550042e+16, 'train_loss': 0.28749833374023437, 'epoch': 10.0})"
      ]
     },
     "execution_count": 32,
     "metadata": {},
     "output_type": "execute_result"
    }
   ],
   "source": [
    "gpt_trainer.train()"
   ]
  },
  {
   "cell_type": "code",
   "execution_count": 33,
   "metadata": {},
   "outputs": [
    {
     "data": {
      "application/vnd.jupyter.widget-view+json": {
       "model_id": "d93158ed712d4e7d94b0b269d72373b6",
       "version_major": 2,
       "version_minor": 0
      },
      "text/plain": [
       "  0%|          | 0/119 [00:00<?, ?it/s]"
      ]
     },
     "metadata": {},
     "output_type": "display_data"
    },
    {
     "data": {
      "text/plain": [
       "{'eval_loss': 0.26194849610328674,\n",
       " 'eval_accuracy': 0.9069736842105263,\n",
       " 'eval_runtime': 69.0031,\n",
       " 'eval_samples_per_second': 110.14,\n",
       " 'eval_steps_per_second': 1.725,\n",
       " 'epoch': 10.0}"
      ]
     },
     "execution_count": 33,
     "metadata": {},
     "output_type": "execute_result"
    }
   ],
   "source": [
    "gpt_test_results = gpt_trainer.evaluate(gpt_tokenized_dataset[\"test\"])\n",
    "gpt_test_results"
   ]
  },
  {
   "cell_type": "code",
   "execution_count": 34,
   "metadata": {},
   "outputs": [
    {
     "data": {
      "image/png": "[encoded data removed]",
      "text/plain": [
       "<Figure size 1000x600 with 1 Axes>"
      ]
     },
     "metadata": {},
     "output_type": "display_data"
    },
    {
     "name": "stdout",
     "output_type": "stream",
     "text": [
      "Final validation accuracy: 0.9094\n",
      "Final Test accuracy: 0.9070\n"
     ]
    }
   ],
   "source": [
    "gpt_test_accuracy = gpt_test_results[\"eval_accuracy\"]\n",
    "gpt_train_history = gpt_trainer.state.log_history\n",
    "\n",
    "gpt_eval_accuracies = [\n",
    "    log[\"eval_accuracy\"] for log in gpt_train_history if \"eval_accuracy\" in log\n",
    "]\n",
    "\n",
    "\n",
    "epochs = range(1, DISTILBERT_EPOCHS + 1)\n",
    "\n",
    "plt.figure(figsize=(10, 6))\n",
    "plt.plot(\n",
    "    epochs, gpt_eval_accuracies[:-1], label=\"Validation\"\n",
    ")  # 마지막 값은 테스트 정확도\n",
    "plt.axhline(y=gpt_test_accuracy, color=\"r\", linestyle=\"--\", label=\"Test\")\n",
    "plt.title(\"Accuracy\")\n",
    "plt.xlabel(\"Epochs\")\n",
    "plt.ylabel(\"Accuracy\")\n",
    "plt.legend()\n",
    "plt.grid(True)\n",
    "plt.show()\n",
    "\n",
    "print(f\"Final validation accuracy: {gpt_eval_accuracies[-2]:.4f}\")\n",
    "print(f\"Final Test accuracy: {gpt_test_accuracy:.4f}\")"
   ]
  }
 ],
 "metadata": {
  "kernelspec": {
   "display_name": "deeplearning",
   "language": "python",
   "name": "python3"
  },
  "language_info": {
   "codemirror_mode": {
    "name": "ipython",
    "version": 3
   },
   "file_extension": ".py",
   "mimetype": "text/x-python",
   "name": "python",
   "nbconvert_exporter": "python",
   "pygments_lexer": "ipython3",
   "version": "3.11.9"
  }
 },
 "nbformat": 4,
 "nbformat_minor": 2
}
