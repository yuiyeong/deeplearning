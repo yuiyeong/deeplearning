{
 "cells": [
  {
   "cell_type": "markdown",
   "metadata": {},
   "source": [
    "# DistilBERT 를 이용하여, 뉴스 기사에 대한 감정 분석 모델 만들기"
   ]
  },
  {
   "cell_type": "code",
   "execution_count": 1,
   "metadata": {},
   "outputs": [],
   "source": [
    "import time\n",
    "\n",
    "import torch\n",
    "import torch.nn as nn\n",
    "from torch.optim import Adam\n",
    "from torch.utils.data import DataLoader\n",
    "\n",
    "from transformers import DistilBertTokenizer\n",
    "from datasets import load_dataset"
   ]
  },
  {
   "cell_type": "markdown",
   "metadata": {},
   "source": [
    "## AG News 데이터셋 로드\n",
    "- 100 만건 이상의 뉴스 기사 데이터셋\n",
    "- 4개의 뉴스 카테고리\n",
    "    - 1: World, 2: Sports, 3: Business, 4: Science/Technology\n",
    "- 뉴스 기사 제목과 내용으로 구성"
   ]
  },
  {
   "cell_type": "code",
   "execution_count": 2,
   "metadata": {},
   "outputs": [
    {
     "name": "stdout",
     "output_type": "stream",
     "text": [
      "{'text': \"Wall St. Bears Claw Back Into the Black (Reuters) Reuters - Short-sellers, Wall Street's dwindling\\\\band of ultra-cynics, are seeing green again.\", 'label': 2}\n"
     ]
    }
   ],
   "source": [
    "ds = load_dataset(\"fancyzhx/ag_news\")\n",
    "\n",
    "print(ds[\"train\"][0])"
   ]
  },
  {
   "cell_type": "code",
   "execution_count": 3,
   "metadata": {},
   "outputs": [],
   "source": [
    "BATCH_SIZE = 64\n",
    "LEARNING_RATE = 0.001\n",
    "NUM_EPOCHS = 10"
   ]
  },
  {
   "cell_type": "code",
   "execution_count": 4,
   "metadata": {},
   "outputs": [
    {
     "data": {
      "text/plain": [
       "DistilBertTokenizer(name_or_path='distilbert-base-uncased', vocab_size=30522, model_max_length=512, is_fast=False, padding_side='right', truncation_side='right', special_tokens={'unk_token': '[UNK]', 'sep_token': '[SEP]', 'pad_token': '[PAD]', 'cls_token': '[CLS]', 'mask_token': '[MASK]'}, clean_up_tokenization_spaces=True),  added_tokens_decoder={\n",
       "\t0: AddedToken(\"[PAD]\", rstrip=False, lstrip=False, single_word=False, normalized=False, special=True),\n",
       "\t100: AddedToken(\"[UNK]\", rstrip=False, lstrip=False, single_word=False, normalized=False, special=True),\n",
       "\t101: AddedToken(\"[CLS]\", rstrip=False, lstrip=False, single_word=False, normalized=False, special=True),\n",
       "\t102: AddedToken(\"[SEP]\", rstrip=False, lstrip=False, single_word=False, normalized=False, special=True),\n",
       "\t103: AddedToken(\"[MASK]\", rstrip=False, lstrip=False, single_word=False, normalized=False, special=True),\n",
       "}"
      ]
     },
     "execution_count": 4,
     "metadata": {},
     "output_type": "execute_result"
    }
   ],
   "source": [
    "tokenizer = DistilBertTokenizer.from_pretrained(\"distilbert-base-uncased\")\n",
    "tokenizer"
   ]
  },
  {
   "cell_type": "code",
   "execution_count": 5,
   "metadata": {},
   "outputs": [],
   "source": [
    "def collate_ag_news(batch):\n",
    "    \"\"\"\n",
    "    AG News 데이터셋을 위한 collate 함수\n",
    "    DistilBertTokenizer 를 이용하여, input_ids, attention_mask, labels 를 반환\n",
    "    \"\"\"\n",
    "    texts, labels = [], []\n",
    "\n",
    "    for row in batch:\n",
    "        texts.append(row[\"text\"])\n",
    "        labels.append(row[\"label\"])\n",
    "\n",
    "    tokenized = tokenizer(texts, padding=True, return_tensors=\"pt\")\n",
    "\n",
    "    return tokenized.input_ids, tokenized.attention_mask, torch.LongTensor(labels)\n",
    "\n",
    "\n",
    "train_data_loader = DataLoader(\n",
    "    ds[\"train\"], batch_size=BATCH_SIZE, shuffle=True, collate_fn=collate_ag_news\n",
    ")\n",
    "test_data_loader = DataLoader(\n",
    "    ds[\"test\"], batch_size=BATCH_SIZE, shuffle=False, collate_fn=collate_ag_news\n",
    ")"
   ]
  },
  {
   "cell_type": "code",
   "execution_count": 6,
   "metadata": {},
   "outputs": [
    {
     "name": "stderr",
     "output_type": "stream",
     "text": [
      "Using cache found in /root/.cache/torch/hub/huggingface_pytorch-transformers_main\n"
     ]
    },
    {
     "data": {
      "text/plain": [
       "DistilBertModel(\n",
       "  (embeddings): Embeddings(\n",
       "    (word_embeddings): Embedding(30522, 768, padding_idx=0)\n",
       "    (position_embeddings): Embedding(512, 768)\n",
       "    (LayerNorm): LayerNorm((768,), eps=1e-12, elementwise_affine=True)\n",
       "    (dropout): Dropout(p=0.1, inplace=False)\n",
       "  )\n",
       "  (transformer): Transformer(\n",
       "    (layer): ModuleList(\n",
       "      (0-5): 6 x TransformerBlock(\n",
       "        (attention): MultiHeadSelfAttention(\n",
       "          (dropout): Dropout(p=0.1, inplace=False)\n",
       "          (q_lin): Linear(in_features=768, out_features=768, bias=True)\n",
       "          (k_lin): Linear(in_features=768, out_features=768, bias=True)\n",
       "          (v_lin): Linear(in_features=768, out_features=768, bias=True)\n",
       "          (out_lin): Linear(in_features=768, out_features=768, bias=True)\n",
       "        )\n",
       "        (sa_layer_norm): LayerNorm((768,), eps=1e-12, elementwise_affine=True)\n",
       "        (ffn): FFN(\n",
       "          (dropout): Dropout(p=0.1, inplace=False)\n",
       "          (lin1): Linear(in_features=768, out_features=3072, bias=True)\n",
       "          (lin2): Linear(in_features=3072, out_features=768, bias=True)\n",
       "          (activation): GELUActivation()\n",
       "        )\n",
       "        (output_layer_norm): LayerNorm((768,), eps=1e-12, elementwise_affine=True)\n",
       "      )\n",
       "    )\n",
       "  )\n",
       ")"
      ]
     },
     "execution_count": 6,
     "metadata": {},
     "output_type": "execute_result"
    }
   ],
   "source": [
    "distilled_bert = torch.hub.load(\n",
    "    \"huggingface/pytorch-transformers\", \"model\", \"distilbert-base-uncased\"\n",
    ")\n",
    "distilled_bert"
   ]
  },
  {
   "cell_type": "code",
   "execution_count": 7,
   "metadata": {},
   "outputs": [],
   "source": [
    "class NewsClassifier(nn.Module):\n",
    "    def __init__(self, pretrained_model):\n",
    "        super().__init__()\n",
    "        self.encoder = pretrained_model\n",
    "\n",
    "        # DistilBERT-base의 hidden size는 768.\n",
    "        # AG news dataset 의 카테고리는 4개.\n",
    "        self.classifier = nn.Linear(768, 4)\n",
    "\n",
    "    def forward(self, inputs, attention_masks):\n",
    "        # x.shape: (batch_size, seq_len)\n",
    "        x = self.encoder(\n",
    "            inputs, attention_mask=attention_masks\n",
    "        ).last_hidden_state  # x.shape: (batch_size, seq_len, hidden_size)\n",
    "        x = x[:, 0]  # x.shape: (batch_size, hidden_size)\n",
    "        x = self.classifier(x)  # x.shape: (batch_size, 4)\n",
    "        return x"
   ]
  },
  {
   "cell_type": "code",
   "execution_count": 8,
   "metadata": {},
   "outputs": [
    {
     "data": {
      "text/plain": [
       "NewsClassifier(\n",
       "  (encoder): DistilBertModel(\n",
       "    (embeddings): Embeddings(\n",
       "      (word_embeddings): Embedding(30522, 768, padding_idx=0)\n",
       "      (position_embeddings): Embedding(512, 768)\n",
       "      (LayerNorm): LayerNorm((768,), eps=1e-12, elementwise_affine=True)\n",
       "      (dropout): Dropout(p=0.1, inplace=False)\n",
       "    )\n",
       "    (transformer): Transformer(\n",
       "      (layer): ModuleList(\n",
       "        (0-5): 6 x TransformerBlock(\n",
       "          (attention): MultiHeadSelfAttention(\n",
       "            (dropout): Dropout(p=0.1, inplace=False)\n",
       "            (q_lin): Linear(in_features=768, out_features=768, bias=True)\n",
       "            (k_lin): Linear(in_features=768, out_features=768, bias=True)\n",
       "            (v_lin): Linear(in_features=768, out_features=768, bias=True)\n",
       "            (out_lin): Linear(in_features=768, out_features=768, bias=True)\n",
       "          )\n",
       "          (sa_layer_norm): LayerNorm((768,), eps=1e-12, elementwise_affine=True)\n",
       "          (ffn): FFN(\n",
       "            (dropout): Dropout(p=0.1, inplace=False)\n",
       "            (lin1): Linear(in_features=768, out_features=3072, bias=True)\n",
       "            (lin2): Linear(in_features=3072, out_features=768, bias=True)\n",
       "            (activation): GELUActivation()\n",
       "          )\n",
       "          (output_layer_norm): LayerNorm((768,), eps=1e-12, elementwise_affine=True)\n",
       "        )\n",
       "      )\n",
       "    )\n",
       "  )\n",
       "  (classifier): Linear(in_features=768, out_features=4, bias=True)\n",
       ")"
      ]
     },
     "execution_count": 8,
     "metadata": {},
     "output_type": "execute_result"
    }
   ],
   "source": [
    "my_device = torch.device(\"cuda\" if torch.cuda.is_available() else \"cpu\")\n",
    "\n",
    "classifier_model = NewsClassifier(distilled_bert).to(my_device)\n",
    "classifier_model"
   ]
  },
  {
   "cell_type": "markdown",
   "metadata": {},
   "source": [
    "- DistillBERT 의 parameter 를 freezing"
   ]
  },
  {
   "cell_type": "code",
   "execution_count": 9,
   "metadata": {},
   "outputs": [],
   "source": [
    "for param in classifier_model.encoder.parameters():\n",
    "    param.requires_grad = False"
   ]
  },
  {
   "cell_type": "markdown",
   "metadata": {},
   "source": [
    "## Accuracy 계산 함수"
   ]
  },
  {
   "cell_type": "code",
   "execution_count": 10,
   "metadata": {},
   "outputs": [],
   "source": [
    "def cal_accuracy(device, model, data_loader):\n",
    "    total = 0\n",
    "    correctness = 0\n",
    "\n",
    "    for data in data_loader:\n",
    "        inputs, masks, labels = data\n",
    "        inputs, masks, labels = inputs.to(device), masks.to(device), labels.to(device)\n",
    "\n",
    "        outputs = model(inputs, masks)\n",
    "        _, predicted = torch.max(outputs.data, 1)\n",
    "\n",
    "        total += labels.size(0)\n",
    "        correctness += (predicted == labels).sum().item()\n",
    "\n",
    "    return correctness / total"
   ]
  },
  {
   "cell_type": "markdown",
   "metadata": {},
   "source": [
    "## 모델 학습"
   ]
  },
  {
   "cell_type": "code",
   "execution_count": 11,
   "metadata": {},
   "outputs": [],
   "source": [
    "optimizer = Adam(classifier_model.parameters(), lr=LEARNING_RATE)\n",
    "criterion = nn.CrossEntropyLoss()"
   ]
  },
  {
   "cell_type": "code",
   "execution_count": 12,
   "metadata": {},
   "outputs": [
    {
     "name": "stdout",
     "output_type": "stream",
     "text": [
      "Epoch   1 | 82.12s | Total Loss: 666.4780\n",
      "    ===> Train Accuracy: 0.8973, Test Accuracy: 0.8958\n",
      "Epoch   2 | 80.84s | Total Loss: 556.0756\n",
      "    ===> Train Accuracy: 0.9025, Test Accuracy: 0.8999\n",
      "Epoch   3 | 81.09s | Total Loss: 538.2115\n",
      "    ===> Train Accuracy: 0.9035, Test Accuracy: 0.9011\n",
      "Epoch   4 | 81.31s | Total Loss: 530.0633\n",
      "    ===> Train Accuracy: 0.9036, Test Accuracy: 0.8992\n",
      "Epoch   5 | 80.60s | Total Loss: 523.6820\n",
      "    ===> Train Accuracy: 0.9060, Test Accuracy: 0.9026\n",
      "Epoch   6 | 80.68s | Total Loss: 521.4954\n",
      "    ===> Train Accuracy: 0.9045, Test Accuracy: 0.9013\n",
      "Epoch   7 | 80.65s | Total Loss: 518.9138\n",
      "    ===> Train Accuracy: 0.9070, Test Accuracy: 0.9030\n",
      "Epoch   8 | 80.63s | Total Loss: 513.7168\n",
      "    ===> Train Accuracy: 0.9062, Test Accuracy: 0.9016\n",
      "Epoch   9 | 81.94s | Total Loss: 514.4240\n",
      "    ===> Train Accuracy: 0.9064, Test Accuracy: 0.9032\n",
      "Epoch  10 | 80.64s | Total Loss: 512.4126\n",
      "    ===> Train Accuracy: 0.9084, Test Accuracy: 0.9051\n"
     ]
    }
   ],
   "source": [
    "train_accuracies = []\n",
    "test_accuracies = []\n",
    "\n",
    "for epoch in range(NUM_EPOCHS):\n",
    "    classifier_model.train()\n",
    "\n",
    "    total_loss = 0.0\n",
    "    start_time = time.time()\n",
    "    for data in train_data_loader:\n",
    "        optimizer.zero_grad()\n",
    "\n",
    "        inputs, attention_masks, labels = data\n",
    "        inputs, attention_masks, labels = (\n",
    "            inputs.to(my_device),\n",
    "            attention_masks.to(my_device),\n",
    "            labels.to(my_device),\n",
    "        )\n",
    "\n",
    "        outputs = classifier_model(inputs, attention_masks)\n",
    "\n",
    "        loss = criterion(outputs, labels)\n",
    "        loss.backward()\n",
    "\n",
    "        optimizer.step()\n",
    "\n",
    "        total_loss += loss.item()\n",
    "\n",
    "    print(\n",
    "        f\"Epoch {epoch+1:3d} | {time.time() - start_time:.2f}s | Total Loss: {total_loss:.4f}\"\n",
    "    )\n",
    "\n",
    "    with torch.no_grad():\n",
    "        classifier_model.eval()\n",
    "\n",
    "        train_accuracy = cal_accuracy(my_device, classifier_model, train_data_loader)\n",
    "        test_accuracy = cal_accuracy(my_device, classifier_model, test_data_loader)\n",
    "\n",
    "        train_accuracies.append(train_accuracy)\n",
    "        test_accuracies.append(test_accuracy)\n",
    "        print(\n",
    "            f\"    ===> Train Accuracy: {train_accuracy:.4f}, Test Accuracy: {test_accuracy:.4f}\"\n",
    "        )"
   ]
  },
  {
   "cell_type": "code",
   "execution_count": 13,
   "metadata": {},
   "outputs": [
    {
     "data": {
      "image/png": "[encoded data removed]",
      "text/plain": [
       "<Figure size 1000x800 with 1 Axes>"
      ]
     },
     "metadata": {},
     "output_type": "display_data"
    }
   ],
   "source": [
    "import numpy as np\n",
    "import matplotlib.pyplot as plt\n",
    "\n",
    "plt.figure(figsize=(10, 8))\n",
    "\n",
    "x_axis = np.arange(len(train_accuracies))\n",
    "plt.plot(x_axis, train_accuracies, label=\"Training Accuracy\")\n",
    "plt.plot(x_axis, test_accuracies, label=\"Test Accuracy\")\n",
    "\n",
    "plt.legend()\n",
    "\n",
    "plt.ylim([0, 1])\n",
    "plt.ylabel(\"Accuracy\")\n",
    "plt.xlabel(\"Epochs\")\n",
    "\n",
    "plt.show()"
   ]
  },
  {
   "cell_type": "markdown",
   "metadata": {},
   "source": [
    "## 학습 결과 분석\n",
    "\n",
    "- 훈련 정확도: 89.73% (에폭 1) → 90.84% (에폭 10)\n",
    "- 테스트 정확도: 89.58% (에폭 1) → 90.51% (에폭 10)\n",
    "- 훈련과 테스트 정확도가 모두 꾸준히 향상되고 있습니다.\n",
    "- 즉, 모델이 AG News 데이터셋에 대해 매우 좋은 성능을 보이고 있습니다.\n",
    "- 최종 테스트 정확도가 90.51%로, 4개 클래스 분류 작업에 대해 상당히 높은 수준입니다.\n",
    "- 과적합도 발생하지 않았습니다."
   ]
  }
 ],
 "metadata": {
  "kernelspec": {
   "display_name": "Python 3 (ipykernel)",
   "language": "python",
   "name": "python3"
  },
  "language_info": {
   "codemirror_mode": {
    "name": "ipython",
    "version": 3
   },
   "file_extension": ".py",
   "mimetype": "text/x-python",
   "name": "python",
   "nbconvert_exporter": "python",
   "pygments_lexer": "ipython3",
   "version": "3.11.10"
  }
 },
 "nbformat": 4,
 "nbformat_minor": 4
}
