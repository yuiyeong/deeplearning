{
 "cells": [
  {
   "cell_type": "markdown",
   "metadata": {},
   "source": [
    "# AG New 데이터셋을 이용하여 뉴스 기사를 만드는 GPT 모델 구현하기"
   ]
  },
  {
   "cell_type": "code",
   "execution_count": 1,
   "metadata": {},
   "outputs": [],
   "source": [
    "import time\n",
    "\n",
    "import torch\n",
    "import torch.nn as nn\n",
    "from torch.optim import Adam\n",
    "from torch.utils.data import DataLoader\n",
    "\n",
    "from transformers import OpenAIGPTTokenizer, OpenAIGPTModel\n",
    "from datasets import load_dataset"
   ]
  },
  {
   "cell_type": "code",
   "execution_count": 2,
   "metadata": {},
   "outputs": [],
   "source": [
    "ds = load_dataset(\"fancyzhx/ag_news\")"
   ]
  },
  {
   "cell_type": "code",
   "execution_count": 3,
   "metadata": {},
   "outputs": [],
   "source": [
    "BATCH_SIZE = 64\n",
    "LEARNING_RATE = 0.001\n",
    "NUM_EPOCHS = 10"
   ]
  },
  {
   "cell_type": "markdown",
   "metadata": {},
   "source": [
    "- OpenAI GPT Tokenizer 는 padding token 을 지원하지 않기 때문에 unk_token 을 pad_token 으로 설정해줍니다."
   ]
  },
  {
   "cell_type": "code",
   "execution_count": 4,
   "metadata": {},
   "outputs": [
    {
     "name": "stderr",
     "output_type": "stream",
     "text": [
      "ftfy or spacy is not installed using BERT BasicTokenizer instead of SpaCy & ftfy.\n",
      "/Users/joyuiyeong/.pyenv/versions/3.11.9/envs/deeplearning/lib/python3.11/site-packages/transformers/tokenization_utils_base.py:1601: FutureWarning: `clean_up_tokenization_spaces` was not set. It will be set to `True` by default. This behavior will be depracted in transformers v4.45, and will be then set to `False` by default. For more details check this issue: https://github.com/huggingface/transformers/issues/31884\n",
      "  warnings.warn(\n"
     ]
    },
    {
     "data": {
      "text/plain": [
       "OpenAIGPTTokenizer(name_or_path='openai-gpt', vocab_size=40478, model_max_length=512, is_fast=False, padding_side='right', truncation_side='right', special_tokens={'unk_token': '<unk>', 'pad_token': '<unk>'}, clean_up_tokenization_spaces=True),  added_tokens_decoder={\n",
       "\t0: AddedToken(\"<unk>\", rstrip=False, lstrip=False, single_word=False, normalized=False, special=True),\n",
       "}"
      ]
     },
     "execution_count": 4,
     "metadata": {},
     "output_type": "execute_result"
    }
   ],
   "source": [
    "tokenizer = OpenAIGPTTokenizer.from_pretrained(\"openai-gpt\")\n",
    "tokenizer.pad_token = tokenizer.unk_token\n",
    "tokenizer"
   ]
  },
  {
   "cell_type": "markdown",
   "metadata": {},
   "source": [
    "## AG News 데이터셋으로 DataLoader 생성"
   ]
  },
  {
   "cell_type": "code",
   "execution_count": 5,
   "metadata": {},
   "outputs": [],
   "source": [
    "def collate_ag_news(batch):\n",
    "    \"\"\"\n",
    "    AG News 데이터셋을 위한 collate 함수\n",
    "    OpenAIGPTTokenizer 를 이용하여, input_ids, attention_mask, labels 를 반환\n",
    "    \"\"\"\n",
    "    texts, labels = [], []\n",
    "\n",
    "    for row in batch:\n",
    "        texts.append(row[\"text\"])\n",
    "        labels.append(row[\"label\"])\n",
    "\n",
    "    tokenized = tokenizer(texts, padding=True, return_tensors=\"pt\")\n",
    "\n",
    "    return tokenized.input_ids, tokenized.attention_mask, torch.LongTensor(labels)\n",
    "\n",
    "\n",
    "train_data_loader = DataLoader(\n",
    "    ds[\"train\"], batch_size=BATCH_SIZE, shuffle=True, collate_fn=collate_ag_news\n",
    ")\n",
    "test_data_loader = DataLoader(\n",
    "    ds[\"test\"], batch_size=BATCH_SIZE, shuffle=False, collate_fn=collate_ag_news\n",
    ")"
   ]
  },
  {
   "cell_type": "markdown",
   "metadata": {},
   "source": [
    "## OpenAI GPT 의 Pretrained Model 로드"
   ]
  },
  {
   "cell_type": "code",
   "execution_count": 6,
   "metadata": {},
   "outputs": [
    {
     "data": {
      "text/plain": [
       "OpenAIGPTModel(\n",
       "  (tokens_embed): Embedding(40478, 768)\n",
       "  (positions_embed): Embedding(512, 768)\n",
       "  (drop): Dropout(p=0.1, inplace=False)\n",
       "  (h): ModuleList(\n",
       "    (0-11): 12 x Block(\n",
       "      (attn): Attention(\n",
       "        (c_attn): Conv1D()\n",
       "        (c_proj): Conv1D()\n",
       "        (attn_dropout): Dropout(p=0.1, inplace=False)\n",
       "        (resid_dropout): Dropout(p=0.1, inplace=False)\n",
       "      )\n",
       "      (ln_1): LayerNorm((768,), eps=1e-05, elementwise_affine=True)\n",
       "      (mlp): MLP(\n",
       "        (c_fc): Conv1D()\n",
       "        (c_proj): Conv1D()\n",
       "        (act): NewGELUActivation()\n",
       "        (dropout): Dropout(p=0.1, inplace=False)\n",
       "      )\n",
       "      (ln_2): LayerNorm((768,), eps=1e-05, elementwise_affine=True)\n",
       "    )\n",
       "  )\n",
       ")"
      ]
     },
     "execution_count": 6,
     "metadata": {},
     "output_type": "execute_result"
    }
   ],
   "source": [
    "openai_gpt = OpenAIGPTModel.from_pretrained(\"openai-gpt\")\n",
    "openai_gpt"
   ]
  },
  {
   "cell_type": "markdown",
   "metadata": {},
   "source": [
    "## OpenAI GPT 를 이용하여 뉴스 기사를 분류하는 모델 정의"
   ]
  },
  {
   "cell_type": "code",
   "execution_count": 7,
   "metadata": {},
   "outputs": [],
   "source": [
    "class NewsClassifier(nn.Module):\n",
    "    def __init__(self, pretrained_model):\n",
    "        super().__init__()\n",
    "        # GPT는 트랜스포머(Transformer) 아키텍처의 디코더 부분만을 사용합니다.\n",
    "        # 하지만 이 여기에서 GPT는 텍스트를 입력받아 특징(feature)을 추출하는 것이며, 일종의 \"인코딩\" 입니다.\n",
    "        # 즉, GPT 모델은 텍스트 입력을 받아 고차원의 표현(representation)으로 변환하는 역할 입니다.\n",
    "        self.gpt = pretrained_model\n",
    "\n",
    "        # openai-gpt 모델의 hidden size는 768.\n",
    "        # AG news dataset 의 카테고리는 4개.\n",
    "        self.classifier = nn.Linear(768, 4)\n",
    "\n",
    "    def forward(self, inputs, attention_masks):\n",
    "        # x.shape: (batch_size, seq_len)\n",
    "        x = self.gpt(\n",
    "            inputs, attention_mask=attention_masks\n",
    "        ).last_hidden_state  # x.shape: (batch_size, seq_len, hidden_size)\n",
    "        # GPT 는 이전 토큰들의 정보를 누적하여 다음 토큰을 예측하므로,\n",
    "        # 마지막 토큰이 전체 시퀀스의 정보를 압축하고 있다고 볼 수 있습니다.\n",
    "        x = x[:, -1]  # x.shape: (batch_size, hidden_size)\n",
    "        x = self.classifier(x)  # x.shape: (batch_size, 4)\n",
    "        return x"
   ]
  },
  {
   "cell_type": "code",
   "execution_count": 8,
   "metadata": {},
   "outputs": [
    {
     "data": {
      "text/plain": [
       "device(type='mps')"
      ]
     },
     "execution_count": 8,
     "metadata": {},
     "output_type": "execute_result"
    }
   ],
   "source": [
    "if torch.backends.mps.is_available():\n",
    "    my_device = torch.device(\"mps\")\n",
    "elif torch.cuda.is_available():\n",
    "    my_device = torch.device(\"cuda\")\n",
    "else:\n",
    "    my_device = torch.device(\"cpu\")\n",
    "my_device"
   ]
  },
  {
   "cell_type": "code",
   "execution_count": 9,
   "metadata": {},
   "outputs": [
    {
     "data": {
      "text/plain": [
       "NewsClassifier(\n",
       "  (gpt): OpenAIGPTModel(\n",
       "    (tokens_embed): Embedding(40478, 768)\n",
       "    (positions_embed): Embedding(512, 768)\n",
       "    (drop): Dropout(p=0.1, inplace=False)\n",
       "    (h): ModuleList(\n",
       "      (0-11): 12 x Block(\n",
       "        (attn): Attention(\n",
       "          (c_attn): Conv1D()\n",
       "          (c_proj): Conv1D()\n",
       "          (attn_dropout): Dropout(p=0.1, inplace=False)\n",
       "          (resid_dropout): Dropout(p=0.1, inplace=False)\n",
       "        )\n",
       "        (ln_1): LayerNorm((768,), eps=1e-05, elementwise_affine=True)\n",
       "        (mlp): MLP(\n",
       "          (c_fc): Conv1D()\n",
       "          (c_proj): Conv1D()\n",
       "          (act): NewGELUActivation()\n",
       "          (dropout): Dropout(p=0.1, inplace=False)\n",
       "        )\n",
       "        (ln_2): LayerNorm((768,), eps=1e-05, elementwise_affine=True)\n",
       "      )\n",
       "    )\n",
       "  )\n",
       "  (classifier): Linear(in_features=768, out_features=4, bias=True)\n",
       ")"
      ]
     },
     "execution_count": 9,
     "metadata": {},
     "output_type": "execute_result"
    }
   ],
   "source": [
    "classifier_model = NewsClassifier(openai_gpt).to(my_device)\n",
    "classifier_model"
   ]
  },
  {
   "cell_type": "markdown",
   "metadata": {},
   "source": [
    "openai_gpt 의 parameters 를 고정하고, classifier 의 parameters 만 학습하도록 합니다."
   ]
  },
  {
   "cell_type": "code",
   "execution_count": 10,
   "metadata": {},
   "outputs": [],
   "source": [
    "for param in classifier_model.gpt.parameters():\n",
    "    param.requires_grad = False"
   ]
  },
  {
   "cell_type": "markdown",
   "metadata": {},
   "source": [
    "### Accuracy 계산 함수"
   ]
  },
  {
   "cell_type": "code",
   "execution_count": 11,
   "metadata": {},
   "outputs": [],
   "source": [
    "def cal_accuracy(device, model, data_loader):\n",
    "    total = 0\n",
    "    correctness = 0\n",
    "\n",
    "    for data in data_loader:\n",
    "        inputs, masks, labels = data\n",
    "        inputs, masks, labels = inputs.to(device), masks.to(device), labels.to(device)\n",
    "\n",
    "        outputs = model(inputs, masks)\n",
    "        _, predicted = torch.max(outputs.data, 1)\n",
    "\n",
    "        total += labels.size(0)\n",
    "        correctness += (predicted == labels).sum().item()\n",
    "\n",
    "    return correctness / total"
   ]
  },
  {
   "cell_type": "markdown",
   "metadata": {},
   "source": [
    "## 모델 학습"
   ]
  },
  {
   "cell_type": "code",
   "execution_count": 12,
   "metadata": {},
   "outputs": [],
   "source": [
    "optimizer = Adam(classifier_model.parameters(), lr=LEARNING_RATE)\n",
    "criterion = nn.CrossEntropyLoss()"
   ]
  },
  {
   "cell_type": "code",
   "execution_count": 13,
   "metadata": {},
   "outputs": [],
   "source": [
    "train_accuracies = []\n",
    "test_accuracies = []\n",
    "\n",
    "for epoch in range(1):\n",
    "    classifier_model.train()\n",
    "\n",
    "    total_loss = 0.0\n",
    "    start_time = time.time()\n",
    "    for data in train_data_loader:\n",
    "        optimizer.zero_grad()\n",
    "\n",
    "        inputs, attention_masks, labels = data\n",
    "        inputs, attention_masks, labels = (\n",
    "            inputs.to(my_device),\n",
    "            attention_masks.to(my_device),\n",
    "            labels.to(my_device),\n",
    "        )\n",
    "\n",
    "        outputs = classifier_model(inputs, attention_masks)\n",
    "\n",
    "        loss = criterion(outputs, labels)\n",
    "        loss.backward()\n",
    "\n",
    "        optimizer.step()\n",
    "\n",
    "        total_loss += loss.item()\n",
    "\n",
    "    print(\n",
    "        f\"Epoch {epoch+1:3d} | {time.time() - start_time:.2f}s | Total Loss: {total_loss:.4f}\"\n",
    "    )\n",
    "\n",
    "    with torch.no_grad():\n",
    "        classifier_model.eval()\n",
    "\n",
    "        train_accuracy = cal_accuracy(my_device, classifier_model, train_data_loader)\n",
    "        test_accuracy = cal_accuracy(my_device, classifier_model, test_data_loader)\n",
    "\n",
    "        train_accuracies.append(train_accuracy)\n",
    "        test_accuracies.append(test_accuracy)\n",
    "        print(\n",
    "            f\"    ===> Train Accuracy: {train_accuracy:.4f}, Test Accuracy: {test_accuracy:.4f}\"\n",
    "        )"
   ]
  },
  {
   "cell_type": "code",
   "execution_count": null,
   "metadata": {},
   "outputs": [],
   "source": [
    "import numpy as np\n",
    "import matplotlib.pyplot as plt\n",
    "\n",
    "plt.figure(figsize=(10, 8))\n",
    "\n",
    "x_axis = np.arange(len(train_accuracies))\n",
    "plt.plot(x_axis, train_accuracies, label=\"Training Accuracy\")\n",
    "plt.plot(x_axis, test_accuracies, label=\"Test Accuracy\")\n",
    "\n",
    "plt.legend()\n",
    "\n",
    "plt.ylim([0, 1])\n",
    "plt.ylabel(\"Accuracy\")\n",
    "plt.xlabel(\"Epochs\")\n",
    "\n",
    "plt.show()"
   ]
  }
 ],
 "metadata": {
  "kernelspec": {
   "display_name": "deeplearning",
   "language": "python",
   "name": "python3"
  },
  "language_info": {
   "codemirror_mode": {
    "name": "ipython",
    "version": 3
   },
   "file_extension": ".py",
   "mimetype": "text/x-python",
   "name": "python",
   "nbconvert_exporter": "python",
   "pygments_lexer": "ipython3",
   "version": "3.11.9"
  }
 },
 "nbformat": 4,
 "nbformat_minor": 2
}
