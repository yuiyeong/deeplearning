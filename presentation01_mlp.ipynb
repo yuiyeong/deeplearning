{
 "cells": [
  {
   "metadata": {},
   "cell_type": "markdown",
   "source": [
    "# Multi-Layer Perceptron\n",
    "- 학자들은 비선형적인 모델을 만들기 위해 다음과 같은 형태의 함수를 제안했습니다\n",
    "$$\n",
    "f(x_i) = W_2\\textrm{ReLU}(W_1x_i^T + b_1^T) + b_2.\n",
    "$$\n",
    "\n",
    "- 여기서 새롭게 제안된 parameter들의 차원은 다음과 같습니다\n",
    "    - $W_2 \\in \\mathbb{R}^{d' \\times d}$\n",
    "    - $W_1 \\in \\mathbb{R}^{d’}$\n",
    "    - $b_1 \\in \\mathbb{R}^{d'}$\n",
    "    - $b_2 \\in \\mathbb{R}$($d'$은 우리가 임의로 정하는 값입니다) \n",
    "\n",
    "- 새롭게 제안된 함수의 형태를 자세히 살펴보시면 linear regression 모델에서 사용하던 1차 함수 $Wx_i^T + b$를 두 번 쌓은 형태와 유사하다는 것을 알 수 있습니다. \n",
    "- 차이점은 중간의 $\\textrm{ReLU}(\\cdot)$ 함수입니다. \n",
    "- $\\textrm{ReLU}(\\cdot)$는 다음과 같이 정의합니다:\n",
    "$$\n",
    "\\textrm{ReLU}(x) = \\begin{cases} x & x > 0, \\\\ 0 & \\textrm{otherwise}.\\end{cases}\n",
    "$$\n",
    "\n",
    "- 이렇게 linear regression 모델을 여러 개 쌓으면서 ReLU를 추가한 모델을 multi-layer perceptron(MLP)이라고 부릅니다.\n",
    "- MLP는 다음과 같은 장점들이 있습니다\n",
    "    1. **비선형 data 처리 가능:** 중간에 비선형 함수인 ReLU를 추가함으로써 비선형 data를 처리할 수 있게 됩니다.\n",
    "    2. **복잡한 형태의 data 처리 가능:** linear regression 모델 하나가 아니라 여러 개를 쌓음으로써 훨씬 복잡한 형태의 data도 처리할 수 있는 expressivity(표현력)을 가집니다."
   ],
   "id": "45a5ebb39e3407b"
  },
  {
   "cell_type": "code",
   "id": "initial_id",
   "metadata": {
    "collapsed": true,
    "ExecuteTime": {
     "end_time": "2024-09-10T11:36:59.932152Z",
     "start_time": "2024-09-10T11:36:59.427449Z"
    }
   },
   "source": [
    "import torch\n",
    "import numpy as np\n",
    "import random\n",
    "\n",
    "seed = 7777\n",
    "random.seed(seed)\n",
    "\n",
    "np.random.seed(seed)\n",
    "torch.manual_seed(seed)\n",
    "if torch.backends.mps.is_available():  # for Apple Silicon\n",
    "    torch.mps.manual_seed(seed)\n",
    "elif torch.cuda.is_available():  # for CUDA\n",
    "    torch.cuda.manual_seed_all(seed)\n",
    "else:\n",
    "    pass\n",
    "torch.backends.cudnn.deterministic = True\n",
    "torch.backends.cudnn.benchmark = False"
   ],
   "outputs": [],
   "execution_count": 1
  },
  {
   "metadata": {
    "ExecuteTime": {
     "end_time": "2024-09-10T11:36:59.937115Z",
     "start_time": "2024-09-10T11:36:59.935148Z"
    }
   },
   "cell_type": "code",
   "source": [
    "# XOR data\n",
    "x = torch.tensor(\n",
    "    [\n",
    "        [0.0, 0.0],\n",
    "        [0.0, 1.0],\n",
    "        [1.0, 0.0],\n",
    "        [1.0, 1.0],\n",
    "    ]\n",
    ")\n",
    "y = torch.tensor([0, 1, 1, 0])\n",
    "print(x.shape, y.shape)"
   ],
   "id": "11fa91a420d8782d",
   "outputs": [
    {
     "name": "stdout",
     "output_type": "stream",
     "text": [
      "torch.Size([4, 2]) torch.Size([4])\n"
     ]
    }
   ],
   "execution_count": 2
  },
  {
   "metadata": {},
   "cell_type": "markdown",
   "source": [
    "- PyTorch에서는 우리가 학습하고자 하는 함수 $f$를 보통 `torch.nn.Module` class 를 상속받은 class 로 구현합니다.\n",
    "- `torch.nn.Module` class 는 abstract class 로, `def forward`를 구현하도록 abstractmethod 를 제공합니다. 이 method는 $f(x)$, 즉 함수의 출력에 해당됩니다.\n",
    "- `PyTorch` 에서는 선형함수를 `torch.nn.Linear` class로 구현할 수 있습니다.\n",
    "- 마찬가지로 `ReLU` 도 `torch.nn.ReLU`로 제공하고 있습니다.\n",
    "    - ReLU (Rectified Linear Unit) 활성화 함수는 요소별(element-wise) 연산입니다.\n",
    "    - 이는 입력 텐서의 각 원소에 독립적으로 적용되며, 텐서의 형상(shape)을 변경하지 않습니다.\n",
    "\n",
    "위의 점들을 활용하여 2-layer MLP 구현해 봅니다."
   ],
   "id": "b521c8a635e4278c"
  },
  {
   "metadata": {
    "ExecuteTime": {
     "end_time": "2024-09-10T11:37:00.013417Z",
     "start_time": "2024-09-10T11:37:00.011272Z"
    }
   },
   "cell_type": "code",
   "source": [
    "from torch import nn\n",
    "\n",
    "\n",
    "class Model(nn.Module):\n",
    "    def __init__(self, dim, dim_prime):\n",
    "        super(Model, self).__init__()\n",
    "        self.layer1 = nn.Linear(dim, dim_prime)\n",
    "        self.layer2 = nn.Linear(dim_prime, 1)\n",
    "        self.act = nn.ReLU()\n",
    "\n",
    "    def forward(self, x):\n",
    "        # x: (n, d)\n",
    "        x = self.layer1(x)  # (n, d_prime)\n",
    "        x = self.act(x)  # (n, d_prime)\n",
    "        x = self.layer2(x)  # (n, 1)\n",
    "        return x"
   ],
   "id": "545c233e34d563fa",
   "outputs": [],
   "execution_count": 3
  },
  {
   "metadata": {
    "ExecuteTime": {
     "end_time": "2024-09-10T11:37:00.019053Z",
     "start_time": "2024-09-10T11:37:00.017410Z"
    }
   },
   "cell_type": "code",
   "source": "model = Model(2, 10)",
   "id": "18d6b4f3e938bf19",
   "outputs": [],
   "execution_count": 4
  },
  {
   "metadata": {},
   "cell_type": "markdown",
   "source": [
    "- PyTorch 는 다양한 update 알고리즘들을 torch.optim 에서 제공합니다.\n",
    "- gradient descent 종류인 SGD 를 import 합니다.\n",
    "- `SGD`는 첫 번째 인자로 업데이트를 할 parameter들의 list를 받습니다. 예를 들어 선형 함수에서의 $w, b$가 있습니다.\n",
    "- PyTorch의 `nn.Module` class는 이러한 것들을 잘 정의해주기 때문에 `model.parameters()`의 형식으로 넘겨주기만 하면 됩니다.\n",
    "- 두 번째 인자는 learning rate로, 이전의 gradient descent에서 사용하던 learning rate와 똑같은 역할을 가지고 있습니다."
   ],
   "id": "878f09ea4277ae29"
  },
  {
   "metadata": {
    "ExecuteTime": {
     "end_time": "2024-09-10T11:37:00.235865Z",
     "start_time": "2024-09-10T11:37:00.023059Z"
    }
   },
   "cell_type": "code",
   "source": [
    "from torch.optim import SGD\n",
    "\n",
    "optimizer = SGD(model.parameters(), lr=0.1)"
   ],
   "id": "833875739111b9e9",
   "outputs": [],
   "execution_count": 5
  },
  {
   "metadata": {
    "ExecuteTime": {
     "end_time": "2024-09-10T11:37:00.242327Z",
     "start_time": "2024-09-10T11:37:00.240456Z"
    }
   },
   "cell_type": "code",
   "source": [
    "def train(n_epochs, model, optimizer, x, y):\n",
    "    for epoch in range(n_epochs):\n",
    "        model.zero_grad()  # 각 parameter 의 gradient 값이 저장되어 있을 수도 있기 때문에 지워줌\n",
    "\n",
    "        y_pred = model(x)\n",
    "        loss = (y_pred[:, 0] - y).pow(2).mean()  # MSE\n",
    "        loss.backward()  # model 에 있는 모든 parameter 들의 loss 에 대한 gradient 를 계산\n",
    "        optimizer.step()  # 마지막으로 계산한 gradient 들을 가지고 parameter 들을 update\n",
    "\n",
    "        print(\"Epoch\", epoch, \"| Loss:\", loss.item())\n",
    "    return model"
   ],
   "id": "32312cfc926c75b4",
   "outputs": [],
   "execution_count": 6
  },
  {
   "metadata": {
    "ExecuteTime": {
     "end_time": "2024-09-10T11:37:00.257617Z",
     "start_time": "2024-09-10T11:37:00.246660Z"
    }
   },
   "cell_type": "code",
   "source": [
    "n_epochs = 100\n",
    "model = train(n_epochs, model, optimizer, x, y)"
   ],
   "id": "54f4337f3e86ce77",
   "outputs": [
    {
     "name": "stdout",
     "output_type": "stream",
     "text": [
      "Epoch 0 | Loss: 0.7031159996986389\n",
      "Epoch 1 | Loss: 0.3746700882911682\n",
      "Epoch 2 | Loss: 0.28557640314102173\n",
      "Epoch 3 | Loss: 0.2580499053001404\n",
      "Epoch 4 | Loss: 0.24765610694885254\n",
      "Epoch 5 | Loss: 0.2419496476650238\n",
      "Epoch 6 | Loss: 0.2375085949897766\n",
      "Epoch 7 | Loss: 0.2334129810333252\n",
      "Epoch 8 | Loss: 0.2302556037902832\n",
      "Epoch 9 | Loss: 0.22699156403541565\n",
      "Epoch 10 | Loss: 0.22379432618618011\n",
      "Epoch 11 | Loss: 0.22100991010665894\n",
      "Epoch 12 | Loss: 0.21813759207725525\n",
      "Epoch 13 | Loss: 0.21524953842163086\n",
      "Epoch 14 | Loss: 0.212436705827713\n",
      "Epoch 15 | Loss: 0.21015748381614685\n",
      "Epoch 16 | Loss: 0.20739459991455078\n",
      "Epoch 17 | Loss: 0.20466530323028564\n",
      "Epoch 18 | Loss: 0.20203252136707306\n",
      "Epoch 19 | Loss: 0.1998952031135559\n",
      "Epoch 20 | Loss: 0.1972479224205017\n",
      "Epoch 21 | Loss: 0.19462470710277557\n",
      "Epoch 22 | Loss: 0.19202420115470886\n",
      "Epoch 23 | Loss: 0.1900540143251419\n",
      "Epoch 24 | Loss: 0.18754437565803528\n",
      "Epoch 25 | Loss: 0.18509270250797272\n",
      "Epoch 26 | Loss: 0.18265295028686523\n",
      "Epoch 27 | Loss: 0.18056875467300415\n",
      "Epoch 28 | Loss: 0.17845745384693146\n",
      "Epoch 29 | Loss: 0.17608436942100525\n",
      "Epoch 30 | Loss: 0.17368397116661072\n",
      "Epoch 31 | Loss: 0.17129722237586975\n",
      "Epoch 32 | Loss: 0.16954034566879272\n",
      "Epoch 33 | Loss: 0.16724856197834015\n",
      "Epoch 34 | Loss: 0.16489551961421967\n",
      "Epoch 35 | Loss: 0.1625843346118927\n",
      "Epoch 36 | Loss: 0.1602751910686493\n",
      "Epoch 37 | Loss: 0.15864072740077972\n",
      "Epoch 38 | Loss: 0.15639781951904297\n",
      "Epoch 39 | Loss: 0.15411905944347382\n",
      "Epoch 40 | Loss: 0.15186387300491333\n",
      "Epoch 41 | Loss: 0.1496327966451645\n",
      "Epoch 42 | Loss: 0.14786511659622192\n",
      "Epoch 43 | Loss: 0.1459665149450302\n",
      "Epoch 44 | Loss: 0.14378997683525085\n",
      "Epoch 45 | Loss: 0.14164283871650696\n",
      "Epoch 46 | Loss: 0.13952475786209106\n",
      "Epoch 47 | Loss: 0.13743606209754944\n",
      "Epoch 48 | Loss: 0.1359618455171585\n",
      "Epoch 49 | Loss: 0.13406570255756378\n",
      "Epoch 50 | Loss: 0.13203825056552887\n",
      "Epoch 51 | Loss: 0.13004370033740997\n",
      "Epoch 52 | Loss: 0.1280805617570877\n",
      "Epoch 53 | Loss: 0.1262603998184204\n",
      "Epoch 54 | Loss: 0.12449251115322113\n",
      "Epoch 55 | Loss: 0.12266930937767029\n",
      "Epoch 56 | Loss: 0.12145538628101349\n",
      "Epoch 57 | Loss: 0.11959833651781082\n",
      "Epoch 58 | Loss: 0.11802465468645096\n",
      "Epoch 59 | Loss: 0.1163574606180191\n",
      "Epoch 60 | Loss: 0.11469985544681549\n",
      "Epoch 61 | Loss: 0.1129990816116333\n",
      "Epoch 62 | Loss: 0.11172494292259216\n",
      "Epoch 63 | Loss: 0.11008720099925995\n",
      "Epoch 64 | Loss: 0.10850884020328522\n",
      "Epoch 65 | Loss: 0.1068347692489624\n",
      "Epoch 66 | Loss: 0.10564430058002472\n",
      "Epoch 67 | Loss: 0.10472410917282104\n",
      "Epoch 68 | Loss: 0.10300779342651367\n",
      "Epoch 69 | Loss: 0.10131221264600754\n",
      "Epoch 70 | Loss: 0.09964819252490997\n",
      "Epoch 71 | Loss: 0.09817345440387726\n",
      "Epoch 72 | Loss: 0.09677405655384064\n",
      "Epoch 73 | Loss: 0.09520331025123596\n",
      "Epoch 74 | Loss: 0.09360364824533463\n",
      "Epoch 75 | Loss: 0.09205745160579681\n",
      "Epoch 76 | Loss: 0.09057611227035522\n",
      "Epoch 77 | Loss: 0.08927111327648163\n",
      "Epoch 78 | Loss: 0.08771513402462006\n",
      "Epoch 79 | Loss: 0.08615045994520187\n",
      "Epoch 80 | Loss: 0.08511292189359665\n",
      "Epoch 81 | Loss: 0.08363615721464157\n",
      "Epoch 82 | Loss: 0.0820966437458992\n",
      "Epoch 83 | Loss: 0.08065919578075409\n",
      "Epoch 84 | Loss: 0.07901594042778015\n",
      "Epoch 85 | Loss: 0.07738304138183594\n",
      "Epoch 86 | Loss: 0.07577154785394669\n",
      "Epoch 87 | Loss: 0.07423991709947586\n",
      "Epoch 88 | Loss: 0.0727374255657196\n",
      "Epoch 89 | Loss: 0.07134972512722015\n",
      "Epoch 90 | Loss: 0.06984131038188934\n",
      "Epoch 91 | Loss: 0.06825494021177292\n",
      "Epoch 92 | Loss: 0.06672003865242004\n",
      "Epoch 93 | Loss: 0.06513901799917221\n",
      "Epoch 94 | Loss: 0.06414751708507538\n",
      "Epoch 95 | Loss: 0.06260984390974045\n",
      "Epoch 96 | Loss: 0.06178160756826401\n",
      "Epoch 97 | Loss: 0.06031564623117447\n",
      "Epoch 98 | Loss: 0.058704935014247894\n",
      "Epoch 99 | Loss: 0.05789970979094505\n"
     ]
    }
   ],
   "execution_count": 7
  },
  {
   "metadata": {
    "ExecuteTime": {
     "end_time": "2024-09-10T11:39:05.098809Z",
     "start_time": "2024-09-10T11:39:05.094492Z"
    }
   },
   "cell_type": "code",
   "source": [
    "print(model(x))\n",
    "print(y)"
   ],
   "id": "40a09a6aa38b3cce",
   "outputs": [
    {
     "name": "stdout",
     "output_type": "stream",
     "text": [
      "tensor([[0.0792],\n",
      "        [0.9372],\n",
      "        [0.6231],\n",
      "        [0.2702]], grad_fn=<AddmmBackward0>)\n",
      "tensor([0, 1, 1, 0])\n"
     ]
    }
   ],
   "execution_count": 8
  },
  {
   "metadata": {
    "ExecuteTime": {
     "end_time": "2024-09-10T11:37:00.269850Z",
     "start_time": "2024-09-10T11:37:00.268615Z"
    }
   },
   "cell_type": "code",
   "source": "",
   "id": "e228fd250ac95a9e",
   "outputs": [],
   "execution_count": null
  },
  {
   "metadata": {
    "ExecuteTime": {
     "end_time": "2024-09-10T11:37:00.279596Z",
     "start_time": "2024-09-10T11:37:00.278242Z"
    }
   },
   "cell_type": "code",
   "source": "",
   "id": "18075fea8c64b0a7",
   "outputs": [],
   "execution_count": null
  },
  {
   "metadata": {
    "ExecuteTime": {
     "end_time": "2024-09-10T11:37:00.289810Z",
     "start_time": "2024-09-10T11:37:00.288573Z"
    }
   },
   "cell_type": "code",
   "source": "",
   "id": "7f2789a4eca786ab",
   "outputs": [],
   "execution_count": null
  },
  {
   "metadata": {
    "ExecuteTime": {
     "end_time": "2024-09-10T11:37:00.299570Z",
     "start_time": "2024-09-10T11:37:00.298301Z"
    }
   },
   "cell_type": "code",
   "source": "",
   "id": "f7acb56766bfbce5",
   "outputs": [],
   "execution_count": null
  },
  {
   "metadata": {
    "ExecuteTime": {
     "end_time": "2024-09-10T11:37:00.309189Z",
     "start_time": "2024-09-10T11:37:00.307953Z"
    }
   },
   "cell_type": "code",
   "source": "",
   "id": "fcaa60571f075e0d",
   "outputs": [],
   "execution_count": null
  },
  {
   "metadata": {
    "ExecuteTime": {
     "end_time": "2024-09-10T11:37:00.321041Z",
     "start_time": "2024-09-10T11:37:00.319831Z"
    }
   },
   "cell_type": "code",
   "source": "",
   "id": "349f13c29ba2b37f",
   "outputs": [],
   "execution_count": null
  },
  {
   "metadata": {
    "ExecuteTime": {
     "end_time": "2024-09-10T11:37:00.326816Z",
     "start_time": "2024-09-10T11:37:00.325635Z"
    }
   },
   "cell_type": "code",
   "source": "",
   "id": "4beb7e36c2f31ad9",
   "outputs": [],
   "execution_count": null
  },
  {
   "metadata": {
    "ExecuteTime": {
     "end_time": "2024-09-10T11:37:00.335048Z",
     "start_time": "2024-09-10T11:37:00.333730Z"
    }
   },
   "cell_type": "code",
   "source": "",
   "id": "3659ca947228497b",
   "outputs": [],
   "execution_count": null
  },
  {
   "metadata": {
    "ExecuteTime": {
     "end_time": "2024-09-10T11:37:00.343745Z",
     "start_time": "2024-09-10T11:37:00.342540Z"
    }
   },
   "cell_type": "code",
   "source": "",
   "id": "a186d3cb97bc2fc0",
   "outputs": [],
   "execution_count": null
  },
  {
   "metadata": {
    "ExecuteTime": {
     "end_time": "2024-09-10T11:37:00.353611Z",
     "start_time": "2024-09-10T11:37:00.352407Z"
    }
   },
   "cell_type": "code",
   "source": "",
   "id": "fce97cf87e75ca6b",
   "outputs": [],
   "execution_count": null
  }
 ],
 "metadata": {
  "kernelspec": {
   "display_name": "Python 3",
   "language": "python",
   "name": "python3"
  },
  "language_info": {
   "codemirror_mode": {
    "name": "ipython",
    "version": 2
   },
   "file_extension": ".py",
   "mimetype": "text/x-python",
   "name": "python",
   "nbconvert_exporter": "python",
   "pygments_lexer": "ipython2",
   "version": "2.7.6"
  }
 },
 "nbformat": 4,
 "nbformat_minor": 5
}
